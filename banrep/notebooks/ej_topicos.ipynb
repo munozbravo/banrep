{
 "cells": [
  {
   "cell_type": "code",
   "execution_count": 1,
   "metadata": {},
   "outputs": [],
   "source": [
    "# Otras librerías utilizadas en este ejemplo.\n",
    "\n",
    "from pathlib import Path\n",
    "\n",
    "import pandas as pd\n",
    "import spacy"
   ]
  },
  {
   "cell_type": "code",
   "execution_count": 2,
   "metadata": {},
   "outputs": [],
   "source": [
    "# Principales objetos de banrep necesarios para ejemplo tópicos.\n",
    "\n",
    "from banrep.corpus import MiCorpus\n",
    "from banrep.diagnosticos import docs_topicos, topico_dominante, palabras_probables\n",
    "from banrep.diagnosticos import corpus_stats, corpus_tokens\n",
    "from banrep.io import Textos, leer_palabras\n",
    "from banrep.topicos import crear_ldas, calcular_coherencias\n",
    "from banrep.utils import crear_directorio"
   ]
  },
  {
   "cell_type": "code",
   "execution_count": null,
   "metadata": {},
   "outputs": [],
   "source": []
  },
  {
   "cell_type": "code",
   "execution_count": 3,
   "metadata": {},
   "outputs": [],
   "source": [
    "# Inicializar un modelo spacy, en este caso español mediano.\n",
    "\n",
    "nlp = spacy.load('es_core_news_md')"
   ]
  },
  {
   "cell_type": "code",
   "execution_count": 4,
   "metadata": {},
   "outputs": [],
   "source": [
    "# Uso de función: leer_palabras\n",
    "# Definir variables a usar como filtros en la creación de corpus.\n",
    "# Stopwords ubicadas en hoja \"banrep_es\" de archivo excel.\n",
    "# Columna \"type\" determina el grupo y \"word\" las palabras.\n",
    "\n",
    "pathstops = '/Users/tombito/Dropbox/datasets/wordlists/stopwords.xlsx'\n",
    "palabras = leer_palabras(pathstops, 'banrep_es', col_grupo=\"type\", col_palabras=\"word\")\n",
    "stops = palabras.get(\"stopword\")\n",
    "\n",
    "tags = ['NUM', 'PUNCT', 'SYM']\n",
    "\n",
    "filtros = dict(stopwords=stops, postags=tags, entities=None, is_alpha=True)"
   ]
  },
  {
   "cell_type": "code",
   "execution_count": 5,
   "metadata": {},
   "outputs": [
    {
     "name": "stdout",
     "output_type": "stream",
     "text": [
      "1899 palabras en grupo deterioro\n",
      "359 palabras en grupo mejora\n"
     ]
    }
   ],
   "source": [
    "# Uso de función: leer_palabras\n",
    "# Definir listas de palabras (wordlists) cuya presencia se quiere evaluar en los textos.\n",
    "# En este ejemplo, listas de palabras que representan \"mejora\" y \"deterioro\".\n",
    "# Palabras ubicadas en columna \"word\" de hoja BANREP de archivo excel, agrupadas por columna \"type\".\n",
    "\n",
    "pathwl = '/Users/tombito/Dropbox/datasets/wordlists/sentimiento.xlsx'\n",
    "wordlists = leer_palabras(pathwl, 'BANREP', col_grupo=\"type\", col_palabras=\"word\")\n",
    "\n",
    "\n",
    "# Cuantas palabras en cada grupo...\n",
    "\n",
    "for tipo in wordlists:\n",
    "    print(f'{len(wordlists.get(tipo))} palabras en grupo {tipo}')"
   ]
  },
  {
   "cell_type": "code",
   "execution_count": 6,
   "metadata": {},
   "outputs": [
    {
     "name": "stdout",
     "output_type": "stream",
     "text": [
      "Textos de directorio inflacion, 4548 textos leídos.\n"
     ]
    }
   ],
   "source": [
    "# Uso de clase: Textos\n",
    "# Definir los textos a procesar como documentos del corpus (archivos txt).\n",
    "# chars=69 implica que líneas de longitud inferior a 70 caracteres serán excluidas.\n",
    "# parrafos=True implica considerar cada párrafo de cada archivo txt como un documento.\n",
    "\n",
    "dir_datos = Path('../datasets/inflacion/')\n",
    "\n",
    "datos = Textos(dir_datos, aleatorio=False, chars=69, parrafos=True)\n",
    "print(datos)"
   ]
  },
  {
   "cell_type": "code",
   "execution_count": null,
   "metadata": {},
   "outputs": [],
   "source": []
  },
  {
   "cell_type": "code",
   "execution_count": 7,
   "metadata": {},
   "outputs": [
    {
     "name": "stdout",
     "output_type": "stream",
     "text": [
      "Corpus con 4548 docs y 3234 palabras únicas.\n"
     ]
    }
   ],
   "source": [
    "# Uso de clase: MiCorpus\n",
    "# Inicializa corpus con la información requerida.\n",
    "# long=9 implica ignorar frases que tienen menos de 10 tokens.\n",
    "\n",
    "corpus = MiCorpus(nlp, datos=datos, filtros=filtros, long=9, wordlists=wordlists)\n",
    "\n",
    "print(corpus)"
   ]
  },
  {
   "cell_type": "code",
   "execution_count": null,
   "metadata": {},
   "outputs": [],
   "source": []
  },
  {
   "cell_type": "code",
   "execution_count": 8,
   "metadata": {},
   "outputs": [],
   "source": [
    "# Uso de función: crear_ldas\n",
    "# Ejemplo crea modelos de tópicos para 5, 10, y 15 tópicos.\n",
    "# Diferentes parámetros para modelos LDA pueden consultarse en documentación Gensim.\n",
    "# https://radimrehurek.com/gensim/models/ldamodel.html - class gensim.models.ldamodel.LdaModel\n",
    "\n",
    "n_topicos = (5, 10, 15)\n",
    "params = dict(passes=5, alpha='auto', eta='auto', random_state=100)\n",
    "\n",
    "modelos = [lda for lda in crear_ldas(corpus, n_topicos, params)]"
   ]
  },
  {
   "cell_type": "code",
   "execution_count": 9,
   "metadata": {},
   "outputs": [
    {
     "name": "stdout",
     "output_type": "stream",
     "text": [
      "Modelo de 5 tópicos mejor Coherence Score: 0.4730777032986858\n"
     ]
    }
   ],
   "source": [
    "# Uso de función: calcular_coherencias\n",
    "# Calcular Coherence Score de cada modelo para determinar el \"mejor\".\n",
    "# Mayor Coherence Score es mejor modelo.\n",
    "\n",
    "scores = [score for score in calcular_coherencias(modelos, corpus)]\n",
    "\n",
    "mejor_score = max(scores)\n",
    "cual = scores.index(mejor_score)\n",
    "mejor_n = n_topicos[cual]\n",
    "\n",
    "print(f\"Modelo de {mejor_n} tópicos mejor Coherence Score: {mejor_score}\")"
   ]
  },
  {
   "cell_type": "code",
   "execution_count": null,
   "metadata": {},
   "outputs": [],
   "source": []
  },
  {
   "cell_type": "code",
   "execution_count": 10,
   "metadata": {},
   "outputs": [],
   "source": [
    "# Uso de función: crear_directorio\n",
    "# Guardar lo útil: modelos bigramas y trigramas, diccionario.\n",
    "\n",
    "# Crear directorio de salida\n",
    "dir_salida = crear_directorio('topicos')\n",
    "\n",
    "#Guardar modelos de bigramas y trigramas\n",
    "corpus.ngrams.get('bigrams').save(str(dir_salida.joinpath('bigrams')))\n",
    "corpus.ngrams.get('trigrams').save(str(dir_salida.joinpath('trigrams')))\n",
    "\n",
    "# Guardar diccionario\n",
    "corpus.id2word.save(str(dir_salida.joinpath('id2word')))"
   ]
  },
  {
   "cell_type": "code",
   "execution_count": 11,
   "metadata": {},
   "outputs": [],
   "source": [
    "# Guardar mejor modelo de tópicos y su visualización\n",
    "\n",
    "dirtopic = dir_salida.joinpath(f'{mejor_n:0>2}')\n",
    "crear_directorio(dirtopic)\n",
    "\n",
    "modelo = modelos[cual]\n",
    "modelo.save(str(dirtopic.joinpath('topicos.lda')))\n",
    "\n",
    "# En análisis de tópicos se suele usar PyLDAvis para visualizar resultados...\n",
    "# Hay que importar la librería para eso.\n",
    "\n",
    "import warnings\n",
    "\n",
    "import pyLDAvis\n",
    "import pyLDAvis.gensim\n",
    "\n",
    "# Gráfica LDAvis de tópicos y sus palabras\n",
    "\n",
    "bow = list(corpus)\n",
    "with warnings.catch_warnings():\n",
    "    warnings.simplefilter('ignore')\n",
    "    vis = pyLDAvis.gensim.prepare(modelo, bow, corpus.id2word, sort_topics=False)\n",
    "\n",
    "pyLDAvis.save_html(vis, str(dirtopic.joinpath('topicos.html')))"
   ]
  },
  {
   "cell_type": "code",
   "execution_count": null,
   "metadata": {},
   "outputs": [],
   "source": []
  },
  {
   "cell_type": "code",
   "execution_count": 12,
   "metadata": {},
   "outputs": [
    {
     "data": {
      "text/html": [
       "<div>\n",
       "<style scoped>\n",
       "    .dataframe tbody tr th:only-of-type {\n",
       "        vertical-align: middle;\n",
       "    }\n",
       "\n",
       "    .dataframe tbody tr th {\n",
       "        vertical-align: top;\n",
       "    }\n",
       "\n",
       "    .dataframe thead th {\n",
       "        text-align: right;\n",
       "    }\n",
       "</style>\n",
       "<table border=\"1\" class=\"dataframe\">\n",
       "  <thead>\n",
       "    <tr style=\"text-align: right;\">\n",
       "      <th></th>\n",
       "      <th>0</th>\n",
       "      <th>1</th>\n",
       "      <th>2</th>\n",
       "      <th>3</th>\n",
       "      <th>4</th>\n",
       "    </tr>\n",
       "  </thead>\n",
       "  <tbody>\n",
       "    <tr>\n",
       "      <th>d0025p226</th>\n",
       "      <td>0.013295</td>\n",
       "      <td>0.948745</td>\n",
       "      <td>0.016371</td>\n",
       "      <td>0.011316</td>\n",
       "      <td>0.010273</td>\n",
       "    </tr>\n",
       "    <tr>\n",
       "      <th>d0025p227</th>\n",
       "      <td>NaN</td>\n",
       "      <td>NaN</td>\n",
       "      <td>0.926443</td>\n",
       "      <td>0.064076</td>\n",
       "      <td>NaN</td>\n",
       "    </tr>\n",
       "    <tr>\n",
       "      <th>d0025p228</th>\n",
       "      <td>NaN</td>\n",
       "      <td>NaN</td>\n",
       "      <td>0.987917</td>\n",
       "      <td>NaN</td>\n",
       "      <td>NaN</td>\n",
       "    </tr>\n",
       "    <tr>\n",
       "      <th>d0025p229</th>\n",
       "      <td>NaN</td>\n",
       "      <td>NaN</td>\n",
       "      <td>0.984735</td>\n",
       "      <td>NaN</td>\n",
       "      <td>NaN</td>\n",
       "    </tr>\n",
       "    <tr>\n",
       "      <th>d0025p230</th>\n",
       "      <td>NaN</td>\n",
       "      <td>NaN</td>\n",
       "      <td>NaN</td>\n",
       "      <td>0.398867</td>\n",
       "      <td>0.587020</td>\n",
       "    </tr>\n",
       "  </tbody>\n",
       "</table>\n",
       "</div>"
      ],
      "text/plain": [
       "                  0         1         2         3         4\n",
       "d0025p226  0.013295  0.948745  0.016371  0.011316  0.010273\n",
       "d0025p227       NaN       NaN  0.926443  0.064076       NaN\n",
       "d0025p228       NaN       NaN  0.987917       NaN       NaN\n",
       "d0025p229       NaN       NaN  0.984735       NaN       NaN\n",
       "d0025p230       NaN       NaN       NaN  0.398867  0.587020"
      ]
     },
     "execution_count": 12,
     "metadata": {},
     "output_type": "execute_result"
    }
   ],
   "source": [
    "# Uso de función: docs_topicos\n",
    "# Usemos el mejor modelo para ver...\n",
    "# Distribución de probabilidad de tópicos en cada documento...\n",
    "\n",
    "doctopics = docs_topicos(modelo, corpus)\n",
    "\n",
    "doctopics.tail()"
   ]
  },
  {
   "cell_type": "code",
   "execution_count": 13,
   "metadata": {},
   "outputs": [
    {
     "data": {
      "text/html": [
       "<div>\n",
       "<style scoped>\n",
       "    .dataframe tbody tr th:only-of-type {\n",
       "        vertical-align: middle;\n",
       "    }\n",
       "\n",
       "    .dataframe tbody tr th {\n",
       "        vertical-align: top;\n",
       "    }\n",
       "\n",
       "    .dataframe thead th {\n",
       "        text-align: right;\n",
       "    }\n",
       "</style>\n",
       "<table border=\"1\" class=\"dataframe\">\n",
       "  <thead>\n",
       "    <tr style=\"text-align: right;\">\n",
       "      <th></th>\n",
       "      <th>topico</th>\n",
       "      <th>docs</th>\n",
       "    </tr>\n",
       "  </thead>\n",
       "  <tbody>\n",
       "    <tr>\n",
       "      <th>0</th>\n",
       "      <td>2</td>\n",
       "      <td>0.2511</td>\n",
       "    </tr>\n",
       "    <tr>\n",
       "      <th>1</th>\n",
       "      <td>0</td>\n",
       "      <td>0.2322</td>\n",
       "    </tr>\n",
       "    <tr>\n",
       "      <th>2</th>\n",
       "      <td>1</td>\n",
       "      <td>0.2234</td>\n",
       "    </tr>\n",
       "    <tr>\n",
       "      <th>3</th>\n",
       "      <td>4</td>\n",
       "      <td>0.1882</td>\n",
       "    </tr>\n",
       "    <tr>\n",
       "      <th>4</th>\n",
       "      <td>3</td>\n",
       "      <td>0.1051</td>\n",
       "    </tr>\n",
       "  </tbody>\n",
       "</table>\n",
       "</div>"
      ],
      "text/plain": [
       "   topico    docs\n",
       "0       2  0.2511\n",
       "1       0  0.2322\n",
       "2       1  0.2234\n",
       "3       4  0.1882\n",
       "4       3  0.1051"
      ]
     },
     "execution_count": 13,
     "metadata": {},
     "output_type": "execute_result"
    }
   ],
   "source": [
    "# Uso de función: topico_dominante\n",
    "# Cada tópico es dominante en cuantos documentos?\n",
    "# Tópico 7 es el de mayor probabilidad en el 15% de los documentos...\n",
    "\n",
    "dominante = topico_dominante(doctopics)\n",
    "\n",
    "dominante.head()"
   ]
  },
  {
   "cell_type": "code",
   "execution_count": null,
   "metadata": {},
   "outputs": [],
   "source": []
  },
  {
   "cell_type": "code",
   "execution_count": 14,
   "metadata": {},
   "outputs": [
    {
     "data": {
      "text/html": [
       "<div>\n",
       "<style scoped>\n",
       "    .dataframe tbody tr th:only-of-type {\n",
       "        vertical-align: middle;\n",
       "    }\n",
       "\n",
       "    .dataframe tbody tr th {\n",
       "        vertical-align: top;\n",
       "    }\n",
       "\n",
       "    .dataframe thead th {\n",
       "        text-align: right;\n",
       "    }\n",
       "</style>\n",
       "<table border=\"1\" class=\"dataframe\">\n",
       "  <thead>\n",
       "    <tr style=\"text-align: right;\">\n",
       "      <th></th>\n",
       "      <th>palabra</th>\n",
       "      <th>probabilidad</th>\n",
       "      <th>topico</th>\n",
       "    </tr>\n",
       "  </thead>\n",
       "  <tbody>\n",
       "    <tr>\n",
       "      <th>0</th>\n",
       "      <td>inflación</td>\n",
       "      <td>0.033681</td>\n",
       "      <td>2</td>\n",
       "    </tr>\n",
       "    <tr>\n",
       "      <th>1</th>\n",
       "      <td>pronósticos</td>\n",
       "      <td>0.012194</td>\n",
       "      <td>2</td>\n",
       "    </tr>\n",
       "    <tr>\n",
       "      <th>2</th>\n",
       "      <td>pronóstico</td>\n",
       "      <td>0.010738</td>\n",
       "      <td>2</td>\n",
       "    </tr>\n",
       "    <tr>\n",
       "      <th>3</th>\n",
       "      <td>tasas_interés</td>\n",
       "      <td>0.009935</td>\n",
       "      <td>2</td>\n",
       "    </tr>\n",
       "    <tr>\n",
       "      <th>4</th>\n",
       "      <td>expectativas</td>\n",
       "      <td>0.009268</td>\n",
       "      <td>2</td>\n",
       "    </tr>\n",
       "  </tbody>\n",
       "</table>\n",
       "</div>"
      ],
      "text/plain": [
       "         palabra  probabilidad  topico\n",
       "0      inflación      0.033681       2\n",
       "1    pronósticos      0.012194       2\n",
       "2     pronóstico      0.010738       2\n",
       "3  tasas_interés      0.009935       2\n",
       "4   expectativas      0.009268       2"
      ]
     },
     "execution_count": 14,
     "metadata": {},
     "output_type": "execute_result"
    }
   ],
   "source": [
    "# Uso de función: palabras_probables\n",
    "# Cuales son las palabras más probables en cada uno de los tópicos dominantes...\n",
    "\n",
    "dfs = []\n",
    "for topico in dominante['topico']:\n",
    "    df = palabras_probables(modelo, topico, n=20)\n",
    "    dfs.append(df)\n",
    "\n",
    "palabras = pd.concat(dfs, ignore_index=True)\n",
    "\n",
    "palabras.head()"
   ]
  },
  {
   "cell_type": "code",
   "execution_count": 15,
   "metadata": {},
   "outputs": [
    {
     "data": {
      "text/html": [
       "<div>\n",
       "<style scoped>\n",
       "    .dataframe tbody tr th:only-of-type {\n",
       "        vertical-align: middle;\n",
       "    }\n",
       "\n",
       "    .dataframe tbody tr th {\n",
       "        vertical-align: top;\n",
       "    }\n",
       "\n",
       "    .dataframe thead th {\n",
       "        text-align: right;\n",
       "    }\n",
       "</style>\n",
       "<table border=\"1\" class=\"dataframe\">\n",
       "  <thead>\n",
       "    <tr style=\"text-align: right;\">\n",
       "      <th></th>\n",
       "      <th>doc_id</th>\n",
       "      <th>archivo</th>\n",
       "      <th>fuente</th>\n",
       "      <th>frases</th>\n",
       "      <th>palabras</th>\n",
       "    </tr>\n",
       "  </thead>\n",
       "  <tbody>\n",
       "    <tr>\n",
       "      <th>4543</th>\n",
       "      <td>d0025p226</td>\n",
       "      <td>2004-12.txt</td>\n",
       "      <td>inflacion</td>\n",
       "      <td>1</td>\n",
       "      <td>10</td>\n",
       "    </tr>\n",
       "    <tr>\n",
       "      <th>4544</th>\n",
       "      <td>d0025p227</td>\n",
       "      <td>2004-12.txt</td>\n",
       "      <td>inflacion</td>\n",
       "      <td>2</td>\n",
       "      <td>40</td>\n",
       "    </tr>\n",
       "    <tr>\n",
       "      <th>4545</th>\n",
       "      <td>d0025p228</td>\n",
       "      <td>2004-12.txt</td>\n",
       "      <td>inflacion</td>\n",
       "      <td>2</td>\n",
       "      <td>39</td>\n",
       "    </tr>\n",
       "    <tr>\n",
       "      <th>4546</th>\n",
       "      <td>d0025p229</td>\n",
       "      <td>2004-12.txt</td>\n",
       "      <td>inflacion</td>\n",
       "      <td>3</td>\n",
       "      <td>32</td>\n",
       "    </tr>\n",
       "    <tr>\n",
       "      <th>4547</th>\n",
       "      <td>d0025p230</td>\n",
       "      <td>2004-12.txt</td>\n",
       "      <td>inflacion</td>\n",
       "      <td>3</td>\n",
       "      <td>31</td>\n",
       "    </tr>\n",
       "  </tbody>\n",
       "</table>\n",
       "</div>"
      ],
      "text/plain": [
       "         doc_id      archivo     fuente  frases  palabras\n",
       "4543  d0025p226  2004-12.txt  inflacion       1        10\n",
       "4544  d0025p227  2004-12.txt  inflacion       2        40\n",
       "4545  d0025p228  2004-12.txt  inflacion       2        39\n",
       "4546  d0025p229  2004-12.txt  inflacion       3        32\n",
       "4547  d0025p230  2004-12.txt  inflacion       3        31"
      ]
     },
     "execution_count": 15,
     "metadata": {},
     "output_type": "execute_result"
    }
   ],
   "source": [
    "# Estadísticas del corpus\n",
    "stats = corpus_stats(corpus)\n",
    "stats.tail()"
   ]
  },
  {
   "cell_type": "code",
   "execution_count": 16,
   "metadata": {},
   "outputs": [
    {
     "data": {
      "text/html": [
       "<div>\n",
       "<style scoped>\n",
       "    .dataframe tbody tr th:only-of-type {\n",
       "        vertical-align: middle;\n",
       "    }\n",
       "\n",
       "    .dataframe tbody tr th {\n",
       "        vertical-align: top;\n",
       "    }\n",
       "\n",
       "    .dataframe thead th {\n",
       "        text-align: right;\n",
       "    }\n",
       "</style>\n",
       "<table border=\"1\" class=\"dataframe\">\n",
       "  <thead>\n",
       "    <tr style=\"text-align: right;\">\n",
       "      <th></th>\n",
       "      <th>doc_id</th>\n",
       "      <th>sent_id</th>\n",
       "      <th>tok_id</th>\n",
       "      <th>word</th>\n",
       "      <th>pos</th>\n",
       "      <th>deterioro</th>\n",
       "      <th>mejora</th>\n",
       "    </tr>\n",
       "  </thead>\n",
       "  <tbody>\n",
       "    <tr>\n",
       "      <th>143729</th>\n",
       "      <td>d0025p230</td>\n",
       "      <td>3</td>\n",
       "      <td>87</td>\n",
       "      <td>transables</td>\n",
       "      <td>NOUN</td>\n",
       "      <td>False</td>\n",
       "      <td>False</td>\n",
       "    </tr>\n",
       "    <tr>\n",
       "      <th>143730</th>\n",
       "      <td>d0025p230</td>\n",
       "      <td>3</td>\n",
       "      <td>91</td>\n",
       "      <td>reforzaría</td>\n",
       "      <td>VERB</td>\n",
       "      <td>False</td>\n",
       "      <td>False</td>\n",
       "    </tr>\n",
       "    <tr>\n",
       "      <th>143731</th>\n",
       "      <td>d0025p230</td>\n",
       "      <td>3</td>\n",
       "      <td>93</td>\n",
       "      <td>sesgo</td>\n",
       "      <td>NOUN</td>\n",
       "      <td>False</td>\n",
       "      <td>False</td>\n",
       "    </tr>\n",
       "    <tr>\n",
       "      <th>143732</th>\n",
       "      <td>d0025p230</td>\n",
       "      <td>3</td>\n",
       "      <td>98</td>\n",
       "      <td>política</td>\n",
       "      <td>NOUN</td>\n",
       "      <td>False</td>\n",
       "      <td>False</td>\n",
       "    </tr>\n",
       "    <tr>\n",
       "      <th>143733</th>\n",
       "      <td>d0025p230</td>\n",
       "      <td>3</td>\n",
       "      <td>99</td>\n",
       "      <td>monetaria</td>\n",
       "      <td>ADJ</td>\n",
       "      <td>False</td>\n",
       "      <td>False</td>\n",
       "    </tr>\n",
       "  </tbody>\n",
       "</table>\n",
       "</div>"
      ],
      "text/plain": [
       "           doc_id  sent_id  tok_id        word   pos  deterioro  mejora\n",
       "143729  d0025p230        3      87  transables  NOUN      False   False\n",
       "143730  d0025p230        3      91  reforzaría  VERB      False   False\n",
       "143731  d0025p230        3      93       sesgo  NOUN      False   False\n",
       "143732  d0025p230        3      98    política  NOUN      False   False\n",
       "143733  d0025p230        3      99   monetaria   ADJ      False   False"
      ]
     },
     "execution_count": 16,
     "metadata": {},
     "output_type": "execute_result"
    }
   ],
   "source": [
    "# Estadísticas de tokens\n",
    "tokens = corpus_tokens(corpus)\n",
    "tokens.tail()"
   ]
  }
 ],
 "metadata": {
  "kernelspec": {
   "display_name": "Python 3",
   "language": "python",
   "name": "python3"
  },
  "language_info": {
   "codemirror_mode": {
    "name": "ipython",
    "version": 3
   },
   "file_extension": ".py",
   "mimetype": "text/x-python",
   "name": "python",
   "nbconvert_exporter": "python",
   "pygments_lexer": "ipython3",
   "version": "3.7.3"
  }
 },
 "nbformat": 4,
 "nbformat_minor": 2
}
