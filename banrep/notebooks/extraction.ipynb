{
 "cells": [
  {
   "cell_type": "code",
   "execution_count": 1,
   "metadata": {},
   "outputs": [],
   "source": [
    "\"\"\"Modulo para extraer texto de archivos binarios.\"\"\"\n",
    "from pathlib import Path\n",
    "\n",
    "from tika import parser\n",
    "import json"
   ]
  },
  {
   "cell_type": "code",
   "execution_count": 2,
   "metadata": {},
   "outputs": [],
   "source": [
    "dirin = '/Users/tombito/Dropbox/datasets/banrep/inflacion/original/'\n",
    "dirdocs = Path(dirin)\n",
    "dirparent = dirdocs.parent\n",
    "\n",
    "dirtexts = dirparent.joinpath('text_raw')\n",
    "dirtexts.mkdir(parents=True, exist_ok=True)\n",
    "\n",
    "dirmeta = dirparent.joinpath('text_meta')\n",
    "dirmeta.mkdir(parents=True, exist_ok=True)"
   ]
  },
  {
   "cell_type": "code",
   "execution_count": 6,
   "metadata": {},
   "outputs": [
    {
     "name": "stdout",
     "output_type": "stream",
     "text": [
      "0 nuevos archivos procesados\n"
     ]
    }
   ],
   "source": [
    "files = 0\n",
    "\n",
    "for fp in dirdocs.iterdir():\n",
    "    if fp.is_file():\n",
    "        textfile = dirtexts.joinpath(f'{fp.stem}.txt')\n",
    "        if not textfile.exists():\n",
    "            try:\n",
    "                parsed = parser.from_file(str(fp))\n",
    "            \n",
    "            except Exception as e:\n",
    "                print(f'Error Tika en {fp.name} : {e}')\n",
    "                parsed = dict()\n",
    "            \n",
    "            text = parsed.get('content')\n",
    "            meta = parsed.get('metadata')\n",
    "            \n",
    "            if text and meta:\n",
    "                with open(textfile, \"w\", newline='\\n', encoding='utf-8') as out:\n",
    "                    for line in text.splitlines():\n",
    "                        out.write(line)\n",
    "                        out.write('\\n')\n",
    "                \n",
    "                metafile = dirmeta.joinpath(f'{fp.stem}.json')\n",
    "                with open(metafile, mode='w', encoding='utf-8') as out:\n",
    "                    json.dump(meta, out, ensure_ascii=False)\n",
    "                \n",
    "                files += 1\n",
    "\n",
    "print(f'{files} nuevos archivos procesados')"
   ]
  }
 ],
 "metadata": {
  "kernelspec": {
   "display_name": "Python 3",
   "language": "python",
   "name": "python3"
  },
  "language_info": {
   "codemirror_mode": {
    "name": "ipython",
    "version": 3
   },
   "file_extension": ".py",
   "mimetype": "text/x-python",
   "name": "python",
   "nbconvert_exporter": "python",
   "pygments_lexer": "ipython3",
   "version": "3.7.3"
  }
 },
 "nbformat": 4,
 "nbformat_minor": 2
}
