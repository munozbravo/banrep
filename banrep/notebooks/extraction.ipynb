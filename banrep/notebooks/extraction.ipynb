{
 "cells": [
  {
   "cell_type": "code",
   "execution_count": 1,
   "metadata": {},
   "outputs": [],
   "source": [
    "\"\"\"Modulo para extraer texto de archivos binarios.\"\"\"\n",
    "from pathlib import Path\n",
    "\n",
    "from tika import parser\n",
    "import json"
   ]
  },
  {
   "cell_type": "code",
   "execution_count": 2,
   "metadata": {},
   "outputs": [],
   "source": [
    "def create_sibling_dir(dirpath, newdir):\n",
    "    \"\"\"\n",
    "    Crea directorio `newdir` al mismo nivel de `dirpath`.\n",
    "\n",
    "    Parameters\n",
    "    ----------\n",
    "    dirpath: str\n",
    "    newdir: str\n",
    "\n",
    "    Returns\n",
    "    -------\n",
    "    Path\n",
    "       Nuevo directorio\n",
    "    \"\"\"\n",
    "    initial = Path(dirpath)\n",
    "    parent = initial.parent\n",
    "    \n",
    "    newpath = parent.joinpath(newdir)\n",
    "    newpath.mkdir(parents=True, exist_ok=True)\n",
    "    \n",
    "    return newpath"
   ]
  },
  {
   "cell_type": "code",
   "execution_count": 3,
   "metadata": {},
   "outputs": [],
   "source": [
    "def extract(filepath):\n",
    "    \"\"\"\n",
    "    Extrae texto y metadata de archivo en `filepath`.\n",
    "\n",
    "    Parameters\n",
    "    ----------\n",
    "    filepath: str|Path\n",
    "\n",
    "    Returns\n",
    "    -------\n",
    "    tuple\n",
    "    \"\"\"\n",
    "    try:\n",
    "        parsed = parser.from_file(str(filepath))\n",
    "            \n",
    "    except Exception as e:\n",
    "        print(f'Error Tika en {Path(filepath).name} : {e}')\n",
    "        parsed = dict()\n",
    "\n",
    "    text = parsed.get('content')\n",
    "    meta = parsed.get('metadata')\n",
    "    \n",
    "    return text, meta"
   ]
  },
  {
   "cell_type": "code",
   "execution_count": 4,
   "metadata": {},
   "outputs": [],
   "source": [
    "def save_extracted(obj, filepath, content=None):\n",
    "    \"\"\"\n",
    "    Almacena `obj` en `filepath`.\n",
    "\n",
    "    Parameters\n",
    "    ----------\n",
    "    obj: str|dict\n",
    "    filepath: str|Path\n",
    "    content: str|None\n",
    "    \"\"\"\n",
    "    if content == 'text':\n",
    "        with open(filepath, \"w\", newline='\\n', encoding='utf-8') as out:\n",
    "            for line in obj.splitlines():\n",
    "                out.write(line)\n",
    "                out.write('\\n')\n",
    "    \n",
    "    elif content == 'meta':\n",
    "        with open(filepath, mode='w', encoding='utf-8') as out:\n",
    "            json.dump(obj, out, ensure_ascii=False)\n",
    "    \n",
    "    else:\n",
    "        print(f'Parámetro content debe ser text o meta para almacenar: {filepath}')"
   ]
  },
  {
   "cell_type": "code",
   "execution_count": 5,
   "metadata": {},
   "outputs": [],
   "source": [
    "def extract_all(docspath, textspath, metapath):\n",
    "    \"\"\"\n",
    "    Extrae texto y metadata de cada archivo en `docspath`.\n",
    "    \n",
    "    Almacena texto y metadata en directorios `textspath` y `metapath`.\n",
    "\n",
    "    Parameters\n",
    "    ----------\n",
    "    docspath: str\n",
    "    textspath: str\n",
    "    metapath: str\n",
    "    \"\"\"\n",
    "    dirdocs = Path(docspath)\n",
    "    dirtexts = create_sibling_dir(docspath, textspath)\n",
    "    dirmeta = create_sibling_dir(docspath, metapath)\n",
    "    \n",
    "    files = 0\n",
    "\n",
    "    for fp in dirdocs.iterdir():\n",
    "        if fp.is_file():\n",
    "            textfile = dirtexts.joinpath(f'{fp.stem}.txt')\n",
    "            if not textfile.exists():\n",
    "                text, meta = extract(fp)\n",
    "\n",
    "                if text and meta:\n",
    "                    save_extracted(text, textfile, content='text')\n",
    "\n",
    "                    metafile = dirmeta.joinpath(f'{fp.stem}.json')\n",
    "                    save_extracted(meta, metafile, content='meta')\n",
    "\n",
    "                    files += 1\n",
    "\n",
    "    print(f'{files} nuevos archivos procesados')"
   ]
  },
  {
   "cell_type": "code",
   "execution_count": 6,
   "metadata": {},
   "outputs": [
    {
     "name": "stderr",
     "output_type": "stream",
     "text": [
      "2019-05-03 17:24:32,144 [MainThread  ] [INFO ]  Retrieving http://search.maven.org/remotecontent?filepath=org/apache/tika/tika-server/1.19/tika-server-1.19.jar to /var/folders/hq/0wl64_9908373dlcxm2rl4fh0000gn/T/tika-server.jar.\n",
      "2019-05-03 17:27:32,485 [MainThread  ] [INFO ]  Retrieving http://search.maven.org/remotecontent?filepath=org/apache/tika/tika-server/1.19/tika-server-1.19.jar.md5 to /var/folders/hq/0wl64_9908373dlcxm2rl4fh0000gn/T/tika-server.jar.md5.\n",
      "2019-05-03 17:27:33,056 [MainThread  ] [WARNI]  Failed to see startup log message; retrying...\n"
     ]
    },
    {
     "name": "stdout",
     "output_type": "stream",
     "text": [
      "81 nuevos archivos procesados\n"
     ]
    }
   ],
   "source": [
    "dirin = '/Users/tombito/Dropbox/datasets/banrep/inflacion/original/'\n",
    "extract_all(dirin, 'text_raw', 'text_meta')"
   ]
  }
 ],
 "metadata": {
  "kernelspec": {
   "display_name": "Python 3",
   "language": "python",
   "name": "python3"
  },
  "language_info": {
   "codemirror_mode": {
    "name": "ipython",
    "version": 3
   },
   "file_extension": ".py",
   "mimetype": "text/x-python",
   "name": "python",
   "nbconvert_exporter": "python",
   "pygments_lexer": "ipython3",
   "version": "3.7.3"
  }
 },
 "nbformat": 4,
 "nbformat_minor": 2
}
