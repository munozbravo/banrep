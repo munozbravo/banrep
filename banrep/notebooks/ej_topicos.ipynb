{
 "cells": [
  {
   "cell_type": "markdown",
   "metadata": {},
   "source": [
    "# Funcionalidad principal de [banrep][pypi_banrep]\n",
    "[pypi_banrep]: https://pypi.org/project/banrep/"
   ]
  },
  {
   "cell_type": "markdown",
   "metadata": {},
   "source": [
    "## Requerimientos"
   ]
  },
  {
   "cell_type": "markdown",
   "metadata": {},
   "source": [
    "### Importamos las otras librerías utilizadas en este ejemplo"
   ]
  },
  {
   "cell_type": "code",
   "execution_count": 1,
   "metadata": {},
   "outputs": [],
   "source": [
    "import numpy as np\n",
    "import pandas as pd\n",
    "import plotly.figure_factory as ff\n",
    "import plotly.offline as pyo\n",
    "import spacy"
   ]
  },
  {
   "cell_type": "markdown",
   "metadata": {},
   "source": [
    "### Y lo que usaremos de la librería [banrep][pypi_banrep]\n",
    "[pypi_banrep]: https://pypi.org/project/banrep/"
   ]
  },
  {
   "cell_type": "code",
   "execution_count": 2,
   "metadata": {},
   "outputs": [],
   "source": [
    "from banrep.corpus import MiCorpus\n",
    "from banrep.io import Textos, leer_palabras\n",
    "from banrep.topicos import Topicos\n",
    "from banrep.utils import crear_directorio"
   ]
  },
  {
   "cell_type": "markdown",
   "metadata": {},
   "source": [
    "### Necesitamos un modelo NLP para español de [spaCy][spacy_models]\n",
    "[spacy_models]: https://spacy.io/models"
   ]
  },
  {
   "cell_type": "code",
   "execution_count": 3,
   "metadata": {},
   "outputs": [],
   "source": [
    "nlp = spacy.load('es_core_news_md')"
   ]
  },
  {
   "cell_type": "markdown",
   "metadata": {},
   "source": [
    "## Preprocesamiento de texto y filtros"
   ]
  },
  {
   "cell_type": "markdown",
   "metadata": {},
   "source": [
    "### Textos a usar\n",
    "\n",
    "Se asume una carpeta en disco en la que hay archivos de texto. Si los textos que quiere utilizar están en archivos binarios como *.pdf*, *.docx*, etc., debe primero [extraer el texto][extraccion].\n",
    "\n",
    "[extraccion]: https://munozbravo.github.io/banrep/uso_extraccion/"
   ]
  },
  {
   "cell_type": "markdown",
   "metadata": {},
   "source": [
    "#### Uso de clase: `Textos`\n",
    "\n",
    "Se usa para iterar los archivos de texto en disco.\n",
    "\n",
    "Argumento `rutadatos` especifica ubicación de los textos en disco (parámetro `directorio`).\n",
    "\n",
    "Parámetro `chars` filtra aquellas líneas de texto de cada archivo cuya longitud sea inferior al valor especificado. *69* es valor arbitrario que permite filtrar la mayoría de títulos y subtítulos.\n",
    "\n",
    "Parámetro `parrafos` permite definir si se considera cada párrafo como un documento separado.\n",
    "\n",
    "Parámetro `aleatorio` sirve cuando se quiere iterar los archivos aleatoriamente."
   ]
  },
  {
   "cell_type": "code",
   "execution_count": 4,
   "metadata": {},
   "outputs": [
    {
     "name": "stdout",
     "output_type": "stream",
     "text": [
      "29 archivos en directorio datasets.\n"
     ]
    }
   ],
   "source": [
    "rutadatos = '../datasets/'\n",
    "\n",
    "datos = Textos(rutadatos, aleatorio=False, chars=69, parrafos=True)\n",
    "print(datos)"
   ]
  },
  {
   "cell_type": "markdown",
   "metadata": {},
   "source": [
    "### Filtros: palabras y tokens a ignorar\n",
    "\n",
    "Generalmente se quiere ignorar palabras comunes a todos los textos, llamadas *stopwords*, por no aportar al entendimiento de los diferentes textos.\n",
    "\n",
    "Se obtendrá información detallada de cada palabra gracias a [spaCy][web_spacy], lo que permite filtrar adicionalmente por criterios como [categoría gramatical][universal] (verbos, sustantivos, etc), si es algún tipo de [nombre propio][spacy_ents] (Juan, Colombia, Banco de la República), o si contiene caracteres que no hacen parte del alfabeto (números, monedas, etc). \n",
    "\n",
    "[web_spacy]: https://spacy.io/\n",
    "[universal]: https://universaldependencies.org/es/index.html\n",
    "[spacy_ents]: https://spacy.io/api/annotation#named-entities"
   ]
  },
  {
   "cell_type": "markdown",
   "metadata": {},
   "source": [
    "#### Uso de función: `leer_palabras`\n",
    "\n",
    "Permite leer categorías de palabras de un archivo excel. \n",
    "En este caso, una sola categoría (stopwords).\n",
    "\n",
    "Parámetros `archivo` y `hoja` determinan el archivo excel en disco, y la hoja a usar.\n",
    "\n",
    "Parámetro `col_grupo` es el nombre de una columna en la hoja excel que determina el grupo al que pertenecen las palabras.\n",
    "\n",
    "Parámetro `col_palabras` es el nombre de una columna en la hoja excel que contiene las palabras."
   ]
  },
  {
   "cell_type": "code",
   "execution_count": 5,
   "metadata": {},
   "outputs": [],
   "source": [
    "rutastops = '~/Dropbox/datasets/wordlists/stopwords.xlsx'\n",
    "palabras = leer_palabras(archivo=rutastops, \n",
    "                         hoja='banrep_es', \n",
    "                         col_grupo=\"type\", \n",
    "                         col_palabras=\"word\")\n",
    "\n",
    "stops = palabras.get(\"stopword\")"
   ]
  },
  {
   "cell_type": "markdown",
   "metadata": {},
   "source": [
    "#### Ilustración para mayor claridad\n",
    "\n",
    "La hoja de stopwords en mi archivo excel...\n",
    "\n",
    "![](img/stopwords.png)\n"
   ]
  },
  {
   "cell_type": "markdown",
   "metadata": {},
   "source": [
    "En este caso elimino de cualquier análisis posterior todas las *stopwords* del archivo excel, las categorías gramaticales que identifican números, puntuación y símbolos, y aquellas \"palabras\" o tokens que contengan caracteres que no hacen parte del alfabeto."
   ]
  },
  {
   "cell_type": "code",
   "execution_count": 6,
   "metadata": {},
   "outputs": [],
   "source": [
    "tags = ['NUM', 'PUNCT', 'SYM']\n",
    "\n",
    "filtros = dict(stopwords=stops, postags=tags, entities=None, is_alpha=True)"
   ]
  },
  {
   "cell_type": "markdown",
   "metadata": {},
   "source": [
    "## Dimensiones adicionales que se quieren medir"
   ]
  },
  {
   "cell_type": "markdown",
   "metadata": {},
   "source": [
    "### Pertenencia a listas de palabras predefinidas\n",
    "\n",
    "Muchas veces se quiere contabilizar cuantas palabras de cada documento hacen parte de listas de palabras predefinidas. Por ejemplo, puedo tener listas de palabras \"positivas\" y \"negativas\", y querer contar cuantas palabras de los textos que voy a analizar hacen parte de estas listas. Esto sirve, por ejemplo, para crear indicadores de sentimiento basados en el conteo de palabras que pertenecen a emociones \"contrarias\"."
   ]
  },
  {
   "cell_type": "markdown",
   "metadata": {},
   "source": [
    "#### Uso de función: `leer_palabras`\n",
    "\n",
    "La misma función usada para cargar *stopwords* nos sirve para leer un archivo excel que contiene otras categorías de palabras, en este caso palabras que denotan *mejora* y otras que denotan *deterioro*."
   ]
  },
  {
   "cell_type": "code",
   "execution_count": 7,
   "metadata": {},
   "outputs": [
    {
     "name": "stdout",
     "output_type": "stream",
     "text": [
      "1899 palabras en grupo deterioro\n",
      "359 palabras en grupo mejora\n"
     ]
    }
   ],
   "source": [
    "rutawl = '~/Dropbox/datasets/wordlists/sentimiento.xlsx'\n",
    "wordlists = leer_palabras(rutawl, 'BANREP', col_grupo=\"type\", col_palabras=\"word\")\n",
    "\n",
    "# Cuantas palabras en cada grupo...\n",
    "for tipo in wordlists:\n",
    "    print(f'{len(wordlists.get(tipo))} palabras en grupo {tipo}')"
   ]
  },
  {
   "cell_type": "code",
   "execution_count": null,
   "metadata": {},
   "outputs": [],
   "source": []
  },
  {
   "cell_type": "markdown",
   "metadata": {},
   "source": [
    "## Corpus y sus estadísticas"
   ]
  },
  {
   "cell_type": "markdown",
   "metadata": {},
   "source": [
    "### Crear el corpus\n",
    "\n",
    "Un *corpus* es un conjunto de documentos, para el cual queremos obtener toda clase de estadísticas.\n",
    "\n",
    "`MiCorpus` es la implementación de un corpus, el cual se inicializa con un modelo [spaCy][spacy_models] y un objeto `Textos`, y opcionalmente con los filtros especificados anteriormente, las listas de palabras que se quiere contar, y expresiones que se quiere encontrar. \n",
    "\n",
    "[spacy_models]: https://spacy.io/models"
   ]
  },
  {
   "cell_type": "markdown",
   "metadata": {},
   "source": [
    "#### Uso de clase: `MiCorpus`\n",
    "\n",
    "Se usa para inicializar el corpus. Es la estructura más importante de [banrep][pypi_banrep].\n",
    "\n",
    "Argumento `nlp` es el modelo spaCy (parámetro `lang`).\n",
    "\n",
    "Parámetro `datos` es el objeto Textos creado anteriormente en la variable *datos*.\n",
    "\n",
    "Parámetros `filtros` y `wordlists` ya explicados anteriormente.\n",
    "\n",
    "Parámetro `corta` sirve como filtro adicional, ignorando frases de pocos tokens (palabras, puntuación, símbolos, números, etc. En este ejemplo, frases con menos de 10 tokens).\n",
    "\n",
    "[pypi_banrep]: https://pypi.org/project/banrep/"
   ]
  },
  {
   "cell_type": "code",
   "execution_count": 8,
   "metadata": {},
   "outputs": [
    {
     "name": "stdout",
     "output_type": "stream",
     "text": [
      "Corpus con 5628 docs y 3619 palabras únicas.\n"
     ]
    }
   ],
   "source": [
    "corpus = MiCorpus(nlp, datos=datos, filtros=filtros, corta=9, wordlists=wordlists)\n",
    "print(corpus)"
   ]
  },
  {
   "cell_type": "markdown",
   "metadata": {},
   "source": [
    "### Estadísticas de corpus"
   ]
  },
  {
   "cell_type": "markdown",
   "metadata": {},
   "source": [
    "#### Estadísticas agregadas"
   ]
  },
  {
   "cell_type": "code",
   "execution_count": 9,
   "metadata": {},
   "outputs": [
    {
     "data": {
      "text/html": [
       "<div>\n",
       "<style scoped>\n",
       "    .dataframe tbody tr th:only-of-type {\n",
       "        vertical-align: middle;\n",
       "    }\n",
       "\n",
       "    .dataframe tbody tr th {\n",
       "        vertical-align: top;\n",
       "    }\n",
       "\n",
       "    .dataframe thead th {\n",
       "        text-align: right;\n",
       "    }\n",
       "</style>\n",
       "<table border=\"1\" class=\"dataframe\">\n",
       "  <thead>\n",
       "    <tr style=\"text-align: right;\">\n",
       "      <th></th>\n",
       "      <th>doc_id</th>\n",
       "      <th>archivo</th>\n",
       "      <th>fuente</th>\n",
       "      <th>frases</th>\n",
       "      <th>palabras</th>\n",
       "    </tr>\n",
       "  </thead>\n",
       "  <tbody>\n",
       "    <tr>\n",
       "      <th>5623</th>\n",
       "      <td>005624</td>\n",
       "      <td>2005-12.txt</td>\n",
       "      <td>inflacion</td>\n",
       "      <td>1</td>\n",
       "      <td>7</td>\n",
       "    </tr>\n",
       "    <tr>\n",
       "      <th>5624</th>\n",
       "      <td>005625</td>\n",
       "      <td>2005-12.txt</td>\n",
       "      <td>inflacion</td>\n",
       "      <td>2</td>\n",
       "      <td>16</td>\n",
       "    </tr>\n",
       "    <tr>\n",
       "      <th>5625</th>\n",
       "      <td>005626</td>\n",
       "      <td>2005-12.txt</td>\n",
       "      <td>inflacion</td>\n",
       "      <td>3</td>\n",
       "      <td>46</td>\n",
       "    </tr>\n",
       "    <tr>\n",
       "      <th>5626</th>\n",
       "      <td>005627</td>\n",
       "      <td>2005-12.txt</td>\n",
       "      <td>inflacion</td>\n",
       "      <td>3</td>\n",
       "      <td>60</td>\n",
       "    </tr>\n",
       "    <tr>\n",
       "      <th>5627</th>\n",
       "      <td>005628</td>\n",
       "      <td>2005-12.txt</td>\n",
       "      <td>inflacion</td>\n",
       "      <td>2</td>\n",
       "      <td>26</td>\n",
       "    </tr>\n",
       "  </tbody>\n",
       "</table>\n",
       "</div>"
      ],
      "text/plain": [
       "      doc_id      archivo     fuente  frases  palabras\n",
       "5623  005624  2005-12.txt  inflacion       1         7\n",
       "5624  005625  2005-12.txt  inflacion       2        16\n",
       "5625  005626  2005-12.txt  inflacion       3        46\n",
       "5626  005627  2005-12.txt  inflacion       3        60\n",
       "5627  005628  2005-12.txt  inflacion       2        26"
      ]
     },
     "execution_count": 9,
     "metadata": {},
     "output_type": "execute_result"
    }
   ],
   "source": [
    "stats = corpus.corpus_stats()\n",
    "stats.tail()"
   ]
  },
  {
   "cell_type": "markdown",
   "metadata": {},
   "source": [
    "#### Estadísticas desagregadas por token"
   ]
  },
  {
   "cell_type": "code",
   "execution_count": 10,
   "metadata": {},
   "outputs": [
    {
     "data": {
      "text/html": [
       "<div>\n",
       "<style scoped>\n",
       "    .dataframe tbody tr th:only-of-type {\n",
       "        vertical-align: middle;\n",
       "    }\n",
       "\n",
       "    .dataframe tbody tr th {\n",
       "        vertical-align: top;\n",
       "    }\n",
       "\n",
       "    .dataframe thead th {\n",
       "        text-align: right;\n",
       "    }\n",
       "</style>\n",
       "<table border=\"1\" class=\"dataframe\">\n",
       "  <thead>\n",
       "    <tr style=\"text-align: right;\">\n",
       "      <th></th>\n",
       "      <th>doc_id</th>\n",
       "      <th>sent_id</th>\n",
       "      <th>tok_id</th>\n",
       "      <th>word</th>\n",
       "      <th>pos</th>\n",
       "      <th>ok_token</th>\n",
       "      <th>deterioro</th>\n",
       "      <th>mejora</th>\n",
       "    </tr>\n",
       "  </thead>\n",
       "  <tbody>\n",
       "    <tr>\n",
       "      <th>173906</th>\n",
       "      <td>005628</td>\n",
       "      <td>2</td>\n",
       "      <td>12</td>\n",
       "      <td>esquema</td>\n",
       "      <td>NOUN</td>\n",
       "      <td>True</td>\n",
       "      <td>False</td>\n",
       "      <td>False</td>\n",
       "    </tr>\n",
       "    <tr>\n",
       "      <th>173907</th>\n",
       "      <td>005628</td>\n",
       "      <td>2</td>\n",
       "      <td>13</td>\n",
       "      <td>intervención</td>\n",
       "      <td>NOUN</td>\n",
       "      <td>True</td>\n",
       "      <td>False</td>\n",
       "      <td>False</td>\n",
       "    </tr>\n",
       "    <tr>\n",
       "      <th>173908</th>\n",
       "      <td>005628</td>\n",
       "      <td>2</td>\n",
       "      <td>14</td>\n",
       "      <td>discrecional</td>\n",
       "      <td>ADJ</td>\n",
       "      <td>True</td>\n",
       "      <td>False</td>\n",
       "      <td>False</td>\n",
       "    </tr>\n",
       "    <tr>\n",
       "      <th>173909</th>\n",
       "      <td>005628</td>\n",
       "      <td>2</td>\n",
       "      <td>15</td>\n",
       "      <td>mercado</td>\n",
       "      <td>NOUN</td>\n",
       "      <td>True</td>\n",
       "      <td>False</td>\n",
       "      <td>False</td>\n",
       "    </tr>\n",
       "    <tr>\n",
       "      <th>173910</th>\n",
       "      <td>005628</td>\n",
       "      <td>2</td>\n",
       "      <td>16</td>\n",
       "      <td>cambiario</td>\n",
       "      <td>ADJ</td>\n",
       "      <td>True</td>\n",
       "      <td>False</td>\n",
       "      <td>False</td>\n",
       "    </tr>\n",
       "  </tbody>\n",
       "</table>\n",
       "</div>"
      ],
      "text/plain": [
       "        doc_id  sent_id  tok_id          word   pos  ok_token  deterioro  \\\n",
       "173906  005628        2      12       esquema  NOUN      True      False   \n",
       "173907  005628        2      13  intervención  NOUN      True      False   \n",
       "173908  005628        2      14  discrecional   ADJ      True      False   \n",
       "173909  005628        2      15       mercado  NOUN      True      False   \n",
       "173910  005628        2      16     cambiario   ADJ      True      False   \n",
       "\n",
       "        mejora  \n",
       "173906   False  \n",
       "173907   False  \n",
       "173908   False  \n",
       "173909   False  \n",
       "173910   False  "
      ]
     },
     "execution_count": 10,
     "metadata": {},
     "output_type": "execute_result"
    }
   ],
   "source": [
    "tokens = corpus.corpus_tokens()\n",
    "tokens.tail()"
   ]
  },
  {
   "cell_type": "code",
   "execution_count": 11,
   "metadata": {},
   "outputs": [
    {
     "data": {
      "text/html": [
       "<div>\n",
       "<style scoped>\n",
       "    .dataframe tbody tr th:only-of-type {\n",
       "        vertical-align: middle;\n",
       "    }\n",
       "\n",
       "    .dataframe tbody tr th {\n",
       "        vertical-align: top;\n",
       "    }\n",
       "\n",
       "    .dataframe thead th {\n",
       "        text-align: right;\n",
       "    }\n",
       "</style>\n",
       "<table border=\"1\" class=\"dataframe\">\n",
       "  <thead>\n",
       "    <tr style=\"text-align: right;\">\n",
       "      <th></th>\n",
       "      <th>doc_id</th>\n",
       "      <th>sent_id</th>\n",
       "      <th>tok_id</th>\n",
       "      <th>word</th>\n",
       "    </tr>\n",
       "  </thead>\n",
       "  <tbody>\n",
       "    <tr>\n",
       "      <th>0</th>\n",
       "      <td>000001</td>\n",
       "      <td>1</td>\n",
       "      <td>1</td>\n",
       "      <td>términos</td>\n",
       "    </tr>\n",
       "    <tr>\n",
       "      <th>1</th>\n",
       "      <td>000001</td>\n",
       "      <td>1</td>\n",
       "      <td>2</td>\n",
       "      <td>referencia</td>\n",
       "    </tr>\n",
       "    <tr>\n",
       "      <th>2</th>\n",
       "      <td>000001</td>\n",
       "      <td>1</td>\n",
       "      <td>3</td>\n",
       "      <td>decisiones</td>\n",
       "    </tr>\n",
       "    <tr>\n",
       "      <th>3</th>\n",
       "      <td>000001</td>\n",
       "      <td>1</td>\n",
       "      <td>4</td>\n",
       "      <td>política_monetaria</td>\n",
       "    </tr>\n",
       "    <tr>\n",
       "      <th>4</th>\n",
       "      <td>000001</td>\n",
       "      <td>1</td>\n",
       "      <td>5</td>\n",
       "      <td>junta_directiva_banco_república</td>\n",
       "    </tr>\n",
       "    <tr>\n",
       "      <th>5</th>\n",
       "      <td>000001</td>\n",
       "      <td>1</td>\n",
       "      <td>6</td>\n",
       "      <td>periódicamente</td>\n",
       "    </tr>\n",
       "    <tr>\n",
       "      <th>6</th>\n",
       "      <td>000001</td>\n",
       "      <td>1</td>\n",
       "      <td>7</td>\n",
       "      <td>análisis</td>\n",
       "    </tr>\n",
       "    <tr>\n",
       "      <th>7</th>\n",
       "      <td>000001</td>\n",
       "      <td>1</td>\n",
       "      <td>8</td>\n",
       "      <td>detallado</td>\n",
       "    </tr>\n",
       "    <tr>\n",
       "      <th>8</th>\n",
       "      <td>000001</td>\n",
       "      <td>1</td>\n",
       "      <td>9</td>\n",
       "      <td>resultados</td>\n",
       "    </tr>\n",
       "    <tr>\n",
       "      <th>9</th>\n",
       "      <td>000001</td>\n",
       "      <td>1</td>\n",
       "      <td>10</td>\n",
       "      <td>inflación</td>\n",
       "    </tr>\n",
       "  </tbody>\n",
       "</table>\n",
       "</div>"
      ],
      "text/plain": [
       "   doc_id  sent_id  tok_id                             word\n",
       "0  000001        1       1                         términos\n",
       "1  000001        1       2                       referencia\n",
       "2  000001        1       3                       decisiones\n",
       "3  000001        1       4               política_monetaria\n",
       "4  000001        1       5  junta_directiva_banco_república\n",
       "5  000001        1       6                   periódicamente\n",
       "6  000001        1       7                         análisis\n",
       "7  000001        1       8                        detallado\n",
       "8  000001        1       9                       resultados\n",
       "9  000001        1      10                        inflación"
      ]
     },
     "execution_count": 11,
     "metadata": {},
     "output_type": "execute_result"
    }
   ],
   "source": [
    "con_ngrams = corpus.corpus_ngramed()\n",
    "con_ngrams.head(10)"
   ]
  },
  {
   "cell_type": "markdown",
   "metadata": {},
   "source": [
    "#### Estadísticas desagregadas por frase"
   ]
  },
  {
   "cell_type": "code",
   "execution_count": 12,
   "metadata": {},
   "outputs": [
    {
     "data": {
      "text/html": [
       "<div>\n",
       "<style scoped>\n",
       "    .dataframe tbody tr th:only-of-type {\n",
       "        vertical-align: middle;\n",
       "    }\n",
       "\n",
       "    .dataframe tbody tr th {\n",
       "        vertical-align: top;\n",
       "    }\n",
       "\n",
       "    .dataframe thead th {\n",
       "        text-align: right;\n",
       "    }\n",
       "</style>\n",
       "<table border=\"1\" class=\"dataframe\">\n",
       "  <thead>\n",
       "    <tr style=\"text-align: right;\">\n",
       "      <th></th>\n",
       "      <th>doc_id</th>\n",
       "      <th>sent_id</th>\n",
       "      <th>ok_span</th>\n",
       "      <th>ok_token</th>\n",
       "      <th>deterioro</th>\n",
       "      <th>mejora</th>\n",
       "    </tr>\n",
       "  </thead>\n",
       "  <tbody>\n",
       "    <tr>\n",
       "      <th>0</th>\n",
       "      <td>000001</td>\n",
       "      <td>1</td>\n",
       "      <td>True</td>\n",
       "      <td>18</td>\n",
       "      <td>0</td>\n",
       "      <td>0</td>\n",
       "    </tr>\n",
       "    <tr>\n",
       "      <th>1</th>\n",
       "      <td>000002</td>\n",
       "      <td>1</td>\n",
       "      <td>True</td>\n",
       "      <td>17</td>\n",
       "      <td>0</td>\n",
       "      <td>0</td>\n",
       "    </tr>\n",
       "    <tr>\n",
       "      <th>2</th>\n",
       "      <td>000003</td>\n",
       "      <td>1</td>\n",
       "      <td>True</td>\n",
       "      <td>17</td>\n",
       "      <td>0</td>\n",
       "      <td>0</td>\n",
       "    </tr>\n",
       "    <tr>\n",
       "      <th>3</th>\n",
       "      <td>000003</td>\n",
       "      <td>2</td>\n",
       "      <td>True</td>\n",
       "      <td>9</td>\n",
       "      <td>0</td>\n",
       "      <td>0</td>\n",
       "    </tr>\n",
       "    <tr>\n",
       "      <th>4</th>\n",
       "      <td>000004</td>\n",
       "      <td>1</td>\n",
       "      <td>True</td>\n",
       "      <td>13</td>\n",
       "      <td>0</td>\n",
       "      <td>0</td>\n",
       "    </tr>\n",
       "    <tr>\n",
       "      <th>5</th>\n",
       "      <td>000005</td>\n",
       "      <td>1</td>\n",
       "      <td>True</td>\n",
       "      <td>8</td>\n",
       "      <td>0</td>\n",
       "      <td>0</td>\n",
       "    </tr>\n",
       "    <tr>\n",
       "      <th>6</th>\n",
       "      <td>000005</td>\n",
       "      <td>2</td>\n",
       "      <td>True</td>\n",
       "      <td>7</td>\n",
       "      <td>0</td>\n",
       "      <td>0</td>\n",
       "    </tr>\n",
       "    <tr>\n",
       "      <th>7</th>\n",
       "      <td>000005</td>\n",
       "      <td>3</td>\n",
       "      <td>True</td>\n",
       "      <td>15</td>\n",
       "      <td>0</td>\n",
       "      <td>0</td>\n",
       "    </tr>\n",
       "    <tr>\n",
       "      <th>8</th>\n",
       "      <td>000005</td>\n",
       "      <td>4</td>\n",
       "      <td>True</td>\n",
       "      <td>10</td>\n",
       "      <td>0</td>\n",
       "      <td>0</td>\n",
       "    </tr>\n",
       "    <tr>\n",
       "      <th>9</th>\n",
       "      <td>000005</td>\n",
       "      <td>5</td>\n",
       "      <td>True</td>\n",
       "      <td>18</td>\n",
       "      <td>0</td>\n",
       "      <td>1</td>\n",
       "    </tr>\n",
       "  </tbody>\n",
       "</table>\n",
       "</div>"
      ],
      "text/plain": [
       "   doc_id  sent_id  ok_span  ok_token  deterioro  mejora\n",
       "0  000001        1     True        18          0       0\n",
       "1  000002        1     True        17          0       0\n",
       "2  000003        1     True        17          0       0\n",
       "3  000003        2     True         9          0       0\n",
       "4  000004        1     True        13          0       0\n",
       "5  000005        1     True         8          0       0\n",
       "6  000005        2     True         7          0       0\n",
       "7  000005        3     True        15          0       0\n",
       "8  000005        4     True        10          0       0\n",
       "9  000005        5     True        18          0       1"
      ]
     },
     "execution_count": 12,
     "metadata": {},
     "output_type": "execute_result"
    }
   ],
   "source": [
    "stats_frases = corpus.frases_stats()\n",
    "stats_frases.head(10)"
   ]
  },
  {
   "cell_type": "markdown",
   "metadata": {},
   "source": [
    "## Modelos de tópicos y su visualización"
   ]
  },
  {
   "cell_type": "markdown",
   "metadata": {},
   "source": [
    "### Crear modelos LDA\n",
    "\n",
    "Los modelos de tópicos se usan para encontrar \"temáticas\" subyacentes en los textos.\n",
    "\n",
    "El parámetro básico a especificar en un modelo es el número de tópicos que se quiere considerar en el resultado.\n",
    "\n",
    "Esta librería usa [Gensim][web_gensim] para la implementación del cálculo de los modelos. En su [documentación][gensim_tuts] encontrará todo lo necesario para correr este tipo de modelos y muchas técnicas adicionales no usadas en esta librería. [banrep][pypi_banrep] simplemente ofrece funciones para correr varios modelos LDA y seleccionar el mejor, todo basado en Gensim.\n",
    "\n",
    "[web_gensim]: https://radimrehurek.com/gensim/models/ldamodel.html\n",
    "[gensim_tuts]: https://radimrehurek.com/gensim/tutorial.html\n",
    "[pypi_banrep]: https://pypi.org/project/banrep/"
   ]
  },
  {
   "cell_type": "markdown",
   "metadata": {},
   "source": [
    "#### Uso de clase: `Topicos`\n",
    "\n",
    "Se usa para crear modelos lda para diferentes números de tópicos.\n",
    "\n",
    "Argumento `corpus` es una instancia de `MiCorpus`, y `n_topicos` es una lista de números para los cuales se quiere generar un modelo.\n",
    "\n",
    "Parámetro `params` es un diccionario con parámetros que se usan en la [implementación LDA de Gensim][lda_gensim] (gensim.models.ldamodel.LdaModel).\n",
    "\n",
    "Los modelos de tópicos suelen ser evaluados usando una medida llamada *Coherence Score*. Esta medida sugiere qué tan \"interpretables\" son los modelos. Un mayor score es un modelo más \"interpretable\", y por lo tanto mejor.\n",
    "\n",
    "`Topicos` permite acceso a todos los modelos generados, y el mejor según Coherence Score se puede seleccionar usando el método `mejor_modelo`.  \n",
    "\n",
    "[lda_gensim]: https://radimrehurek.com/gensim/models/ldamodel.html"
   ]
  },
  {
   "cell_type": "code",
   "execution_count": 13,
   "metadata": {},
   "outputs": [
    {
     "name": "stdout",
     "output_type": "stream",
     "text": [
      "Modelos LDA para valores k en (5, 10, 15): mejor k=10 (Coherence=0.4596)\n"
     ]
    }
   ],
   "source": [
    "n_topicos = (5, 10, 15)\n",
    "params = dict(passes=5, alpha='auto', eta='auto', random_state=100)\n",
    "\n",
    "topicos = Topicos(corpus, n_topicos, params)\n",
    "print(topicos)"
   ]
  },
  {
   "cell_type": "code",
   "execution_count": 14,
   "metadata": {},
   "outputs": [],
   "source": [
    "modelo = topicos.mejor_modelo()"
   ]
  },
  {
   "cell_type": "markdown",
   "metadata": {},
   "source": [
    "### Visualización PyLDAvis (opcional)\n",
    "\n",
    "En análisis de tópicos se suele usar PyLDAvis para visualizar resultados de un modelo.\n",
    "\n",
    "La visualización es muy útil para entender la diferencia entre tópicos (distancia entre los círculos de la gráfica en costado izquierdo), prevalencia de cada tópico (tamaño de cada círculo), y el contenido de cada tópico (palabras más probables desplegadas en costado derecho para cada círculo).\n",
    "\n",
    "El único \"*pero*\" es que suele generar advertencias de uso \"obsoleto\" (DeprecationWarning)."
   ]
  },
  {
   "cell_type": "code",
   "execution_count": 15,
   "metadata": {},
   "outputs": [],
   "source": [
    "import warnings\n",
    "\n",
    "import pyLDAvis\n",
    "import pyLDAvis.gensim\n",
    "\n",
    "# Gráfica LDAvis de tópicos y sus palabras\n",
    "bow = list(corpus)\n",
    "with warnings.catch_warnings():\n",
    "    warnings.simplefilter('ignore')\n",
    "    vis = pyLDAvis.gensim.prepare(modelo, bow, corpus.id2word, sort_topics=False)"
   ]
  },
  {
   "cell_type": "code",
   "execution_count": 16,
   "metadata": {},
   "outputs": [
    {
     "data": {
      "text/html": [
       "\n",
       "<link rel=\"stylesheet\" type=\"text/css\" href=\"https://cdn.rawgit.com/bmabey/pyLDAvis/files/ldavis.v1.0.0.css\">\n",
       "\n",
       "\n",
       "<div id=\"ldavis_el120331131628786723593397920\"></div>\n",
       "<script type=\"text/javascript\">\n",
       "\n",
       "var ldavis_el120331131628786723593397920_data = {\"mdsDat\": {\"x\": [-0.1726529713910551, 0.12971934003337154, -0.0710134381221402, 0.006118626105257884, 0.1514975759636632, 0.027577590089377685, -0.18782034068537887, 0.11495357406590906, -0.014074657717824655, 0.01569470165881882], \"y\": [0.01027956477065476, 0.09328730018931591, -0.005419917972217527, -0.12398072840583715, 0.014732186552372678, -0.04949985459869782, 0.07973868157118058, -0.010371820723561997, -0.18431454623233648, 0.175549134849127], \"topics\": [1, 2, 3, 4, 5, 6, 7, 8, 9, 10], \"cluster\": [1, 1, 1, 1, 1, 1, 1, 1, 1, 1], \"Freq\": [11.374161720275879, 7.118408203125, 13.419921875, 6.570841312408447, 9.611018180847168, 9.390560150146484, 8.394059181213379, 6.053866386413574, 6.34670352935791, 21.720462799072266]}, \"tinfo\": {\"Category\": [\"Default\", \"Default\", \"Default\", \"Default\", \"Default\", \"Default\", \"Default\", \"Default\", \"Default\", \"Default\", \"Default\", \"Default\", \"Default\", \"Default\", \"Default\", \"Default\", \"Default\", \"Default\", \"Default\", \"Default\", \"Default\", \"Default\", \"Default\", \"Default\", \"Default\", \"Default\", \"Default\", \"Default\", \"Default\", \"Default\", \"Topic1\", \"Topic1\", \"Topic1\", \"Topic1\", \"Topic1\", \"Topic1\", \"Topic1\", \"Topic1\", \"Topic1\", \"Topic1\", \"Topic1\", \"Topic1\", \"Topic1\", \"Topic1\", \"Topic1\", \"Topic1\", \"Topic1\", \"Topic1\", \"Topic1\", \"Topic1\", \"Topic1\", \"Topic1\", \"Topic1\", \"Topic1\", \"Topic1\", \"Topic1\", \"Topic1\", \"Topic1\", \"Topic1\", \"Topic1\", \"Topic1\", \"Topic1\", \"Topic1\", \"Topic1\", \"Topic1\", \"Topic1\", \"Topic1\", \"Topic1\", \"Topic1\", \"Topic1\", \"Topic1\", \"Topic1\", \"Topic1\", \"Topic1\", \"Topic1\", \"Topic1\", \"Topic1\", \"Topic1\", \"Topic1\", \"Topic1\", \"Topic1\", \"Topic1\", \"Topic1\", \"Topic1\", \"Topic1\", \"Topic1\", \"Topic1\", \"Topic1\", \"Topic1\", \"Topic1\", \"Topic1\", \"Topic1\", \"Topic1\", \"Topic1\", \"Topic1\", \"Topic1\", \"Topic1\", \"Topic1\", \"Topic1\", \"Topic1\", \"Topic1\", \"Topic1\", \"Topic1\", \"Topic1\", \"Topic1\", \"Topic1\", \"Topic1\", \"Topic1\", \"Topic1\", \"Topic2\", \"Topic2\", \"Topic2\", \"Topic2\", \"Topic2\", \"Topic2\", \"Topic2\", \"Topic2\", \"Topic2\", \"Topic2\", \"Topic2\", \"Topic2\", \"Topic2\", \"Topic2\", \"Topic2\", \"Topic2\", \"Topic2\", \"Topic2\", \"Topic2\", \"Topic2\", \"Topic2\", \"Topic2\", \"Topic2\", \"Topic2\", \"Topic2\", \"Topic2\", \"Topic2\", \"Topic2\", \"Topic2\", \"Topic2\", \"Topic2\", \"Topic2\", \"Topic2\", \"Topic2\", \"Topic2\", \"Topic2\", \"Topic2\", \"Topic2\", \"Topic2\", \"Topic2\", \"Topic2\", \"Topic2\", \"Topic2\", \"Topic2\", \"Topic2\", \"Topic2\", \"Topic2\", \"Topic2\", \"Topic2\", \"Topic2\", \"Topic2\", \"Topic2\", \"Topic2\", \"Topic2\", \"Topic2\", \"Topic2\", \"Topic2\", \"Topic2\", \"Topic2\", \"Topic2\", \"Topic2\", \"Topic2\", \"Topic2\", \"Topic2\", \"Topic2\", \"Topic2\", \"Topic3\", \"Topic3\", \"Topic3\", \"Topic3\", \"Topic3\", \"Topic3\", \"Topic3\", \"Topic3\", \"Topic3\", \"Topic3\", \"Topic3\", \"Topic3\", \"Topic3\", \"Topic3\", \"Topic3\", \"Topic3\", \"Topic3\", \"Topic3\", \"Topic3\", \"Topic3\", \"Topic3\", \"Topic3\", \"Topic3\", \"Topic3\", \"Topic3\", \"Topic3\", \"Topic3\", \"Topic3\", \"Topic3\", \"Topic3\", \"Topic3\", \"Topic3\", \"Topic3\", \"Topic3\", \"Topic3\", \"Topic3\", \"Topic3\", \"Topic3\", \"Topic3\", \"Topic3\", \"Topic3\", \"Topic3\", \"Topic3\", \"Topic3\", \"Topic3\", \"Topic3\", \"Topic3\", \"Topic3\", \"Topic3\", \"Topic3\", \"Topic3\", \"Topic3\", \"Topic3\", \"Topic3\", \"Topic3\", \"Topic3\", \"Topic3\", \"Topic3\", \"Topic3\", \"Topic3\", \"Topic3\", \"Topic3\", \"Topic3\", \"Topic3\", \"Topic3\", \"Topic3\", \"Topic3\", \"Topic3\", \"Topic3\", \"Topic3\", \"Topic3\", \"Topic3\", \"Topic4\", \"Topic4\", \"Topic4\", \"Topic4\", \"Topic4\", \"Topic4\", \"Topic4\", \"Topic4\", \"Topic4\", \"Topic4\", \"Topic4\", \"Topic4\", \"Topic4\", \"Topic4\", \"Topic4\", \"Topic4\", \"Topic4\", \"Topic4\", \"Topic4\", \"Topic4\", \"Topic4\", \"Topic4\", \"Topic4\", \"Topic4\", \"Topic4\", \"Topic4\", \"Topic4\", \"Topic4\", \"Topic4\", \"Topic4\", \"Topic4\", \"Topic4\", \"Topic4\", \"Topic4\", \"Topic4\", \"Topic4\", \"Topic4\", \"Topic4\", \"Topic4\", \"Topic4\", \"Topic4\", \"Topic4\", \"Topic4\", \"Topic4\", \"Topic4\", \"Topic4\", \"Topic4\", \"Topic4\", \"Topic4\", \"Topic4\", \"Topic4\", \"Topic4\", \"Topic4\", \"Topic4\", \"Topic4\", \"Topic4\", \"Topic4\", \"Topic4\", \"Topic4\", \"Topic4\", \"Topic4\", \"Topic4\", \"Topic4\", \"Topic4\", \"Topic4\", \"Topic4\", \"Topic4\", \"Topic4\", \"Topic4\", \"Topic5\", \"Topic5\", \"Topic5\", \"Topic5\", \"Topic5\", \"Topic5\", \"Topic5\", \"Topic5\", \"Topic5\", \"Topic5\", \"Topic5\", \"Topic5\", \"Topic5\", \"Topic5\", \"Topic5\", \"Topic5\", \"Topic5\", \"Topic5\", \"Topic5\", \"Topic5\", \"Topic5\", \"Topic5\", \"Topic5\", \"Topic5\", \"Topic5\", \"Topic5\", \"Topic5\", \"Topic5\", \"Topic5\", \"Topic5\", \"Topic5\", \"Topic5\", \"Topic5\", \"Topic5\", \"Topic5\", \"Topic5\", \"Topic5\", \"Topic5\", \"Topic5\", \"Topic5\", \"Topic5\", \"Topic5\", \"Topic5\", \"Topic5\", \"Topic5\", \"Topic5\", \"Topic5\", \"Topic5\", \"Topic5\", \"Topic5\", \"Topic5\", \"Topic5\", \"Topic5\", \"Topic5\", \"Topic5\", \"Topic5\", \"Topic5\", \"Topic5\", \"Topic5\", \"Topic5\", \"Topic5\", \"Topic5\", \"Topic5\", \"Topic5\", \"Topic5\", \"Topic5\", \"Topic5\", \"Topic5\", \"Topic5\", \"Topic5\", \"Topic6\", \"Topic6\", \"Topic6\", \"Topic6\", \"Topic6\", \"Topic6\", \"Topic6\", \"Topic6\", \"Topic6\", \"Topic6\", \"Topic6\", \"Topic6\", \"Topic6\", \"Topic6\", \"Topic6\", \"Topic6\", \"Topic6\", \"Topic6\", \"Topic6\", \"Topic6\", \"Topic6\", \"Topic6\", \"Topic6\", \"Topic6\", \"Topic6\", \"Topic6\", \"Topic6\", \"Topic6\", \"Topic6\", \"Topic6\", \"Topic6\", \"Topic6\", \"Topic6\", \"Topic6\", \"Topic6\", \"Topic6\", \"Topic6\", \"Topic6\", \"Topic6\", \"Topic6\", \"Topic6\", \"Topic6\", \"Topic6\", \"Topic6\", \"Topic6\", \"Topic6\", \"Topic6\", \"Topic6\", \"Topic6\", \"Topic6\", \"Topic6\", \"Topic6\", \"Topic6\", \"Topic6\", \"Topic6\", \"Topic6\", \"Topic6\", \"Topic6\", \"Topic6\", \"Topic6\", \"Topic6\", \"Topic6\", \"Topic6\", \"Topic6\", \"Topic6\", \"Topic6\", \"Topic6\", \"Topic6\", \"Topic6\", \"Topic6\", \"Topic6\", \"Topic6\", \"Topic6\", \"Topic7\", \"Topic7\", \"Topic7\", \"Topic7\", \"Topic7\", \"Topic7\", \"Topic7\", \"Topic7\", \"Topic7\", \"Topic7\", \"Topic7\", \"Topic7\", \"Topic7\", \"Topic7\", \"Topic7\", \"Topic7\", \"Topic7\", \"Topic7\", \"Topic7\", \"Topic7\", \"Topic7\", \"Topic7\", \"Topic7\", \"Topic7\", \"Topic7\", \"Topic7\", \"Topic7\", \"Topic7\", \"Topic7\", \"Topic7\", \"Topic7\", \"Topic7\", \"Topic7\", \"Topic7\", \"Topic7\", \"Topic7\", \"Topic7\", \"Topic7\", \"Topic7\", \"Topic7\", \"Topic7\", \"Topic7\", \"Topic7\", \"Topic7\", \"Topic7\", \"Topic7\", \"Topic7\", \"Topic7\", \"Topic7\", \"Topic7\", \"Topic7\", \"Topic7\", \"Topic7\", \"Topic7\", \"Topic7\", \"Topic7\", \"Topic7\", \"Topic7\", \"Topic7\", \"Topic7\", \"Topic7\", \"Topic7\", \"Topic7\", \"Topic7\", \"Topic7\", \"Topic7\", \"Topic7\", \"Topic7\", \"Topic7\", \"Topic7\", \"Topic7\", \"Topic7\", \"Topic7\", \"Topic8\", \"Topic8\", \"Topic8\", \"Topic8\", \"Topic8\", \"Topic8\", \"Topic8\", \"Topic8\", \"Topic8\", \"Topic8\", \"Topic8\", \"Topic8\", \"Topic8\", \"Topic8\", \"Topic8\", \"Topic8\", \"Topic8\", \"Topic8\", \"Topic8\", \"Topic8\", \"Topic8\", \"Topic8\", \"Topic8\", \"Topic8\", \"Topic8\", \"Topic8\", \"Topic8\", \"Topic8\", \"Topic8\", \"Topic8\", \"Topic8\", \"Topic8\", \"Topic8\", \"Topic8\", \"Topic8\", \"Topic8\", \"Topic8\", \"Topic8\", \"Topic8\", \"Topic8\", \"Topic8\", \"Topic8\", \"Topic8\", \"Topic8\", \"Topic8\", \"Topic8\", \"Topic8\", \"Topic8\", \"Topic8\", \"Topic8\", \"Topic8\", \"Topic8\", \"Topic8\", \"Topic8\", \"Topic8\", \"Topic8\", \"Topic8\", \"Topic8\", \"Topic8\", \"Topic8\", \"Topic8\", \"Topic8\", \"Topic8\", \"Topic8\", \"Topic8\", \"Topic8\", \"Topic8\", \"Topic8\", \"Topic8\", \"Topic8\", \"Topic8\", \"Topic9\", \"Topic9\", \"Topic9\", \"Topic9\", \"Topic9\", \"Topic9\", \"Topic9\", \"Topic9\", \"Topic9\", \"Topic9\", \"Topic9\", \"Topic9\", \"Topic9\", \"Topic9\", \"Topic9\", \"Topic9\", \"Topic9\", \"Topic9\", \"Topic9\", \"Topic9\", \"Topic9\", \"Topic9\", \"Topic9\", \"Topic9\", \"Topic9\", \"Topic9\", \"Topic9\", \"Topic9\", \"Topic9\", \"Topic9\", \"Topic9\", \"Topic9\", \"Topic9\", \"Topic9\", \"Topic9\", \"Topic9\", \"Topic9\", \"Topic9\", \"Topic9\", \"Topic9\", \"Topic9\", \"Topic9\", \"Topic9\", \"Topic9\", \"Topic9\", \"Topic9\", \"Topic9\", \"Topic9\", \"Topic9\", \"Topic9\", \"Topic9\", \"Topic9\", \"Topic9\", \"Topic9\", \"Topic9\", \"Topic9\", \"Topic9\", \"Topic9\", \"Topic9\", \"Topic9\", \"Topic9\", \"Topic9\", \"Topic9\", \"Topic9\", \"Topic9\", \"Topic9\", \"Topic9\", \"Topic9\", \"Topic9\", \"Topic9\", \"Topic9\", \"Topic9\", \"Topic10\", \"Topic10\", \"Topic10\", \"Topic10\", \"Topic10\", \"Topic10\", \"Topic10\", \"Topic10\", \"Topic10\", \"Topic10\", \"Topic10\", \"Topic10\", \"Topic10\", \"Topic10\", \"Topic10\", \"Topic10\", \"Topic10\", \"Topic10\", \"Topic10\", \"Topic10\", \"Topic10\", \"Topic10\", \"Topic10\", \"Topic10\", \"Topic10\", \"Topic10\", \"Topic10\", \"Topic10\", \"Topic10\", \"Topic10\", \"Topic10\", \"Topic10\", \"Topic10\", \"Topic10\", \"Topic10\", \"Topic10\", \"Topic10\", \"Topic10\", \"Topic10\", \"Topic10\", \"Topic10\", \"Topic10\", \"Topic10\", \"Topic10\", \"Topic10\", \"Topic10\", \"Topic10\", \"Topic10\", \"Topic10\", \"Topic10\", \"Topic10\", \"Topic10\", \"Topic10\", \"Topic10\", \"Topic10\", \"Topic10\", \"Topic10\", \"Topic10\", \"Topic10\", \"Topic10\", \"Topic10\", \"Topic10\", \"Topic10\", \"Topic10\", \"Topic10\", \"Topic10\", \"Topic10\", \"Topic10\", \"Topic10\", \"Topic10\", \"Topic10\", \"Topic10\", \"Topic10\", \"Topic10\", \"Topic10\", \"Topic10\", \"Topic10\", \"Topic10\", \"Topic10\", \"Topic10\", \"Topic10\", \"Topic10\", \"Topic10\", \"Topic10\", \"Topic10\"], \"Freq\": [2678.0, 2705.0, 1248.0, 378.0, 590.0, 479.0, 293.0, 941.0, 284.0, 769.0, 403.0, 173.0, 614.0, 468.0, 223.0, 387.0, 465.0, 409.0, 245.0, 369.0, 222.0, 141.0, 594.0, 420.0, 151.0, 204.0, 147.0, 144.0, 169.0, 240.0, 19.40860366821289, 38.992244720458984, 17.515623092651367, 15.1781005859375, 15.330140113830566, 11.654906272888184, 11.480796813964844, 38.89735794067383, 17.804773330688477, 35.160396575927734, 12.282584190368652, 26.64362907409668, 14.606135368347168, 13.901603698730469, 9.45858383178711, 13.673053741455078, 8.05882740020752, 11.208066940307617, 7.786907196044922, 7.165864944458008, 7.122285842895508, 8.264034271240234, 9.493330001831055, 9.242687225341797, 9.536946296691895, 6.41763973236084, 6.37401819229126, 6.330414295196533, 16.09159278869629, 11.80350399017334, 33.86058807373047, 21.243003845214844, 37.13949966430664, 11.819036483764648, 26.82991600036621, 70.91224670410156, 12.364053726196289, 20.575475692749023, 166.11106872558594, 243.16815185546875, 1035.1629638671875, 168.45664978027344, 290.9740905761719, 119.83719635009766, 54.09410095214844, 73.58487701416016, 24.996952056884766, 34.54316329956055, 64.88908386230469, 186.0428924560547, 108.60047149658203, 50.17910385131836, 206.5391082763672, 172.73687744140625, 68.60191345214844, 49.63882064819336, 93.76858520507812, 42.31387710571289, 87.09028625488281, 126.7548828125, 103.65107727050781, 65.6307373046875, 74.37928771972656, 144.96609497070312, 86.29360961914062, 163.1879119873047, 69.96794891357422, 105.48368072509766, 116.40702819824219, 61.8328971862793, 65.6430435180664, 67.67456817626953, 71.26952362060547, 75.5050277709961, 81.47809600830078, 76.40048217773438, 73.79326629638672, 70.75292205810547, 70.96337890625, 38.29019546508789, 27.507301330566406, 27.24911880493164, 28.40238380432129, 21.154993057250977, 17.7603759765625, 15.347901344299316, 142.5419921875, 18.996240615844727, 15.25816822052002, 17.111507415771484, 12.886746406555176, 31.466081619262695, 13.682234764099121, 11.213449478149414, 22.186119079589844, 24.591991424560547, 10.376797676086426, 9.63764476776123, 9.540060043334961, 11.172608375549316, 11.172666549682617, 21.111806869506836, 10.755790710449219, 8.705517768859863, 9.694711685180664, 23.519489288330078, 12.529544830322266, 8.018111228942871, 10.255645751953125, 38.298980712890625, 26.187942504882812, 123.16942596435547, 49.96182632446289, 128.4257049560547, 244.29884338378906, 23.967214584350586, 40.179561614990234, 35.26730728149414, 34.56266784667969, 45.544132232666016, 90.95933532714844, 30.716339111328125, 81.38713073730469, 133.08851623535156, 327.3858642578125, 47.982242584228516, 149.52749633789062, 80.01615905761719, 46.76517868041992, 62.687538146972656, 75.77403259277344, 35.619415283203125, 71.27250671386719, 56.497554779052734, 46.3516731262207, 74.05582427978516, 67.62796783447266, 62.60575485229492, 58.78920364379883, 57.34333419799805, 62.040794372558594, 48.62226104736328, 44.928871154785156, 47.01641845703125, 47.809722900390625, 292.07073974609375, 36.393184661865234, 52.128726959228516, 21.8944149017334, 21.025943756103516, 22.570756912231445, 33.549110412597656, 15.974047660827637, 14.134002685546875, 20.106704711914062, 35.76918411254883, 45.49960708618164, 17.202068328857422, 34.45662307739258, 90.23632049560547, 36.092376708984375, 11.632991790771484, 21.509248733520508, 20.338708877563477, 37.38594436645508, 15.600665092468262, 17.223907470703125, 25.271465301513672, 22.094514846801758, 42.66938400268555, 9.996967315673828, 9.078520774841309, 9.078536987304688, 9.23068618774414, 20.7689151763916, 231.50900268554688, 41.99394607543945, 28.362302780151367, 85.11360931396484, 38.15218734741211, 38.64937210083008, 52.68777084350586, 113.20178985595703, 43.24892044067383, 276.75579833984375, 76.93418884277344, 294.0145568847656, 640.8526000976562, 110.6073226928711, 66.5440902709961, 1057.8289794921875, 68.07305908203125, 135.44166564941406, 91.31460571289062, 113.10633087158203, 302.98138427734375, 100.59010314941406, 122.98676300048828, 201.5389862060547, 73.7999496459961, 89.33418273925781, 68.71255493164062, 55.97657775878906, 110.90412902832031, 59.57478332519531, 127.37580108642578, 143.8901824951172, 86.39311981201172, 113.84220123291016, 145.94337463378906, 86.7977523803711, 104.95157623291016, 119.51332092285156, 105.2064208984375, 90.56271362304688, 103.39815521240234, 85.80390930175781, 95.13579559326172, 28.992368698120117, 26.943695068359375, 31.53575897216797, 35.85325622558594, 13.807084083557129, 51.142635345458984, 19.238218307495117, 12.01427936553955, 13.613348960876465, 23.817550659179688, 11.071076393127441, 17.981441497802734, 9.324687957763672, 18.736005783081055, 18.616880416870117, 9.329277038574219, 8.53304386138916, 16.803382873535156, 10.561270713806152, 17.59636116027832, 111.02450561523438, 9.337113380432129, 10.118618965148926, 11.74174690246582, 20.38822364807129, 7.694097518920898, 141.59640502929688, 9.053284645080566, 13.859786033630371, 16.482948303222656, 16.480323791503906, 34.6337776184082, 97.30133056640625, 17.495067596435547, 13.805477142333984, 26.681978225708008, 56.061073303222656, 123.89559173583984, 74.89424896240234, 41.581851959228516, 37.23574447631836, 23.15097999572754, 127.06548309326172, 37.40519332885742, 48.85411071777344, 32.7755012512207, 78.73504638671875, 255.5968017578125, 56.675697326660156, 57.658512115478516, 98.43986511230469, 91.7737808227539, 60.04974365234375, 34.95943069458008, 48.56250762939453, 115.60700225830078, 128.22702026367188, 42.271121978759766, 64.9821548461914, 172.26263427734375, 61.177284240722656, 59.42372512817383, 54.490501403808594, 52.21825408935547, 69.26284790039062, 56.52152633666992, 52.89081573486328, 45.04864501953125, 47.7076301574707, 37.20906448364258, 29.854286193847656, 37.773231506347656, 43.19084167480469, 93.95999145507812, 15.740135192871094, 55.87435531616211, 15.7289400100708, 18.786413192749023, 15.353979110717773, 12.314386367797852, 29.585481643676758, 12.50498104095459, 27.137510299682617, 32.16223907470703, 20.079174041748047, 13.091031074523926, 16.36078453063965, 11.828625679016113, 18.21047019958496, 8.771040916442871, 13.04082202911377, 34.97623825073242, 13.379358291625977, 9.47839641571045, 7.756046772003174, 8.67343521118164, 23.3043212890625, 7.704951763153076, 74.73258209228516, 24.22905731201172, 204.37667846679688, 16.182170867919922, 16.159746170043945, 38.002384185791016, 155.33978271484375, 89.81208038330078, 178.97964477539062, 135.90011596679688, 105.27667236328125, 34.83782196044922, 46.964210510253906, 111.10733032226562, 183.59268188476562, 125.52388000488281, 194.00772094726562, 129.26321411132812, 174.6789093017578, 90.15997314453125, 532.5250244140625, 53.05666732788086, 76.21585083007812, 108.82669067382812, 55.60169982910156, 83.73320770263672, 85.66676330566406, 67.54948425292969, 82.87183380126953, 78.98119354248047, 53.66615295410156, 70.05364227294922, 110.41021728515625, 88.87489318847656, 96.16932678222656, 72.9266586303711, 82.73954772949219, 77.71382141113281, 82.10628509521484, 75.45445251464844, 40.662384033203125, 35.32224655151367, 48.66094970703125, 31.011396408081055, 14.870067596435547, 38.109073638916016, 14.063546180725098, 25.62213134765625, 23.505342483520508, 27.009288787841797, 11.25186824798584, 14.615447044372559, 12.353962898254395, 14.672165870666504, 9.892439842224121, 9.892439842224121, 42.9355583190918, 33.66047286987305, 34.76926803588867, 11.62730598449707, 10.816043853759766, 14.346246719360352, 12.12971019744873, 17.52237892150879, 8.16600513458252, 8.166009902954102, 12.648774147033691, 7.453752517700195, 18.78398323059082, 29.564804077148438, 40.596229553222656, 21.942041397094727, 23.14501953125, 19.539806365966797, 70.95114135742188, 21.723094940185547, 189.8986053466797, 66.08067321777344, 33.1011848449707, 74.02983093261719, 64.56837463378906, 63.73796463012695, 108.7970962524414, 161.70616149902344, 20.86032485961914, 26.666786193847656, 43.167259216308594, 126.99681091308594, 42.74562454223633, 50.83247756958008, 70.0558090209961, 276.8164367675781, 56.4031982421875, 304.2831115722656, 166.10865783691406, 62.549530029296875, 91.54723358154297, 158.48922729492188, 97.43294525146484, 72.20218658447266, 57.21805191040039, 60.34468078613281, 107.51797485351562, 97.05245208740234, 86.89607238769531, 172.743896484375, 53.51301956176758, 55.4889030456543, 72.37767028808594, 71.89488220214844, 66.66876220703125, 64.47927856445312, 57.93144226074219, 27.451061248779297, 38.33612823486328, 29.84136199951172, 23.521106719970703, 21.439821243286133, 24.931488037109375, 14.356666564941406, 16.316524505615234, 22.362422943115234, 28.424774169921875, 16.9783992767334, 13.068588256835938, 16.226547241210938, 13.814006805419922, 15.95029067993164, 15.95029067993164, 21.415725708007812, 19.094411849975586, 13.706570625305176, 9.2034273147583, 13.419326782226562, 17.664447784423828, 9.640186309814453, 17.970964431762695, 9.912981986999512, 11.73063850402832, 8.741049766540527, 8.368330001831055, 18.25396156311035, 13.08703899383545, 23.52374839782715, 14.04484748840332, 26.40349769592285, 35.19276809692383, 224.59002685546875, 33.093074798583984, 34.27861404418945, 88.32201385498047, 41.0399055480957, 87.6169662475586, 48.963172912597656, 247.6303253173828, 58.39786911010742, 40.72780990600586, 46.721038818359375, 62.12989807128906, 26.334352493286133, 46.43339157104492, 25.73996353149414, 120.8290023803711, 55.67782211303711, 320.6600036621094, 93.20380401611328, 51.17508316040039, 46.35107421875, 42.781593322753906, 56.67214584350586, 38.72735595703125, 54.638893127441406, 63.10895919799805, 56.81840133666992, 42.432464599609375, 49.94340515136719, 72.21501922607422, 55.59524917602539, 53.114681243896484, 49.10836410522461, 54.74496841430664, 61.432125091552734, 50.79848861694336, 45.885074615478516, 46.31531524658203, 45.25297546386719, 172.7957305908203, 141.0391082763672, 33.988956451416016, 99.66574096679688, 77.19361877441406, 13.829353332519531, 12.875274658203125, 14.685338973999023, 12.942436218261719, 16.79003143310547, 17.2657413482666, 12.674286842346191, 12.674287796020508, 12.674287796020508, 10.329318046569824, 10.343647956848145, 15.683126449584961, 12.037285804748535, 9.637855529785156, 9.42800235748291, 12.015449523925781, 24.375782012939453, 11.765623092651367, 17.676969528198242, 11.434513092041016, 8.579259872436523, 11.67480182647705, 26.515857696533203, 10.21969223022461, 11.298718452453613, 21.255207061767578, 29.233539581298828, 25.37948226928711, 19.441253662109375, 14.054713249206543, 26.723468780517578, 64.37482452392578, 13.462080955505371, 61.610328674316406, 33.66481399536133, 28.971113204956055, 35.690303802490234, 22.946598052978516, 17.980806350708008, 20.640609741210938, 24.99226188659668, 51.28894805908203, 46.9077033996582, 23.76426887512207, 227.51400756835938, 80.79540252685547, 96.74571990966797, 71.12152862548828, 52.04751968383789, 54.000099182128906, 163.20745849609375, 95.06890106201172, 48.627872467041016, 52.843345642089844, 80.0544204711914, 81.04131317138672, 60.96277618408203, 54.77253341674805, 40.75672149658203, 38.74901580810547, 46.16069412231445, 43.18495559692383, 41.672813415527344, 41.497188568115234, 39.712223052978516, 38.393306732177734, 28.98912239074707, 18.06258773803711, 56.514678955078125, 39.27201843261719, 17.575971603393555, 43.55187225341797, 25.082595825195312, 19.54330825805664, 13.183403015136719, 20.512357711791992, 25.920185089111328, 25.613380432128906, 21.558473587036133, 20.42671775817871, 21.79736328125, 15.440014839172363, 13.879575729370117, 10.505572319030762, 10.390594482421875, 10.333017349243164, 10.507418632507324, 16.793777465820312, 18.347476959228516, 17.181140899658203, 15.925362586975098, 12.12958812713623, 8.414939880371094, 11.196728706359863, 9.526911735534668, 9.67954158782959, 13.576165199279785, 12.213377952575684, 54.044578552246094, 20.89803695678711, 18.120248794555664, 12.437172889709473, 17.944835662841797, 15.761526107788086, 61.55134582519531, 60.77892303466797, 16.889434814453125, 27.70313835144043, 28.584884643554688, 47.72343063354492, 100.95386505126953, 166.6930389404297, 85.58258056640625, 56.763427734375, 118.69707489013672, 48.29827880859375, 70.0889663696289, 47.22575378417969, 106.42204284667969, 54.07839584350586, 26.79404067993164, 139.6020965576172, 37.026981353759766, 128.9338836669922, 52.475242614746094, 39.60135269165039, 43.67424392700195, 59.17704772949219, 58.301116943359375, 80.26664733886719, 54.04822540283203, 50.52806091308594, 51.36919021606445, 57.3541374206543, 60.8924446105957, 71.52192687988281, 50.646728515625, 45.4998664855957, 95.04398345947266, 17.683330535888672, 28.596540451049805, 39.31593322753906, 20.7463436126709, 16.50237464904785, 17.176706314086914, 107.27833557128906, 30.7136173248291, 19.75142478942871, 12.478628158569336, 16.82676124572754, 11.665382385253906, 11.71281909942627, 10.994217872619629, 35.0814208984375, 23.313858032226562, 12.441424369812012, 65.8828125, 10.228346824645996, 10.038642883300781, 106.09740447998047, 11.374045372009277, 10.135123252868652, 26.368350982666016, 47.2748908996582, 12.62909984588623, 11.927181243896484, 14.39542293548584, 13.184188842773438, 153.5676727294922, 142.8299102783203, 24.564102172851562, 119.18516540527344, 20.095108032226562, 103.58788299560547, 135.53863525390625, 50.60750198364258, 19.333450317382812, 123.77960968017578, 79.3788833618164, 86.24270629882812, 29.93925666809082, 65.10169982910156, 43.44751739501953, 72.90205383300781, 42.77256774902344, 98.46089172363281, 64.76859283447266, 47.79376983642578, 350.90594482421875, 60.688148498535156, 47.39027404785156, 43.632755279541016, 131.39918518066406, 419.71453857421875, 159.56443786621094, 294.1341247558594, 115.53801727294922, 123.3756103515625, 1165.0194091796875, 91.8564453125, 96.81587219238281, 312.8538513183594, 131.86489868164062, 95.34138488769531, 217.8806915283203, 295.949951171875, 139.9161376953125, 202.00331115722656, 201.07142639160156, 156.11831665039062, 150.50537109375, 153.68112182617188, 172.87722778320312, 134.74639892578125, 130.1815948486328, 144.417236328125, 192.11904907226562, 145.4019012451172, 141.2698516845703, 133.9850616455078, 133.31805419921875, 129.46856689453125, 128.3336944580078], \"Term\": [\"inflaci\\u00f3n\", \"crecimiento\", \"precios\", \"exportaciones\", \"pron\\u00f3sticos\", \"inflaci\\u00f3n_alimentos\", \"inflaci\\u00f3n_transables\", \"promedio\", \"brecha_producto\", \"tasa\", \"pron\\u00f3stico\", \"regulados\", \"expectativas\", \"devaluaci\\u00f3n\", \"construcci\\u00f3n\", \"consumo\", \"tasas_inter\\u00e9s\", \"producci\\u00f3n\", \"transables\", \"alimentos\", \"cr\\u00e9dito\", \"china\", \"tasas\", \"inversi\\u00f3n\", \"encuesta\", \"cartera\", \"caf\\u00e9\", \"exportaciones_tradicionales\", \"importaciones\", \"industria\", \"excluidos\", \"postura_pol\\u00edtica_monetaria\", \"competitividad\", \"productivos\", \"embi\", \"put\", \"conveniente\", \"escenario_central\", \"dependen\", \"trm\", \"reflejada\", \"probabilidad_cumplir_meta\", \"icm\", \"n\\u00edquel\", \"apertura\", \"alcistas\", \"subi\\u00f3\", \"t\\u00e9cnico\", \"flexibilizaci\\u00f3n\", \"incrementa\", \"considerando\", \"alquileres\", \"revertirse\", \"cerrado\", \"indicaba\", \"predicci\\u00f3n\", \"estrecho\", \"adecuada\", \"inflacionarios\", \"convergencia\", \"postura\", \"inercia\", \"credibilidad\", \"fundamental\", \"puesto\", \"rango_meta\", \"clim\\u00e1ticas\", \"horizonte\", \"pol\\u00edtica_monetaria\", \"pron\\u00f3stico\", \"inflaci\\u00f3n\", \"meta\", \"expectativas\", \"largo_plazo\", \"cumplimiento_meta\", \"jdbr\", \"modelo_mecanismos\", \"posici\\u00f3n\", \"alza\", \"tasas_inter\\u00e9s\", \"banco\", \"senda\", \"pron\\u00f3sticos\", \"inflaci\\u00f3n_alimentos\", \"tasa_desempleo\", \"choques\", \"tasa_cambio\", \"volatilidad\", \"resultados\", \"niveles\", \"tipo_cambio\", \"depreciaci\\u00f3n\", \"corto_plazo\", \"nivel\", \"tendencia\", \"precios\", \"principales\", \"incremento\", \"reducci\\u00f3n\", \"presentado\", \"presiones\", \"inflaci\\u00f3n_b\\u00e1sica\", \"incrementos\", \"mayores\", \"aumento\", \"tasas\", \"devaluaci\\u00f3n\", \"espera\", \"comportamiento\", \"escenario_b\\u00e1sico\", \"historia\", \"capital_fijo\", \"impulsando\", \"coeficiente\", \"error\", \"grueso\", \"caf\\u00e9\", \"desacumulaci\\u00f3n\", \"aporte\", \"crec\\u00edan\", \"indicio\", \"centavos_libra\", \"correlaci\\u00f3n\", \"crecer\\u00edan\", \"exportaciones_totales\", \"grano\", \"palabras\", \"permitan\", \"pensaba\", \"vestir\", \"prendas\", \"destinos\", \"industrializadas\", \"agropecuarios\", \"preferencia\", \"cuero\", \"desfavorable\", \"sensibilidad\", \"sacos\", \"dirigidas\", \"oro\", \"exportaciones_tradicionales\", \"carb\\u00f3n\", \"importaciones\", \"exportaciones\", \"estancamiento\", \"ingreso_disponible\", \"reservas_internacionales\", \"productores\", \"inventarios\", \"petr\\u00f3leo\", \"volumen\", \"productos\", \"producci\\u00f3n\", \"crecimiento\", \"d\\u00f3lares\", \"menor\", \"precio\", \"n\\u00famero\", \"desaceleraci\\u00f3n\", \"ca\\u00edda\", \"t\\u00e9rminos_reales\", \"observado\", \"dinamismo\", \"ventas\", \"promedio\", \"tasa\", \"espera\", \"estados_unidos\", \"recuperaci\\u00f3n\", \"comportamiento\", \"especialmente\", \"oferta\", \"mercado\", \"demanda\", \"inflaci\\u00f3n_transables\", \"mejores_condiciones\", \"perecederos\", \"mediano\", \"s\\u00edntesis\", \"decrecientes\", \"items\", \"amplios\", \"ocurri\\u00f3\", \"ocurre\", \"salarios_nominales\", \"tarifas\", \"segmentos\", \"indexados\", \"arriendos\", \"costo_laboral_unitario\", \"bank\", \"optimista\", \"trabajada\", \"trabajador\", \"fen\\u00f3menos\", \"mediano_largo\", \"salarios_reales\", \"combustibles_servicios_p\\u00fablicos\", \"ajustes_precios\", \"acentuado\", \"cambia\", \"ajusta\", \"traducir\\u00eda\", \"c\\u00edclicos\", \"transables\", \"papa\", \"flexibles\", \"reajustes\", \"autoridad_monetaria\", \"subgrupo\", \"bienes_servicios\", \"bienes_transables\", \"educaci\\u00f3n\", \"alimentos\", \"servicios_p\\u00fablicos\", \"inflaci\\u00f3n_alimentos\", \"precios\", \"combustibles\", \"grupos\", \"inflaci\\u00f3n\", \"acumulada\", \"productividad\", \"inflaci\\u00f3n_consumidor\", \"grupo\", \"reducci\\u00f3n\", \"costos\", \"inflaci\\u00f3n_b\\u00e1sica\", \"incremento\", \"ajustes\", \"transporte\", \"salarios\", \"iva\", \"incrementos\", \"canasta\", \"efecto\", \"aumento\", \"presiones_inflacionarias\", \"ca\\u00edda\", \"menor\", \"disminuci\\u00f3n\", \"devaluaci\\u00f3n\", \"comportamiento\", \"importante\", \"precio\", \"nivel\", \"repunte\", \"sectores_transables\", \"rendimiento\", \"hora\", \"canales\", \"departamento\", \"ordinaria\", \"corrigieron\", \"irregular\", \"obedecer\\u00eda\", \"ampliada\", \"respuestas\", \"arriendo\", \"prestaciones\", \"empresariales\", \"administrativo\", \"planeaci\\u00f3n\", \"segmento\", \"revisado\", \"diferencias\", \"tendencial\", \"percibe\", \"analistas_locales\", \"denominadas\", \"pagadas\", \"productor\", \"encuesta_expectativas_banco_rep\\u00fablica\", \"alterar\", \"encuesta\", \"pesimista\", \"encuesta_realizada\", \"pena\", \"vale\", \"agentes_esperan\", \"extranjeros\", \"aceler\\u00e1ndose\", \"pregunta\", \"disponibilidad_cr\\u00e9dito\", \"encuestados\", \"agentes\", \"fedesarrollo\", \"uci\", \"esperaban\", \"estad\\u00edstica\", \"analistas\", \"condiciones_externas\", \"andi\", \"trabajadas\", \"esperan\", \"promedio\", \"porcentaje\", \"base_monetaria\", \"indicador\", \"informaci\\u00f3n\", \"nacional\", \"encuestas\", \"variable\", \"expectativas\", \"nivel\", \"ciudades\", \"baja\", \"crecimiento\", \"evoluci\\u00f3n\", \"devaluaci\\u00f3n\", \"puntos_porcentuales\", \"muestra\", \"inflaci\\u00f3n\", \"comportamiento\", \"tasa\", \"liquidez\", \"desbalances\", \"favoreciendo\", \"moderados\", \"importaciones_bienes\", \"importaciones_bienes_capital\", \"obras_civiles\", \"previos\", \"edificaciones\", \"durable\", \"confiar\", \"primarios_combustibles\", \"intervenir\", \"equipo_transporte\", \"aceleraron\", \"bienes_capital\", \"n\\u00facleo\", \"n\\u00facleo_inflacionario\", \"excesiva\", \"medicinas\", \"acelerarse\", \"sub\\u00edndice\", \"superando\", \"obras\", \"formaci\\u00f3n_bruta\", \"ven\\u00edan\", \"completa\", \"cumplir_meta\", \"emisi\\u00f3n\", \"durables\", \"evalu\\u00f3\", \"ipc_alimentos\", \"eoe\", \"construcci\\u00f3n\", \"truncada\", \"asim\\u00e9trica\", \"bienes_durables\", \"dane\", \"producci\\u00f3n_industrial\", \"industria\", \"servicios\", \"comercio\", \"ramas\", \"maquinaria_equipo\", \"ventas\", \"indicadores\", \"sectores\", \"consumo\", \"cifras\", \"inversi\\u00f3n\", \"vivienda\", \"crecimiento\", \"crecieron\", \"consumo_hogares\", \"sector\", \"creci\\u00f3\", \"bienes\", \"informaci\\u00f3n\", \"transporte\", \"corrido\", \"desempe\\u00f1o\", \"industrial\", \"contracci\\u00f3n\", \"promedio\", \"importante\", \"comportamiento\", \"indicador\", \"demanda\", \"recuperaci\\u00f3n\", \"menor\", \"tasa\", \"entorno\", \"jdbr_decidi\\u00f3_mantener\", \"subasta\", \"activas\", \"primaria\", \"repos\", \"marginal\", \"mejoraron\", \"pasivas\", \"cartera_hipotecaria\", \"of\", \"beneficios\", \"the\", \"bajas_tasas\", \"afecte\", \"protecci\\u00f3n\", \"amplia_liquidez\", \"bancos_centrales\", \"curva_rendimientos\", \"local\", \"incierta\", \"refiere\", \"locales_extranjeros\", \"ventanilla\", \"objetivos\", \"termina\", \"magnitudes\", \"acelerando\", \"subasta_expansi\\u00f3n\", \"discrecional\", \"cr\\u00e9ditos\", \"asi\\u00e1ticas\", \"lombarda_contracci\\u00f3n\", \"secundario\", \"intervenci\\u00f3n\", \"lombarda_expansi\\u00f3n\", \"cr\\u00e9dito\", \"plazos\", \"primas_riesgo\", \"tasas_intervenci\\u00f3n\", \"mercado_cambiario\", \"t\\u00edtulos\", \"tes\", \"cartera\", \"preferencial\", \"fija\", \"subastas\", \"liquidez\", \"tesorer\\u00eda\", \"nominales\", \"sistema_financiero\", \"tasas\", \"divisas\", \"tasa\", \"mercado\", \"compras\", \"tasa_inter\\u00e9s\", \"tasas_inter\\u00e9s\", \"contracci\\u00f3n\", \"fed\", \"ahorro\", \"comercial\", \"consumo\", \"banco_rep\\u00fablica\", \"expansi\\u00f3n\", \"crecimiento\", \"reales\", \"mantuvo\", \"demanda\", \"econom\\u00eda\", \"reducci\\u00f3n\", \"nivel\", \"comportamiento\", \"probabilidades\", \"entradas\", \"neutral\", \"analistas_locales_extranjeros\", \"graduales\", \"intervalo\", \"petroleros\", \"constantes\", \"cerrada\", \"inversi\\u00f3n_extranjera\", \"rezagos\", \"chart\", \"ejercicios\", \"fan\", \"sachs\", \"goldman\", \"funcionamiento\", \"intereses\", \"provino\", \"recordar\", \"amortizaciones\", \"phillips\", \"caracter\\u00edsticas\", \"obtenidos\", \"compensados\", \"pronosticado\", \"recuento\", \"mecanismos\", \"incrementarse\", \"generales\", \"determinantes\", \"formaci\\u00f3n\", \"sit\\u00faan\", \"consideraciones\", \"brecha_producto\", \"escenarios\", \"transferencias\", \"modelo\", \"supuestos\", \"modelos\", \"estimaci\\u00f3n\", \"pron\\u00f3sticos\", \"supone\", \"neto\", \"posibles\", \"probabilidad\", \"directa\", \"balanza_pagos\", \"presencia\", \"pron\\u00f3stico\", \"variables\", \"inflaci\\u00f3n\", \"apreciaci\\u00f3n\", \"interno\", \"capital\", \"prevista\", \"proyecciones\", \"mmt\", \"producto\", \"banco_rep\\u00fablica\", \"resultados\", \"escenario\", \"base\", \"promedio\", \"tipo_cambio\", \"factores\", \"evoluci\\u00f3n\", \"reducci\\u00f3n\", \"crecimiento\", \"nivel\", \"incertidumbre\", \"demanda\", \"pib\", \"regulados\", \"china\", \"wti\", \"barril\", \"opep\", \"posteriormente\", \"canastas\", \"prolongado\", \"permanecer\", \"frecuencia\", \"programas\", \"west\", \"intermediate\", \"texas\", \"dirigida\", \"crudos\", \"equivalentes\", \"regular\", \"ceder\", \"inesperado\", \"coeficientes\", \"exportadores_petr\\u00f3leo\", \"consistentes\", \"mmm\", \"acero\", \"mencionadas\", \"india\", \"m\\u00ednima\", \"rotaci\\u00f3n\", \"exportado\", \"recomposici\\u00f3n\", \"cuentas_ahorro\", \"funci\\u00f3n\", \"minas\", \"multiplicador\", \"semana_santa\", \"crudo\", \"canteras\", \"h\\u00e1biles\", \"precio_crudo\", \"organizaci\\u00f3n\", \"clasificaci\\u00f3n\", \"tasa_crecimiento_saldo\", \"producidos\", \"pse\", \"cuentas_corrientes\", \"efectivo\", \"precio_petr\\u00f3leo\", \"pasaron\", \"precios\", \"bienes\", \"producci\\u00f3n\", \"precio\", \"variaci\\u00f3n\", \"explica\", \"crecimiento\", \"promedio\", \"petr\\u00f3leo\", \"respectivamente\", \"comportamiento\", \"menor\", \"incremento\", \"ca\\u00edda\", \"pas\\u00f3\", \"\\u00edndice\", \"niveles\", \"colombia\", \"observado\", \"nivel\", \"tasa\", \"reducci\\u00f3n\", \"remesas\", \"tendieron\", \"rentabilidad\", \"incrementos_salariales\", \"sostenibilidad\", \"incremento_salarial\", \"porcentaje_trabajadores_beneficiados\", \"piso\", \"har\\u00eda\", \"revista\", \"pactos\", \"pactados\", \"rentabilidad_externa\", \"emisor\", \"comprendido\", \"latinoamericanas\", \"vulnerable\", \"condici\\u00f3n\", \"borradores\", \"considerarse\", \"positivamente\", \"beneficiados\", \"convenciones_colectivas\", \"rentabilidad_externa_esperada\", \"externa_referencia\", \"subgrupos\", \"indispensable\", \"legumbres\", \"regla\", \"incluir\", \"spot\", \"devaluaciones\", \"distribuci\\u00f3n\", \"negociaciones\", \"banca_hipotecaria\", \"pactado\", \"post\", \"efect\\u00faa\", \"flujos_capital\", \"monedas\", \"concentr\\u00f3\", \"moneda_extranjera\", \"banda\", \"interna\", \"d\\u00f3lar\", \"devaluaci\\u00f3n\", \"peso\", \"ubic\\u00f3\", \"puntos_porcentuales\", \"externa\", \"nominal\", \"rango\", \"real\", \"dtf\", \"diferencial\", \"tasa\", \"inversiones\", \"promedio\", \"cierre\", \"alcanz\\u00f3\", \"ipc\", \"inferior\", \"superior\", \"nivel\", \"observada\", \"corrido\", \"muestra\", \"expectativas\", \"menor\", \"inflaci\\u00f3n\", \"observado\", \"medida\", \"perspectivas_crecimiento\", \"moderadas\", \"fortaleza\", \"flujos_capitales\", \"billones\", \"amplias\", \"indicar\\u00eda\", \"econom\\u00edas_emergentes\", \"super\\u00e1vit\", \"ausencia\", \"mediciones\", \"pol\\u00edticos\", \"morgan\", \"mantuviera\", \"subregi\\u00f3n\", \"desequilibrios\", \"empresas_exportadoras\", \"preve\\u00eda\", \"exportaci\\u00f3n\", \"aumentan\", \"tender\\u00eda\", \"am\\u00e9rica_latina\", \"s\\u00f3lido\", \"ajustan\", \"aprobaci\\u00f3n\", \"altos_precios_petr\\u00f3leo\", \"atractivo\", \"crecer\\u00eda\", \"accionarios\", \"contaban\", \"econom\\u00edas\", \"regi\\u00f3n\", \"exportaciones_colombianas\", \"t\\u00e9rminos_intercambio\", \"venezolana\", \"fiscal\", \"capitales\", \"argentina\", \"constituyen\", \"favorables\", \"bajas_tasas_inter\\u00e9s\", \"zona_euro\", \"desempe\\u00f1o_econ\\u00f3mico\", \"econom\\u00eda_norteamericana\", \"econom\\u00edas_desarrolladas\", \"emergentes\", \"corriente\", \"econom\\u00eda_mundial\", \"debilitamiento\", \"fiscales\", \"estados_unidos\", \"econom\\u00eda_estados_unidos\", \"pib_potencial\", \"deber\\u00e1\", \"mundial\", \"econom\\u00eda\", \"demanda_interna\", \"pib\", \"demanda_externa\", \"mercados\", \"crecimiento\", \"confianza\", \"precios_petr\\u00f3leo\", \"espera\", \"crecimiento_econ\\u00f3mico\", \"d\\u00e9ficit\", \"recuperaci\\u00f3n\", \"aumento\", \"condiciones\", \"inversi\\u00f3n\", \"factores\", \"incertidumbre\", \"gobierno\", \"dinamismo\", \"mayores\", \"esperado\", \"situaci\\u00f3n\", \"colombia\", \"menor\", \"observado\", \"demanda\", \"apreciaci\\u00f3n\", \"efecto\", \"exportaciones\", \"importante\"], \"Total\": [2678.0, 2705.0, 1248.0, 378.0, 590.0, 479.0, 293.0, 941.0, 284.0, 769.0, 403.0, 173.0, 614.0, 468.0, 223.0, 387.0, 465.0, 409.0, 245.0, 369.0, 222.0, 141.0, 594.0, 420.0, 151.0, 204.0, 147.0, 144.0, 169.0, 240.0, 19.934850692749023, 40.19136047363281, 18.081745147705078, 15.674575805664062, 15.929142951965332, 12.150490760803223, 11.972493171691895, 40.68465042114258, 18.6641902923584, 36.87630844116211, 12.886584281921387, 27.995990753173828, 15.378029823303223, 14.667820930480957, 10.001096725463867, 14.482243537902832, 8.556295394897461, 11.905509948730469, 8.310188293457031, 7.654086112976074, 7.609005928039551, 8.831255912780762, 10.14512825012207, 9.888139724731445, 10.211128234863281, 6.904104709625244, 6.858528137207031, 6.813177585601807, 17.320281982421875, 12.710999488830566, 36.50812530517578, 23.028650283813477, 40.51491165161133, 12.905447006225586, 30.741716384887695, 87.77742004394531, 13.69968318939209, 24.239627838134766, 254.3743896484375, 403.6109313964844, 2678.711669921875, 315.1880187988281, 614.2388916015625, 211.4813232421875, 81.09928894042969, 123.76821899414062, 32.17115020751953, 48.788726806640625, 111.51702117919922, 465.59088134765625, 228.62400817871094, 81.90705871582031, 590.3536987304688, 479.2154541015625, 135.31776428222656, 87.52320098876953, 240.8055419921875, 74.7190170288086, 240.34619140625, 455.52191162109375, 345.1386413574219, 161.5278778076172, 218.29446411132812, 815.1016235351562, 296.3440856933594, 1248.3717041015625, 203.1280059814453, 580.5140380859375, 757.0424194335938, 159.5626220703125, 204.15957641601562, 234.3522186279297, 295.2433166503906, 424.808349609375, 714.5699462890625, 594.0650634765625, 468.5540771484375, 593.4616088867188, 716.9483032226562, 38.8393440246582, 28.002849578857422, 27.74702262878418, 29.06256866455078, 21.723161697387695, 18.251619338989258, 15.83780288696289, 147.30897521972656, 19.636646270751953, 15.82236385345459, 17.749629974365234, 13.374282836914062, 32.699588775634766, 14.24539566040039, 11.698050498962402, 23.147184371948242, 25.6644229888916, 10.859899520874023, 10.122584342956543, 10.020868301391602, 11.735987663269043, 11.736822128295898, 22.23825454711914, 11.352511405944824, 9.204646110534668, 10.285350799560547, 25.006067276000977, 13.326823234558105, 8.549687385559082, 10.97723388671875, 42.14117431640625, 28.629661560058594, 144.78216552734375, 58.54911804199219, 169.63876342773438, 378.0743408203125, 28.218481063842773, 56.44599914550781, 49.20575714111328, 50.48662185668945, 74.34628295898438, 192.8938446044922, 45.3701057434082, 190.24298095703125, 409.61065673828125, 2705.330810546875, 106.51802062988281, 888.4521484375, 317.24102783203125, 120.27130126953125, 251.798095703125, 466.1127014160156, 77.54215240478516, 495.4884033203125, 290.7335205078125, 173.52706909179688, 941.4231567382812, 769.1222534179688, 593.4616088867188, 485.0494384765625, 447.57440185546875, 716.9483032226562, 261.7347412109375, 241.40464782714844, 349.554443359375, 512.0458374023438, 293.0434875488281, 36.892948150634766, 53.01556396484375, 22.39327621459961, 21.517736434936523, 23.16763687133789, 34.50050354003906, 16.49350357055664, 14.617993354797363, 20.80998420715332, 37.021034240722656, 47.17142105102539, 17.851348876953125, 35.769744873046875, 93.95262908935547, 37.618988037109375, 12.12836742401123, 22.461650848388672, 21.241199493408203, 39.05902862548828, 16.309019088745117, 18.006664276123047, 26.429668426513672, 23.10932159423828, 44.680625915527344, 10.479576110839844, 9.557717323303223, 9.557869911193848, 9.719011306762695, 21.888933181762695, 245.1023406982422, 44.6938591003418, 30.073068618774414, 91.29679107666016, 41.2438850402832, 41.87849044799805, 58.054412841796875, 131.40968322753906, 47.57014465332031, 369.4254150390625, 99.52257537841797, 479.2154541015625, 1248.3717041015625, 159.41943359375, 86.63606262207031, 2678.711669921875, 92.30958557128906, 218.960205078125, 133.6868133544922, 179.3029327392578, 757.0424194335938, 165.61990356445312, 234.3522186279297, 580.5140380859375, 119.48876953125, 163.8677215576172, 111.13743591308594, 79.25415802001953, 295.2433166503906, 90.44422912597656, 497.60711669921875, 714.5699462890625, 229.19024658203125, 466.1127014160156, 888.4521484375, 255.99880981445312, 468.5540771484375, 716.9483032226562, 528.48193359375, 317.24102783203125, 815.1016235351562, 268.9801330566406, 95.69920349121094, 29.488767623901367, 27.47488021850586, 32.189876556396484, 37.07172775268555, 14.29106616973877, 52.9499626159668, 19.958717346191406, 12.495267868041992, 14.229991912841797, 24.94046974182129, 11.596953392028809, 18.868568420410156, 9.797911643981934, 19.721635818481445, 19.616500854492188, 9.842928886413574, 9.010611534118652, 17.748422622680664, 11.156140327453613, 18.617263793945312, 117.59022521972656, 9.928971290588379, 10.782064437866211, 12.512436866760254, 21.737600326538086, 8.21798038482666, 151.7072296142578, 9.70789909362793, 14.90424919128418, 17.845592498779297, 17.85277557373047, 38.23322677612305, 112.79759216308594, 19.032520294189453, 14.9555082321167, 30.68227767944336, 69.4432601928711, 173.6149444580078, 102.08843994140625, 53.1907844543457, 47.717185974121094, 27.29050636291504, 225.47622680664062, 49.63408279418945, 73.71044158935547, 45.94064712524414, 161.6787872314453, 941.4231567382812, 104.31289672851562, 116.47270965576172, 273.81036376953125, 266.5858154296875, 137.6068572998047, 58.557640075683594, 108.48400115966797, 614.2388916015625, 815.1016235351562, 85.96540069580078, 234.45773315429688, 2705.330810546875, 307.5464172363281, 468.5540771484375, 358.09381103515625, 318.7578430175781, 2678.711669921875, 716.9483032226562, 769.1222534179688, 190.93902587890625, 48.20530319213867, 37.70515060424805, 30.531518936157227, 38.85064697265625, 44.491729736328125, 96.79792785644531, 16.266220092773438, 58.19645309448242, 16.38691520690918, 19.614755630493164, 16.046667098999023, 12.873044967651367, 30.933929443359375, 13.077597618103027, 28.401683807373047, 33.67049026489258, 21.02468490600586, 13.776653289794922, 17.231117248535156, 12.460286140441895, 19.198692321777344, 9.250258445739746, 13.789392471313477, 37.04471206665039, 14.175671577453613, 10.056472778320312, 8.241994857788086, 9.224650382995605, 24.807239532470703, 8.206101417541504, 79.91890716552734, 25.886184692382812, 223.45265197753906, 17.386947631835938, 17.37066650390625, 42.93388748168945, 194.84051513671875, 111.94717407226562, 240.6213836669922, 183.97238159179688, 141.76470947265625, 42.60899353027344, 61.12184143066406, 173.52706909179688, 319.8966369628906, 223.42779541015625, 387.82421875, 243.91873168945312, 420.774658203125, 175.20333862304688, 2705.330810546875, 88.89569091796875, 158.85067749023438, 293.2947998046875, 106.16740417480469, 250.64669799804688, 266.5858154296875, 163.8677215576172, 292.0047912597656, 268.99395751953125, 102.08483123779297, 217.97865295410156, 941.4231567382812, 528.48193359375, 716.9483032226562, 273.81036376953125, 512.0458374023438, 447.57440185546875, 888.4521484375, 769.1222534179688, 41.17657470703125, 36.164405822753906, 50.01346206665039, 32.00603103637695, 15.35362720489502, 39.556175231933594, 14.606222152709961, 26.636098861694336, 24.456523895263672, 28.140811920166016, 11.736222267150879, 15.29422378540039, 12.933991432189941, 15.364030838012695, 10.373931884765625, 10.373945236206055, 45.17204666137695, 35.416866302490234, 36.58715057373047, 12.256307601928711, 11.418983459472656, 15.150628089904785, 12.809918403625488, 18.513160705566406, 8.643107414245605, 8.643142700195312, 13.447609901428223, 7.934393405914307, 20.010940551757812, 31.511398315429688, 43.54948425292969, 23.39765167236328, 24.766271591186523, 20.923297882080078, 78.77855682373047, 23.31471061706543, 222.45956420898438, 74.30399322509766, 36.2688102722168, 84.19387817382812, 73.18391418457031, 73.03815460205078, 130.75596618652344, 204.0150604248047, 22.506271362304688, 29.809398651123047, 52.486183166503906, 190.93902587890625, 53.679901123046875, 66.24574279785156, 99.60091400146484, 594.0650634765625, 78.20378112792969, 769.1222534179688, 349.554443359375, 93.24124145507812, 187.84474182128906, 465.59088134765625, 217.97865295410156, 137.56509399414062, 92.19828796386719, 108.5036392211914, 387.82421875, 312.591552734375, 306.48565673828125, 2705.330810546875, 121.71407318115234, 154.04225158691406, 512.0458374023438, 648.615478515625, 757.0424194335938, 815.1016235351562, 716.9483032226562, 27.956533432006836, 39.112281799316406, 30.572481155395508, 24.192529678344727, 22.064537048339844, 25.821142196655273, 14.877363204956055, 16.91663360595703, 23.18670654296875, 29.66360092163086, 17.7257080078125, 13.706282615661621, 17.036970138549805, 14.505146980285645, 16.750751495361328, 16.750751495361328, 22.540441513061523, 20.099782943725586, 14.429551124572754, 9.692238807678223, 14.168403625488281, 18.658843994140625, 10.244414329528809, 19.099720001220703, 10.537317276000977, 12.472489356994629, 9.32833480834961, 8.933743476867676, 19.521198272705078, 14.039949417114258, 25.54705810546875, 15.103139877319336, 29.102397918701172, 39.742610931396484, 284.6062316894531, 39.20176696777344, 40.829193115234375, 116.9312744140625, 53.48007583618164, 146.9663848876953, 73.18524169921875, 590.3536987304688, 98.9368896484375, 61.809410095214844, 77.5797348022461, 119.82461547851562, 34.42062759399414, 84.86290740966797, 33.811885833740234, 403.6109313964844, 119.23665618896484, 2678.711669921875, 390.81695556640625, 133.8985595703125, 117.45013427734375, 100.91110229492188, 190.59043884277344, 82.56368255615234, 201.70765686035156, 312.591552734375, 240.34619140625, 122.4608383178711, 216.66441345214844, 941.4231567382812, 345.1386413574219, 426.8854675292969, 307.5464172363281, 757.0424194335938, 2705.330810546875, 815.1016235351562, 287.15771484375, 512.0458374023438, 493.35089111328125, 173.31275939941406, 141.5738983154297, 34.66874313354492, 101.9924087524414, 79.47073364257812, 14.311559677124023, 13.351705551147461, 15.2328519821167, 13.429587364196777, 17.43951416015625, 18.057748794555664, 13.260929107666016, 13.260937690734863, 13.260940551757812, 10.808526039123535, 10.829225540161133, 16.44288444519043, 12.638776779174805, 10.119959831237793, 9.905219078063965, 12.633191108703613, 25.658416748046875, 12.407038688659668, 18.6412410736084, 12.063332557678223, 9.056628227233887, 12.334062576293945, 28.03929901123047, 10.807842254638672, 11.966827392578125, 22.547147750854492, 31.247989654541016, 27.195091247558594, 20.77412986755371, 14.943939208984375, 30.306745529174805, 82.24869537353516, 14.477015495300293, 82.53604888916016, 41.87751388549805, 35.409812927246094, 45.7669563293457, 27.321575164794922, 20.734296798706055, 24.933256149291992, 31.987308502197266, 95.16973876953125, 88.59776306152344, 33.21384048461914, 1248.3717041015625, 250.64669799804688, 409.61065673828125, 317.24102783203125, 175.22183227539062, 203.26473999023438, 2705.330810546875, 941.4231567382812, 192.8938446044922, 243.80557250976562, 716.9483032226562, 888.4521484375, 580.5140380859375, 466.1127014160156, 164.16380310058594, 137.8680419921875, 455.52191162109375, 343.4967041015625, 495.4884033203125, 815.1016235351562, 769.1222534179688, 757.0424194335938, 29.513809204101562, 18.54183578491211, 58.094688415527344, 40.4865608215332, 18.129344940185547, 44.97850036621094, 25.952999114990234, 20.24474334716797, 13.673343658447266, 21.294998168945312, 26.944658279418945, 26.6275577545166, 22.44465446472168, 21.278539657592773, 22.740324020385742, 16.11656379699707, 14.49045181274414, 10.981420516967773, 10.864181518554688, 10.80479907989502, 10.997566223144531, 17.601640701293945, 19.265941619873047, 18.07341766357422, 16.753271102905273, 12.763486862182617, 8.884703636169434, 11.828607559204102, 10.074163436889648, 10.266167640686035, 14.462397575378418, 12.987245559692383, 59.8114128112793, 22.515905380249023, 19.834880828857422, 13.24484634399414, 19.92007064819336, 17.261816024780273, 82.7872543334961, 87.94660186767578, 19.446046829223633, 37.315345764160156, 39.360931396484375, 80.72959899902344, 229.53054809570312, 468.5540771484375, 184.17962646484375, 103.89198303222656, 358.09381103515625, 94.06248474121094, 173.3704833984375, 94.21509552001953, 367.264404296875, 123.99287414550781, 37.56659698486328, 769.1222534179688, 69.58863830566406, 941.4231567382812, 172.64524841308594, 94.83949279785156, 119.78605651855469, 260.39569091796875, 288.88427734375, 815.1016235351562, 334.15289306640625, 292.0047912597656, 318.7578430175781, 614.2388916015625, 888.4521484375, 2678.711669921875, 495.4884033203125, 304.3399658203125, 97.37455749511719, 18.175100326538086, 29.47713279724121, 40.541954040527344, 21.395164489746094, 17.044898986816406, 17.755327224731445, 110.94304656982422, 31.766284942626953, 20.455873489379883, 12.966164588928223, 17.520734786987305, 12.151275634765625, 12.200875282287598, 11.48276138305664, 36.69021224975586, 24.412485122680664, 13.031514167785645, 69.01704406738281, 10.716816902160645, 10.51885986328125, 111.25686645507812, 11.930925369262695, 10.635163307189941, 27.722551345825195, 49.720638275146484, 13.301827430725098, 12.56355094909668, 15.171684265136719, 13.902647972106934, 163.42967224121094, 152.89585876464844, 25.952241897583008, 130.02284240722656, 21.25514793395996, 113.67668151855469, 151.89251708984375, 55.23003387451172, 20.54073143005371, 139.93907165527344, 88.64227294921875, 96.88204956054688, 32.29787063598633, 72.9923324584961, 48.047794342041016, 83.65966033935547, 47.60240173339844, 118.18948364257812, 75.40171813964844, 54.00587844848633, 485.0494384765625, 71.29357147216797, 54.02065658569336, 49.26114273071289, 170.22731018066406, 648.615478515625, 225.36248779296875, 493.35089111328125, 158.355224609375, 172.08656311035156, 2705.330810546875, 120.9970932006836, 130.1533966064453, 593.4616088867188, 202.2445068359375, 132.8889923095703, 447.57440185546875, 714.5699462890625, 235.89675903320312, 420.774658203125, 426.8854675292969, 287.15771484375, 275.78302001953125, 290.7335205078125, 424.808349609375, 256.0965576171875, 239.8674774169922, 343.4967041015625, 888.4521484375, 495.4884033203125, 512.0458374023438, 390.81695556640625, 497.60711669921875, 378.0743408203125, 528.48193359375], \"loglift\": [30.0, 29.0, 28.0, 27.0, 26.0, 25.0, 24.0, 23.0, 22.0, 21.0, 20.0, 19.0, 18.0, 17.0, 16.0, 15.0, 14.0, 13.0, 12.0, 11.0, 10.0, 9.0, 8.0, 7.0, 6.0, 5.0, 4.0, 3.0, 2.0, 1.0, 2.1470999717712402, 2.1435000896453857, 2.1419999599456787, 2.1415998935699463, 2.135499954223633, 2.132200002670288, 2.1319000720977783, 2.1289000511169434, 2.126699924468994, 2.126199960708618, 2.1257998943328857, 2.124300003051758, 2.122299909591675, 2.1201999187469482, 2.1180999279022217, 2.116300106048584, 2.1138999462127686, 2.1135001182556152, 2.108799934387207, 2.1078999042510986, 2.1077001094818115, 2.1073999404907227, 2.1073999404907227, 2.106300115585327, 2.1054999828338623, 2.100800037384033, 2.100600004196167, 2.1003000736236572, 2.1001999378204346, 2.0998001098632812, 2.0985000133514404, 2.093100070953369, 2.0868000984191895, 2.085900068283081, 2.0376999378204346, 1.9605000019073486, 2.071199893951416, 2.0099000930786133, 1.7476999759674072, 1.667099952697754, 1.2230000495910645, 1.5472999811172485, 1.4266999959945679, 1.6058000326156616, 1.7689000368118286, 1.6539000272750854, 1.9214999675750732, 1.8285000324249268, 1.6323000192642212, 1.256500005722046, 1.4293999671936035, 1.6837999820709229, 1.1236000061035156, 1.15339994430542, 1.4945000410079956, 1.6066999435424805, 1.2307000160217285, 1.6052000522613525, 1.1586999893188477, 0.894599974155426, 0.9708999991416931, 1.2732000350952148, 1.0972000360488892, 0.44699999690055847, 0.9401000142097473, 0.13910000026226044, 1.1080000400543213, 0.4684999883174896, 0.30149999260902405, 1.2258000373840332, 1.039199948310852, 0.9316999912261963, 0.7524999976158142, 0.446399986743927, 0.0024999999441206455, 0.12280000001192093, 0.3253999948501587, 0.04699999839067459, -0.13899999856948853, 2.628200054168701, 2.6245999336242676, 2.6243999004364014, 2.619499921798706, 2.615999937057495, 2.6152000427246094, 2.6110999584198, 2.609600067138672, 2.609299898147583, 2.6061999797821045, 2.6059000492095947, 2.6054000854492188, 2.6040000915527344, 2.6022000312805176, 2.6001999378204346, 2.600100040435791, 2.5998001098632812, 2.5969998836517334, 2.593400001525879, 2.5933001041412354, 2.5933001041412354, 2.5931999683380127, 2.5905001163482666, 2.5885000228881836, 2.586699962615967, 2.5833001136779785, 2.581199884414673, 2.5808000564575195, 2.5782999992370605, 2.57450008392334, 2.5469000339508057, 2.553299903869629, 2.480799913406372, 2.4839000701904297, 2.3642001152038574, 2.2058000564575195, 2.4791998863220215, 2.3025999069213867, 2.3094000816345215, 2.2636001110076904, 2.152400016784668, 1.8907999992370605, 2.2523999214172363, 1.7934000492095947, 1.5183000564575195, 0.5306000113487244, 1.8450000286102295, 0.8604999780654907, 1.2651000022888184, 1.6979000568389893, 1.2519999742507935, 0.8258000016212463, 1.8645999431610107, 0.703499972820282, 1.0042999982833862, 1.3223999738693237, 0.09989999979734421, 0.21130000054836273, 0.39340001344680786, 0.5321999788284302, 0.5877000093460083, 0.19529999792575836, 0.9592000246047974, 0.9610999822616577, 0.6363000273704529, 0.27129998803138733, 2.0051000118255615, 1.9947999715805054, 1.9916000366210938, 1.9859000444412231, 1.9852999448776245, 1.982300043106079, 1.9804999828338623, 1.9764000177383423, 1.9747999906539917, 1.9740999937057495, 1.9739999771118164, 1.9723000526428223, 1.9714000225067139, 1.9709999561309814, 1.9680999517440796, 1.9670000076293945, 1.9666999578475952, 1.9651000499725342, 1.965000033378601, 1.9646999835968018, 1.9639999866485596, 1.9639999866485596, 1.9636000394821167, 1.9635000228881836, 1.962399959564209, 1.961300015449524, 1.9570000171661377, 1.9570000171661377, 1.9569000005722046, 1.955899953842163, 1.9514000415802002, 1.9460999965667725, 1.9499000310897827, 1.9383000135421753, 1.9305000305175781, 1.9282000064849854, 1.9113999605178833, 1.8593000173568726, 1.9132000207901, 1.719599962234497, 1.7510000467300415, 1.5198999643325806, 1.341599941253662, 1.642899990081787, 1.7446000576019287, 1.079300045967102, 1.7038999795913696, 1.5281000137329102, 1.6272000074386597, 1.547700047492981, 1.0927000045776367, 1.5097999572753906, 1.363700032234192, 0.9505000114440918, 1.5266000032424927, 1.4018000364303589, 1.5276000499725342, 1.6606999635696411, 1.0292999744415283, 1.59089994430542, 0.645799994468689, 0.4058000147342682, 1.0327999591827393, 0.598800003528595, 0.2021999955177307, 0.926800012588501, 0.5123000144958496, 0.21690000593662262, 0.39430001378059387, 0.754800021648407, -0.056299999356269836, 0.8658999800682068, 2.716599941253662, 2.7056000232696533, 2.703000068664551, 2.7019999027252197, 2.6891000270843506, 2.6881000995635986, 2.6877999305725098, 2.685800075531006, 2.683300018310547, 2.6782000064849854, 2.676500082015991, 2.676100015640259, 2.6744000911712646, 2.6730000972747803, 2.671299934387207, 2.6702001094818115, 2.6689000129699707, 2.668100118637085, 2.667799949645996, 2.6677000522613525, 2.666100025177002, 2.66510009765625, 2.661099910736084, 2.6589999198913574, 2.6589999198913574, 2.658400058746338, 2.6566998958587646, 2.653599977493286, 2.6526999473571777, 2.649899959564209, 2.6431000232696533, 2.6424999237060547, 2.623699903488159, 2.574700117111206, 2.6382999420166016, 2.6424999237060547, 2.5827999114990234, 2.508500099182129, 2.3850998878479004, 2.4128000736236572, 2.476300001144409, 2.4744999408721924, 2.558000087738037, 2.1489999294281006, 2.43969988822937, 2.311199903488159, 2.3849000930786133, 2.003000020980835, 1.4186999797821045, 2.112499952316284, 2.019399881362915, 1.6994999647140503, 1.6562000513076782, 1.8933000564575195, 2.206700086593628, 1.9187999963760376, 1.052299976348877, 0.8730000257492065, 2.012700080871582, 1.4393999576568604, -0.03139999881386757, 1.107699990272522, 0.6575999855995178, 0.8398000001907349, 0.9135000109672546, -0.932699978351593, 0.18209999799728394, 0.045499999076128006, 1.2783000469207764, 2.331899881362915, 2.3289999961853027, 2.3197999000549316, 2.3141000270843506, 2.3125998973846436, 2.3125, 2.3094000816345215, 2.301500082015991, 2.301300048828125, 2.299099922180176, 2.298099994659424, 2.2978999614715576, 2.2976999282836914, 2.297499895095825, 2.2967000007629395, 2.2964000701904297, 2.2962000370025635, 2.2911999225616455, 2.2904000282287598, 2.2901999950408936, 2.289400100708008, 2.289099931716919, 2.286400079727173, 2.2848000526428223, 2.28439998626709, 2.283099889755249, 2.2815001010894775, 2.280600070953369, 2.2797999382019043, 2.2792000770568848, 2.2751998901367188, 2.276099920272827, 2.253000020980835, 2.2704999446868896, 2.2699999809265137, 2.2202000617980957, 2.1157000064849854, 2.121999979019165, 2.046299934387207, 2.039400100708008, 2.0446999073028564, 2.140899896621704, 2.0787999629974365, 1.896399974822998, 1.7869999408721924, 1.7656999826431274, 1.6496000289916992, 1.7072999477386475, 1.4630999565124512, 1.677899956703186, 0.7168999910354614, 1.826200008392334, 1.6079000234603882, 1.3508000373840332, 1.6955000162124634, 1.24590003490448, 1.2070000171661377, 1.4560999870300293, 1.082800030708313, 1.1167999505996704, 1.6992000341415405, 1.2071000337600708, 0.19910000264644623, 0.559499979019165, 0.33340001106262207, 1.0192999839782715, 0.5195000171661377, 0.5914999842643738, -0.03920000046491623, 0.020500000566244125, 2.3529000282287598, 2.341900110244751, 2.3380000591278076, 2.333899974822998, 2.3334999084472656, 2.328200101852417, 2.3276000022888184, 2.32669997215271, 2.3257999420166016, 2.324399948120117, 2.3232998847961426, 2.3201000690460205, 2.3196001052856445, 2.3194000720977783, 2.3178999423980713, 2.3178999423980713, 2.31469988822937, 2.3145999908447266, 2.314500093460083, 2.3127999305725098, 2.311199903488159, 2.3108999729156494, 2.3108999729156494, 2.310499906539917, 2.3087000846862793, 2.3087000846862793, 2.3041999340057373, 2.302999973297119, 2.3022000789642334, 2.3017001152038574, 2.2952001094818115, 2.3011999130249023, 2.297800064086914, 2.297100067138672, 2.2607998847961426, 2.294800043106079, 2.207200050354004, 2.248199939727783, 2.2741000652313232, 2.236799955368042, 2.2402000427246094, 2.229300022125244, 2.1816000938415527, 2.1331000328063965, 2.2894999980926514, 2.2541000843048096, 2.1700000762939453, 1.9577000141143799, 2.137700080871582, 2.100600004196167, 2.0136001110076904, 1.6017999649047852, 2.0387001037597656, 1.4381999969482422, 1.621399998664856, 1.9661999940872192, 1.6467000246047974, 1.2877999544143677, 1.5601999759674072, 1.7208000421524048, 1.8883999586105347, 1.7788000106811523, 1.0825999975204468, 1.1957999467849731, 1.1050000190734863, -0.385699987411499, 1.5436999797821045, 1.3444000482559204, 0.4088999927043915, 0.16580000519752502, -0.06419999897480011, -0.17149999737739563, -0.15029999613761902, 2.459399938583374, 2.4576001167297363, 2.453399896621704, 2.44950008392334, 2.448899984359741, 2.4426000118255615, 2.441999912261963, 2.441499948501587, 2.4414000511169434, 2.434999942779541, 2.4346001148223877, 2.430000066757202, 2.4289000034332275, 2.428800106048584, 2.4286999702453613, 2.4286999702453613, 2.426500082015991, 2.426300048828125, 2.4261999130249023, 2.4258999824523926, 2.42330002784729, 2.4228999614715576, 2.4168999195098877, 2.4166998863220215, 2.416599988937378, 2.416300058364868, 2.412600040435791, 2.4123001098632812, 2.4105000495910645, 2.407399892807007, 2.3951001167297363, 2.4049999713897705, 2.3803000450134277, 2.356100082397461, 2.240799903869629, 2.308199882507324, 2.302799940109253, 2.197000026702881, 2.212899923324585, 1.9603999853134155, 2.075700044631958, 1.6088999509811401, 1.9503999948501587, 2.060499906539917, 1.9704999923706055, 1.8207999467849731, 2.20989990234375, 1.8746000528335571, 2.204900026321411, 1.2716000080108643, 1.7160999774932861, 0.3549000024795532, 1.0441999435424805, 1.5157999992370605, 1.5478999614715576, 1.6195000410079956, 1.264799952507019, 1.7206000089645386, 1.1715999841690063, 0.8776000142097473, 1.0354000329971313, 1.417799949645996, 1.010200023651123, -0.09009999781847, 0.6517999768257141, 0.3935999870300293, 0.6430000066757202, -0.14910000562667847, -1.3073999881744385, -0.2978000044822693, 0.6438000202178955, 0.0746999979019165, 0.08869999647140503, 2.801500082015991, 2.8006999492645264, 2.7846999168395996, 2.781399965286255, 2.775399923324585, 2.77020001411438, 2.7681000232696533, 2.767899990081787, 2.7674999237060547, 2.7664999961853027, 2.7595999240875244, 2.759200096130371, 2.759200096130371, 2.759200096130371, 2.7590999603271484, 2.7585999965667725, 2.757200002670288, 2.75570011138916, 2.75570011138916, 2.7551000118255615, 2.754300117492676, 2.753200054168701, 2.7513999938964844, 2.7513999938964844, 2.7509000301361084, 2.7502999305725098, 2.749500036239624, 2.7486000061035156, 2.748500108718872, 2.746999979019165, 2.745500087738037, 2.737799882888794, 2.7353999614715576, 2.7381999492645264, 2.7430999279022217, 2.6786000728607178, 2.5594000816345215, 2.731800079345703, 2.5120999813079834, 2.586199998855591, 2.603800058364868, 2.555799961090088, 2.630000114440918, 2.6619999408721924, 2.615499973297119, 2.5576999187469482, 2.186300039291382, 2.1684999465942383, 2.4697000980377197, 1.1021000146865845, 1.6722999811172485, 1.3614000082015991, 1.3092000484466553, 1.5906000137329102, 1.4788999557495117, -0.0035000001080334187, 0.5116999745368958, 1.4264999628067017, 1.2754000425338745, 0.6122000217437744, 0.4099999964237213, 0.5508000254631042, 0.6632000207901001, 1.4112000465393066, 1.5353000164031982, 0.5152000188827515, 0.7307999730110168, 0.3287999927997589, -0.17319999635219574, -0.1590999960899353, -0.17710000276565552, 2.739300012588501, 2.7309999465942383, 2.7297000885009766, 2.726799964904785, 2.7262001037597656, 2.7249999046325684, 2.723099946975708, 2.7219998836517334, 2.7207000255584717, 2.7197999954223633, 2.7184998989105225, 2.718400001525879, 2.7170000076293945, 2.716399908065796, 2.714900016784668, 2.7142999172210693, 2.714200019836426, 2.712899923324585, 2.7126998901367188, 2.712599992752075, 2.7116000652313232, 2.7102999687194824, 2.708400011062622, 2.7065999507904053, 2.7065999507904053, 2.7063000202178955, 2.702899932861328, 2.7023000717163086, 2.7014000415802, 2.6984000205993652, 2.694000005722046, 2.6958000659942627, 2.6558001041412354, 2.6826999187469482, 2.666800022125244, 2.6942999362945557, 2.6528000831604004, 2.666300058364868, 2.4607999324798584, 2.387700080871582, 2.616300106048584, 2.459399938583374, 2.437299966812134, 2.231600046157837, 1.9358999729156494, 1.7237000465393066, 1.9908000230789185, 2.1528000831604004, 1.652999997138977, 2.0906999111175537, 1.8516000509262085, 2.0666000843048096, 1.5185999870300293, 1.92739999294281, 2.419300079345703, 1.0507999658584595, 2.126300096511841, 0.76910001039505, 1.5663000345230103, 1.8839000463485718, 1.7482999563217163, 1.2755999565124512, 1.1568000316619873, 0.439300000667572, 0.9355000257492065, 1.003000020980835, 0.9318000078201294, 0.38609999418258667, 0.07689999788999557, -0.8658999800682068, 0.4765999913215637, 0.8568000197410583, 1.5026999711990356, 1.499500036239624, 1.4966000318527222, 1.4961999654769897, 1.4960999488830566, 1.4946000576019287, 1.4938000440597534, 1.493299961090088, 1.4931999444961548, 1.4918999671936035, 1.4886000156402588, 1.4865000247955322, 1.4860999584197998, 1.4860999584197998, 1.4833999872207642, 1.482100009918213, 1.4809000492095947, 1.4805999994277954, 1.4803999662399292, 1.480299949645996, 1.4802000522613525, 1.4794000387191772, 1.479099988937378, 1.4788000583648682, 1.4767999649047852, 1.4765000343322754, 1.475000023841858, 1.4749000072479248, 1.4744000434875488, 1.4738999605178833, 1.4646999835968018, 1.458799958229065, 1.4718999862670898, 1.4399000406265259, 1.4708000421524048, 1.434000015258789, 1.4129999876022339, 1.4394999742507935, 1.4663000106811523, 1.4041999578475952, 1.4164999723434448, 1.410599946975708, 1.4510999917984009, 1.412500023841858, 1.426300048828125, 1.389299988746643, 1.4198999404907227, 1.3443000316619873, 1.374899983406067, 1.4047000408172607, 1.2031999826431274, 1.3659000396728516, 1.3960000276565552, 1.4055999517440796, 1.2680000066757202, 1.0916999578475952, 1.1816999912261963, 1.0096999406814575, 1.2116999626159668, 1.194200038909912, 0.6844000220298767, 1.2513999938964844, 1.2309999465942383, 0.8866999745368958, 1.0992000102996826, 1.1949000358581543, 0.8069999814033508, 0.6453999876976013, 1.0046000480651855, 0.7930999994277954, 0.7741000056266785, 0.9175000190734863, 0.9212999939918518, 0.8894000053405762, 0.6279000043869019, 0.8848000168800354, 0.9157999753952026, 0.6603999733924866, -0.0044999998062849045, 0.30090001225471497, 0.23919999599456787, 0.4564000070095062, 0.20980000495910645, 0.4553000032901764, 0.11150000244379044], \"logprob\": [30.0, 29.0, 28.0, 27.0, 26.0, 25.0, 24.0, 23.0, 22.0, 21.0, 20.0, 19.0, 18.0, 17.0, 16.0, 15.0, 14.0, 13.0, 12.0, 11.0, 10.0, 9.0, 8.0, 7.0, 6.0, 5.0, 4.0, 3.0, 2.0, 1.0, -6.7368998527526855, -6.0391998291015625, -6.8394999504089355, -6.982699871063232, -6.972799777984619, -7.2469000816345215, -7.261899948120117, -6.0416998863220215, -6.8231000900268555, -6.1427001953125, -7.194399833679199, -6.420100212097168, -7.021200180053711, -7.0706000328063965, -7.455699920654297, -7.087200164794922, -7.615799903869629, -7.285999774932861, -7.650199890136719, -7.73330020904541, -7.7393999099731445, -7.590700149536133, -7.452000141143799, -7.478799819946289, -7.447400093078613, -7.843599796295166, -7.850399971008301, -7.8572001457214355, -6.924300193786621, -7.2342000007629395, -6.1803998947143555, -6.646599769592285, -6.087900161743164, -7.232900142669678, -6.413099765777588, -5.441199779510498, -7.18779993057251, -6.678500175476074, -4.589900016784668, -4.208799839019775, -2.7602999210357666, -4.575900077819824, -4.029399871826172, -4.916500091552734, -5.711900234222412, -5.404200077056885, -6.483799934387207, -6.160399913787842, -5.529900074005127, -4.476600170135498, -5.014900207519531, -5.7870001792907715, -4.372099876403809, -4.55079984664917, -5.474299907684326, -5.797800064086914, -5.161799907684326, -5.957499980926514, -5.2357001304626465, -4.860300064086914, -5.061600208282471, -5.518599987030029, -5.393400192260742, -4.726099967956543, -5.244800090789795, -4.607699871063232, -5.454599857330322, -5.044000148773193, -4.945499897003174, -5.578199863433838, -5.518400192260742, -5.4878997802734375, -5.436100006103516, -5.378399848937988, -5.302299976348877, -5.366600036621094, -5.401299953460693, -5.443399906158447, -5.440400123596191, -5.588699817657471, -5.91949987411499, -5.928899765014648, -5.887499809265137, -6.18209981918335, -6.35699987411499, -6.502999782562256, -4.2743000984191895, -6.289700031280518, -6.508800029754639, -6.394199848175049, -6.677700042724609, -5.784999847412109, -6.617800235748291, -6.816800117492676, -6.134500026702881, -6.031499862670898, -6.894400119781494, -6.968299865722656, -6.978400230407715, -6.820499897003174, -6.820499897003174, -6.184100151062012, -6.858500003814697, -7.070000171661377, -6.962399959564209, -6.076099872589111, -6.705900192260742, -7.152200222015381, -6.906099796295166, -5.588500022888184, -5.968599796295166, -4.420400142669678, -5.322700023651123, -4.378600120544434, -3.735599994659424, -6.057300090789795, -5.540599822998047, -5.671000003814697, -5.691199779510498, -5.415299892425537, -4.723499774932861, -5.809100151062012, -4.834700107574463, -4.342899799346924, -3.4428000450134277, -5.363100051879883, -4.226500034332275, -4.8516998291015625, -5.388800144195557, -5.095799922943115, -4.906199932098389, -5.661099910736084, -4.967400074005127, -5.199699878692627, -5.39769983291626, -4.929100036621094, -5.019899845123291, -5.097099781036377, -5.159999847412109, -5.184899806976318, -5.106200218200684, -5.349899768829346, -5.428899765014648, -5.383399963378906, -5.366700172424316, -4.190999984741211, -6.273600101470947, -5.914299964904785, -6.781799793243408, -6.822199821472168, -6.751299858093262, -6.355000019073486, -7.0970001220703125, -7.219399929046631, -6.8668999671936035, -6.290900230407715, -6.050300121307373, -7.0229997634887695, -6.3282999992370605, -5.365600109100342, -6.281899929046631, -7.4141998291015625, -6.799499988555908, -6.855500221252441, -6.246699810028076, -7.120699882507324, -7.021699905395508, -6.638299942016602, -6.77269983291626, -6.114500045776367, -7.565700054168701, -7.662099838256836, -7.662099838256836, -7.645500183105469, -6.834499835968018, -4.423399925231934, -6.130499839782715, -6.522900104522705, -5.423999786376953, -6.226399898529053, -6.213500022888184, -5.903600215911865, -5.138800144195557, -6.10099983215332, -4.244900226593018, -5.525000095367432, -4.1844000816345215, -3.4052000045776367, -5.1620001792907715, -5.670100212097168, -2.9040000438690186, -5.64739990234375, -4.959499835968018, -5.353700160980225, -5.139699935913086, -4.154300212860107, -5.256899833679199, -5.0559000968933105, -4.561999797821045, -5.5665998458862305, -5.3755998611450195, -5.6381001472473145, -5.843100070953369, -5.159299850463867, -5.780799865722656, -5.020899772644043, -4.898900032043457, -5.40910005569458, -5.133200168609619, -4.884799957275391, -5.404399871826172, -5.2144999504089355, -5.08459997177124, -5.212100028991699, -5.361999988555908, -5.229400157928467, -5.415900230407715, -4.598599910736084, -5.786900043487549, -5.860199928283691, -5.7027997970581055, -5.57450008392334, -6.52869987487793, -5.219299793243408, -6.197000026702881, -6.667799949645996, -6.542799949645996, -5.983500003814697, -6.749599933624268, -6.264599800109863, -6.921199798583984, -6.223499774932861, -6.229800224304199, -6.9207000732421875, -7.010000228881836, -6.332300186157227, -6.7967000007629395, -6.286200046539307, -4.4440999031066895, -6.919899940490723, -6.8394999504089355, -6.690800189971924, -6.138899803161621, -7.113399982452393, -4.200900077819824, -6.950799942016602, -6.524899959564209, -6.351600170135498, -6.3516998291015625, -5.609099864959717, -4.576099872589111, -6.291999816894531, -6.528800010681152, -5.869900226593018, -5.127500057220459, -4.334499835968018, -4.837800025939941, -5.426199913024902, -5.536600112915039, -6.011899948120117, -4.309199810028076, -5.532100200653076, -5.265100002288818, -5.6641998291015625, -4.787799835205078, -3.610300064086914, -5.116600036621094, -5.099400043487549, -4.564499855041504, -4.6346001625061035, -5.058700084686279, -5.599699974060059, -5.270999908447266, -4.40369987487793, -4.300099849700928, -5.409800052642822, -4.979800224304199, -4.004899978637695, -5.04010009765625, -5.069200038909912, -5.155900001525879, -5.198500156402588, -4.915999889373779, -5.11929988861084, -5.185699939727783, -5.346199989318848, -5.669099807739258, -5.917600154876709, -6.137800216674805, -5.902599811553955, -5.768499851226807, -4.991300106048584, -6.7779998779296875, -5.511099815368652, -6.77869987487793, -6.60099983215332, -6.802800178527832, -7.023399829864502, -6.146900177001953, -7.007999897003174, -6.23330020904541, -6.063399791717529, -6.5345001220703125, -6.962200164794922, -6.739299774169922, -7.063600063323975, -6.632199764251709, -7.36269998550415, -6.966100215911865, -5.979499816894531, -6.940499782562256, -7.285200119018555, -7.4857001304626465, -7.373899936676025, -6.385499954223633, -7.492300033569336, -5.220300197601318, -6.34660005569458, -4.214200019836426, -6.75029993057251, -6.7515997886657715, -5.896500110626221, -4.48859977722168, -5.036399841308594, -4.34689998626709, -4.622200012207031, -4.877600193023682, -5.983500003814697, -5.684800148010254, -4.823699951171875, -4.321400165557861, -4.701700210571289, -4.266300201416016, -4.672299861907959, -4.371200084686279, -5.032599925994873, -3.256500005722046, -5.56279993057251, -5.2006001472473145, -4.844399929046631, -5.515999794006348, -5.106500148773193, -5.083700180053711, -5.321300029754639, -5.1168999671936035, -5.164999961853027, -5.551400184631348, -5.284900188446045, -4.829999923706055, -5.046899795532227, -4.968100070953369, -5.244699954986572, -5.118500232696533, -5.181099891662598, -5.126200199127197, -5.210599899291992, -5.805699825286865, -5.946499824523926, -5.626100063323975, -6.076600074768066, -6.811600208282471, -5.870500087738037, -6.867400169372559, -6.267499923706055, -6.353700160980225, -6.214799880981445, -7.090400218963623, -6.82889986038208, -6.997000217437744, -6.824999809265137, -7.219200134277344, -7.219200134277344, -5.751299858093262, -5.99459981918335, -5.962200164794922, -7.057600021362305, -7.129899978637695, -6.847499847412109, -7.0152997970581055, -6.647500038146973, -7.410999774932861, -7.410999774932861, -6.973400115966797, -7.502200126647949, -6.578000068664551, -6.1244001388549805, -5.807300090789795, -6.422599792480469, -6.369200229644775, -6.53849983215332, -5.249000072479248, -6.432600021362305, -4.264500141143799, -5.320099830627441, -6.01140022277832, -5.206500053405762, -5.343200206756592, -5.356200218200684, -4.821499824523926, -4.42519998550415, -6.473100185394287, -6.227499961853027, -5.7459001541137695, -4.666800022125244, -5.75570011138916, -5.582399845123291, -5.26170015335083, -3.8875999450683594, -5.478400230407715, -3.7929999828338623, -4.3983001708984375, -5.375, -4.994100093841553, -4.445300102233887, -4.93179988861084, -5.231500148773193, -5.464099884033203, -5.410900115966797, -4.8333001136779785, -4.935699939727783, -5.046299934387207, -4.3592000007629395, -5.531000137329102, -5.494800090789795, -5.229100227355957, -5.235799789428711, -5.311200141906738, -5.344600200653076, -5.451700210571289, -6.086400032043457, -5.752399921417236, -6.002900123596191, -6.240900039672852, -6.333499908447266, -6.182700157165527, -6.734600067138672, -6.606599807739258, -6.291399955749512, -6.051499843597412, -6.566800117492676, -6.82859992980957, -6.612100124359131, -6.773099899291992, -6.629300117492676, -6.629300117492676, -6.334700107574463, -6.449399948120117, -6.780900001525879, -7.179200172424316, -6.80210018157959, -6.527200222015381, -7.132800102233887, -6.510000228881836, -7.104899883270264, -6.936600208282471, -7.230800151824951, -7.2743000984191895, -6.4944000244140625, -6.827199935913086, -6.240799903869629, -6.756499767303467, -6.12529993057251, -5.837900161743164, -3.984499931335449, -5.899499893188477, -5.864299774169922, -4.917799949645996, -5.684199810028076, -4.92579984664917, -5.507699966430664, -3.8868000507354736, -5.331500053405762, -5.69189977645874, -5.554599761962891, -5.269599914550781, -6.127900123596191, -5.560800075531006, -6.150700092315674, -4.604400157928467, -5.379199981689453, -3.6284000873565674, -4.863999843597412, -5.463500022888184, -5.5625, -5.6427001953125, -5.361499786376953, -5.742199897766113, -5.3979997634887695, -5.253900051116943, -5.35890007019043, -5.650899887084961, -5.4878997802734375, -5.119100093841553, -5.38070011138916, -5.426300048828125, -5.504799842834473, -5.396100044250488, -5.280799865722656, -5.470900058746338, -5.5725998878479, -5.563300132751465, -5.58650016784668, -3.919800043106079, -4.122900009155273, -5.545899868011475, -4.470099925994873, -4.725599765777588, -6.445199966430664, -6.516600131988525, -6.3850998878479, -6.51140022277832, -6.251200199127197, -6.223199844360352, -6.532400131225586, -6.532400131225586, -6.532400131225586, -6.736999988555908, -6.735599994659424, -6.319399833679199, -6.583899974822998, -6.806300163269043, -6.8282999992370605, -6.5858001708984375, -5.878399848937988, -6.606800079345703, -6.199699878692627, -6.635300159454346, -6.922599792480469, -6.614500045776367, -5.7941999435424805, -6.747600078582764, -6.647299766540527, -6.015399932861328, -5.696599960327148, -5.8379998207092285, -6.104599952697754, -6.428999900817871, -5.786399841308594, -4.907199859619141, -6.472099781036377, -4.951099872589111, -5.555500030517578, -5.705699920654297, -5.497099876403809, -5.938799858093262, -6.182700157165527, -6.0447001457214355, -5.853400230407715, -5.134500026702881, -5.223800182342529, -5.903800010681152, -3.644700050354004, -4.679999828338623, -4.499899864196777, -4.807600021362305, -5.119800090789795, -5.083000183105469, -3.976900100708008, -4.517399787902832, -5.18779993057251, -5.104599952697754, -4.689199924468994, -4.677000045776367, -4.961699962615967, -5.06879997253418, -5.364299774169922, -5.414899826049805, -5.239799976348877, -5.30649995803833, -5.342100143432617, -5.34630012512207, -5.3902997970581055, -5.424099922180176, -5.752299785614014, -6.225399971008301, -5.084700107574463, -5.448699951171875, -6.252699851989746, -5.345200061798096, -5.896999835968018, -6.146599769592285, -6.540200233459473, -6.098199844360352, -5.864200115203857, -5.876100063323975, -6.048399925231934, -6.102399826049805, -6.037399768829346, -6.382199764251709, -6.488800048828125, -6.767300128936768, -6.778299808502197, -6.78380012512207, -6.767099857330322, -6.2982001304626465, -6.209700107574463, -6.275400161743164, -6.35129976272583, -6.623499870300293, -6.989200115203857, -6.70359992980957, -6.865099906921387, -6.8491997718811035, -6.510900020599365, -6.616700172424316, -5.12939977645874, -6.079500198364258, -6.2221999168396, -6.598499774932861, -6.231900215148926, -6.361599922180176, -4.999300003051758, -5.01200008392334, -6.292500019073486, -5.797599792480469, -5.766300201416016, -5.253799915313721, -4.504499912261963, -4.002999782562256, -4.6697001457214355, -5.0802998542785645, -4.342599868774414, -5.241799831390381, -4.8694000244140625, -5.2642998695373535, -4.4517998695373535, -5.128799915313721, -5.830999851226807, -4.1803998947143555, -5.507500171661377, -4.259900093078613, -5.158899784088135, -5.440299987792969, -5.342400074005127, -5.038700103759766, -5.053599834442139, -4.733799934387207, -5.129300117492676, -5.196700096130371, -5.180200099945068, -5.069900035858154, -5.0100998878479, -4.8491997718811035, -5.194300174713135, -5.301499843597412, -5.795199871063232, -7.476900100708008, -6.996200084686279, -6.6778998374938965, -7.3171000480651855, -7.546000003814697, -7.50600004196167, -5.674099922180176, -6.924799919128418, -7.366300106048584, -7.825500011444092, -7.526500225067139, -7.892899990081787, -7.888800144195557, -7.952099800109863, -6.791800022125244, -7.200500011444092, -7.828499794006348, -6.161600112915039, -8.024399757385254, -8.043100357055664, -5.685200214385986, -7.9182000160217285, -8.033499717712402, -7.077300071716309, -6.493500232696533, -7.813499927520752, -7.870699882507324, -7.682600021362305, -7.770500183105469, -5.315400123596191, -5.387899875640869, -7.148200035095215, -5.56879997253418, -7.348999977111816, -5.709099769592285, -5.440299987792969, -6.4253997802734375, -7.387700080871582, -5.531000137329102, -5.975299835205078, -5.892300128936768, -6.950300216674805, -6.173600196838379, -6.578000068664551, -6.060400009155273, -6.593599796295166, -5.759900093078613, -6.178699970245361, -6.482600212097168, -4.488999843597412, -6.243800163269043, -6.491099834442139, -6.573699951171875, -5.47130012512207, -4.309899806976318, -5.277100086212158, -4.665500164031982, -5.599899768829346, -5.534299850463867, -3.2890000343322754, -5.8292999267578125, -5.776700019836426, -4.603799819946289, -5.467700004577637, -5.791999816894531, -4.96560001373291, -4.659299850463867, -5.4085001945495605, -5.041200160980225, -5.045899868011475, -5.298900127410889, -5.3354997634887695, -5.314599990844727, -5.196899890899658, -5.446100234985352, -5.480599880218506, -5.376800060272217, -5.091400146484375, -5.369999885559082, -5.398799896240234, -5.4517998695373535, -5.4567999839782715, -5.486100196838379, -5.494900226593018]}, \"token.table\": {\"Topic\": [10, 6, 5, 5, 4, 5, 3, 8, 6, 1, 2, 3, 5, 9, 10, 1, 4, 6, 1, 2, 3, 4, 5, 6, 7, 8, 9, 10, 1, 4, 2, 6, 9, 10, 3, 10, 1, 3, 4, 5, 6, 7, 8, 9, 10, 3, 1, 2, 3, 4, 5, 6, 7, 8, 9, 10, 1, 1, 2, 3, 4, 5, 6, 7, 8, 9, 10, 1, 4, 1, 10, 1, 2, 3, 4, 5, 6, 7, 8, 9, 10, 7, 2, 6, 4, 10, 3, 1, 2, 10, 1, 2, 3, 4, 5, 6, 7, 8, 9, 10, 1, 4, 7, 10, 7, 4, 5, 1, 2, 1, 2, 3, 4, 5, 6, 7, 8, 9, 10, 10, 1, 2, 6, 9, 10, 4, 3, 5, 5, 5, 6, 10, 10, 1, 2, 3, 4, 5, 6, 7, 8, 9, 10, 10, 3, 4, 1, 2, 3, 4, 5, 6, 7, 8, 9, 10, 6, 1, 6, 10, 2, 6, 7, 9, 10, 6, 9, 1, 2, 3, 4, 5, 6, 7, 8, 9, 10, 1, 2, 3, 4, 5, 6, 7, 8, 9, 10, 6, 8, 9, 3, 8, 1, 2, 3, 4, 5, 6, 7, 8, 9, 10, 4, 6, 7, 8, 9, 6, 1, 2, 3, 4, 5, 6, 7, 8, 9, 10, 5, 5, 6, 3, 5, 8, 1, 2, 3, 5, 8, 9, 10, 10, 9, 3, 7, 2, 8, 10, 3, 4, 3, 5, 8, 8, 8, 5, 6, 7, 10, 2, 1, 7, 9, 10, 7, 1, 2, 10, 6, 9, 6, 1, 2, 3, 4, 5, 6, 7, 8, 9, 10, 8, 2, 7, 1, 7, 8, 1, 2, 3, 4, 5, 7, 8, 9, 10, 1, 2, 3, 4, 5, 6, 7, 8, 9, 10, 1, 2, 3, 4, 5, 6, 7, 8, 9, 10, 1, 3, 4, 5, 3, 5, 8, 1, 2, 8, 1, 2, 3, 4, 5, 6, 7, 8, 9, 10, 1, 2, 3, 4, 5, 6, 7, 8, 9, 10, 3, 1, 2, 4, 5, 6, 10, 2, 4, 5, 6, 8, 10, 7, 1, 5, 1, 2, 3, 4, 5, 6, 7, 8, 9, 10, 2, 6, 8, 10, 9, 7, 9, 1, 2, 3, 4, 5, 6, 7, 8, 9, 10, 4, 9, 9, 1, 2, 3, 4, 5, 6, 7, 8, 9, 10, 5, 4, 7, 9, 1, 9, 8, 7, 10, 1, 2, 3, 4, 5, 6, 7, 8, 9, 10, 1, 2, 3, 4, 5, 6, 7, 8, 9, 10, 2, 5, 6, 10, 10, 1, 2, 3, 4, 5, 6, 7, 8, 9, 10, 9, 1, 1, 2, 1, 2, 3, 4, 5, 6, 7, 8, 9, 10, 4, 10, 4, 1, 2, 3, 4, 5, 6, 7, 8, 9, 10, 3, 1, 2, 3, 4, 5, 6, 7, 8, 9, 10, 10, 2, 2, 3, 4, 5, 6, 8, 1, 2, 3, 4, 5, 6, 7, 8, 9, 10, 1, 2, 3, 4, 5, 6, 7, 8, 9, 10, 2, 3, 4, 5, 6, 8, 9, 10, 2, 1, 9, 1, 2, 7, 8, 9, 10, 8, 1, 2, 3, 4, 5, 6, 7, 8, 9, 10, 6, 7, 8, 6, 8, 2, 4, 1, 3, 4, 5, 6, 7, 9, 10, 5, 1, 6, 3, 1, 2, 3, 4, 5, 6, 7, 8, 9, 10, 4, 6, 10, 2, 4, 5, 6, 9, 10, 3, 1, 2, 3, 4, 5, 6, 7, 8, 9, 10, 2, 5, 8, 10, 1, 2, 3, 4, 5, 6, 7, 8, 9, 10, 4, 4, 1, 1, 2, 3, 4, 5, 6, 7, 8, 9, 10, 1, 2, 3, 4, 5, 6, 7, 8, 9, 10, 2, 5, 1, 2, 3, 4, 5, 6, 7, 8, 9, 10, 7, 10, 10, 2, 2, 2, 7, 9, 1, 2, 3, 4, 5, 6, 7, 8, 9, 10, 1, 6, 9, 4, 1, 2, 3, 4, 5, 6, 7, 8, 9, 10, 2, 7, 8, 8, 2, 4, 10, 6, 7, 1, 2, 3, 4, 5, 6, 7, 8, 9, 10, 4, 6, 3, 9, 6, 7, 9, 10, 1, 4, 6, 9, 5, 5, 6, 7, 10, 1, 2, 3, 4, 5, 6, 7, 8, 9, 10, 2, 3, 4, 5, 6, 7, 8, 9, 10, 1, 2, 3, 4, 5, 6, 7, 8, 9, 10, 2, 6, 10, 1, 2, 8, 9, 10, 5, 6, 10, 1, 2, 6, 7, 8, 9, 10, 1, 2, 10, 1, 10, 5, 10, 3, 5, 2, 3, 4, 5, 6, 7, 8, 1, 2, 3, 4, 5, 6, 7, 8, 9, 10, 5, 9, 7, 1, 1, 2, 6, 10, 5, 9, 4, 10, 1, 2, 4, 5, 4, 4, 2, 4, 1, 4, 5, 10, 6, 7, 5, 10, 5, 8, 2, 1, 3, 7, 9, 10, 2, 1, 9, 7, 9, 10, 1, 2, 3, 4, 5, 6, 7, 8, 9, 10, 1, 2, 3, 4, 5, 6, 7, 8, 9, 10, 1, 4, 9, 10, 1, 2, 3, 4, 5, 6, 7, 8, 9, 10, 1, 2, 3, 4, 5, 6, 7, 8, 9, 10, 1, 2, 3, 4, 5, 6, 7, 8, 9, 10, 4, 5, 9, 2, 3, 1, 2, 3, 4, 5, 6, 7, 8, 9, 10, 1, 5, 1, 2, 3, 4, 5, 6, 7, 8, 9, 10, 5, 1, 1, 2, 3, 4, 5, 6, 7, 8, 9, 10, 1, 2, 3, 4, 5, 6, 7, 8, 9, 10, 1, 2, 3, 4, 5, 6, 7, 8, 9, 10, 2, 4, 5, 7, 8, 9, 10, 10, 2, 2, 10, 2, 10, 8, 8, 1, 2, 3, 4, 5, 6, 7, 8, 9, 10, 9, 4, 7, 10, 1, 2, 3, 4, 5, 6, 7, 8, 9, 10, 7, 1, 2, 3, 4, 5, 7, 8, 9, 10, 5, 1, 2, 3, 4, 5, 6, 7, 8, 9, 10, 4, 5, 10, 3, 2, 6, 7, 7, 8, 10, 1, 6, 7, 10, 1, 3, 6, 9, 10, 7, 2, 5, 10, 8, 7, 6, 8, 1, 7, 1, 2, 3, 4, 5, 6, 7, 8, 9, 10, 7, 7, 2, 2, 1, 2, 3, 4, 5, 6, 7, 8, 9, 10, 3, 5, 6, 8, 9, 10, 9, 2, 4, 1, 2, 2, 5, 7, 8, 10, 1, 2, 3, 5, 8, 9, 10, 5, 5, 1, 2, 3, 4, 5, 6, 7, 8, 9, 10, 2, 1, 2, 3, 4, 5, 6, 7, 8, 9, 10, 6, 9, 1, 5, 7, 1, 2, 3, 4, 5, 6, 7, 8, 9, 10, 9, 1, 2, 3, 4, 5, 6, 7, 8, 9, 10, 9, 3, 8, 1, 1, 2, 3, 4, 5, 6, 7, 8, 9, 10, 1, 2, 3, 4, 5, 6, 7, 8, 9, 10, 10, 2, 9, 1, 2, 3, 4, 5, 6, 7, 8, 9, 10, 2, 3, 4, 5, 6, 8, 9, 10, 2, 1, 7, 8, 1, 2, 3, 4, 5, 6, 7, 8, 9, 10, 1, 1, 2, 3, 4, 5, 6, 7, 8, 9, 10, 1, 2, 3, 4, 5, 6, 7, 8, 9, 10, 1, 2, 3, 4, 5, 6, 7, 8, 9, 10, 1, 3, 4, 5, 9, 3, 1, 2, 3, 4, 5, 6, 7, 8, 9, 10, 2, 6, 7, 8, 1, 2, 6, 7, 9, 10, 1, 2, 3, 4, 5, 6, 7, 8, 9, 10, 7, 6, 7, 9, 5, 1, 2, 3, 4, 5, 7, 8, 9, 10, 2, 7, 9, 10, 1, 2, 3, 4, 5, 6, 7, 8, 9, 10, 7, 1, 2, 3, 4, 5, 6, 7, 8, 9, 10, 3, 5, 4, 3, 1, 2, 3, 7, 8, 10, 1, 2, 3, 4, 6, 7, 8, 9, 10, 6, 1, 2, 3, 4, 5, 6, 7, 8, 9, 10, 9, 9, 1, 2, 3, 4, 5, 6, 7, 8, 9, 10, 6, 6, 6, 8, 6, 8, 6, 10, 1, 2, 3, 4, 5, 6, 7, 8, 9, 10, 5, 8, 10, 6, 1, 2, 3, 4, 5, 6, 7, 8, 9, 10, 7, 3, 3, 5, 10, 1, 2, 3, 4, 5, 6, 7, 8, 9, 10, 6, 3, 8, 1, 2, 3, 4, 5, 6, 7, 8, 9, 10, 1, 2, 3, 4, 5, 6, 7, 8, 9, 10, 1, 6, 7, 10, 1, 2, 3, 4, 5, 6, 7, 8, 9, 10, 1, 2, 3, 4, 5, 6, 7, 8, 9, 10, 8, 8, 1, 3, 7, 1, 3, 7, 8, 9, 10, 1, 7, 1, 2, 3, 7, 10, 5, 2, 9, 1, 2, 9, 10, 1, 2, 3, 4, 5, 6, 7, 8, 9, 10, 8, 1, 2, 6, 8, 10, 8, 1, 2, 3, 4, 5, 6, 7, 8, 9, 10, 9, 7, 10, 7, 1, 2, 3, 4, 5, 6, 7, 8, 9, 10, 1, 2, 3, 4, 5, 6, 7, 8, 9, 10, 1, 2, 3, 4, 5, 6, 7, 8, 9, 10, 1, 2, 3, 4, 5, 6, 9, 1, 5, 5, 1, 2, 3, 4, 5, 6, 7, 8, 9, 10, 4, 6, 5, 5, 10, 1, 2, 3, 4, 5, 6, 7, 8, 9, 10, 1, 2, 3, 4, 5, 6, 7, 8, 9, 10, 7, 3, 3, 6, 1, 2, 3, 4, 5, 6, 7, 8, 9, 10, 8, 3, 4, 2, 8, 2, 10, 9, 9, 9, 4, 2, 1, 3, 3, 8, 6, 1, 2, 3, 4, 5, 6, 7, 8, 9, 10, 4, 2, 4, 3, 8, 2, 10, 4, 1, 2, 3, 4, 5, 6, 7, 8, 9, 10, 7, 1, 2, 3, 4, 5, 6, 7, 8, 9, 10, 7, 1, 2, 3, 4, 5, 6, 7, 8, 9, 10, 3, 10, 9, 4, 1, 4, 6, 1, 2, 3, 4, 5, 6, 7, 8, 9, 10, 10, 2, 3, 4, 5, 6, 7, 9, 10, 9, 1, 2, 3, 4, 5, 6, 7, 8, 9, 10, 1, 6, 10, 9, 6, 9, 8, 1, 10, 1, 1, 2, 3, 4, 5, 6, 7, 8, 9, 10, 2, 7, 8, 10, 1, 2, 3, 6, 7, 8, 9, 10, 1, 2, 3, 4, 5, 6, 7, 8, 9, 10, 1, 2, 3, 6, 7, 8, 9, 10, 1, 2, 6, 4, 2, 4, 7, 1, 2, 3, 4, 5, 6, 7, 8, 9, 10, 1, 2, 3, 4, 5, 6, 7, 8, 9, 10, 1, 2, 3, 4, 5, 6, 7, 8, 9, 10, 4, 10, 5, 1, 2, 3, 4, 5, 6, 7, 8, 9, 10, 6, 5, 5, 6, 1, 2, 3, 4, 5, 6, 7, 8, 9, 10, 1, 2, 7, 9, 10, 1, 7, 1, 2, 3, 4, 5, 6, 7, 8, 9, 10, 2, 4, 5, 6, 8, 10, 5, 8, 1, 2, 3, 4, 5, 6, 7, 8, 9, 10, 1, 1, 2, 3, 4, 5, 6, 7, 8, 9, 10, 4, 2, 5, 8, 1, 2, 3, 4, 5, 6, 7, 8, 9, 10, 8, 8, 1, 2, 3, 4, 5, 6, 7, 8, 9, 10, 7, 1, 2, 3, 4, 5, 6, 7, 8, 9, 10, 1, 2, 3, 4, 5, 6, 7, 8, 9, 10, 6, 7, 1, 2, 3, 4, 5, 6, 7, 8, 9, 10, 4, 8, 1, 6, 1, 2, 3, 4, 5, 6, 7, 8, 9, 10, 1, 2, 4, 5, 8, 10, 1, 6, 7, 9, 10, 1, 3, 5, 7, 1, 3, 5, 7, 8, 9, 1, 2, 3, 4, 5, 6, 7, 8, 9, 10, 1, 2, 3, 4, 5, 6, 7, 8, 9, 10, 8, 7, 7, 1, 2, 3, 4, 5, 6, 7, 8, 9, 10, 1, 2, 3, 4, 5, 6, 7, 8, 9, 10, 6, 1, 1, 2, 6, 8, 9, 10, 9, 8, 8, 9, 4, 9, 9, 9, 6, 1, 2, 3, 4, 5, 6, 7, 8, 9, 10, 1, 2, 1, 2, 3, 4, 5, 6, 7, 8, 9, 10, 4, 1, 2, 3, 4, 5, 6, 7, 8, 9, 10, 1, 4, 9, 7, 8, 7, 2, 1, 2, 3, 4, 5, 6, 7, 8, 9, 10, 3, 3, 1, 2, 3, 4, 5, 6, 7, 8, 9, 10, 1, 2, 3, 4, 5, 6, 7, 8, 9, 10, 4, 1, 6, 4, 3, 7, 8, 1, 2, 3, 4, 5, 6, 7, 9, 10, 2, 1, 2, 3, 4, 5, 6, 7, 8, 9, 10, 1, 3, 5, 1, 2, 3, 4, 5, 6, 7, 8, 9, 10, 1, 2, 3, 4, 5, 6, 7, 8, 9, 10, 3, 7, 9, 9, 6, 6, 2, 6, 7, 3, 5, 9, 1, 10, 5, 5, 1, 2, 3, 4, 5, 6, 7, 8, 9, 10, 10, 1, 2, 3, 4, 6, 7, 8, 9, 10, 1, 3, 7, 10, 3, 10, 3, 1, 2, 3, 4, 5, 6, 7, 8, 9, 10, 1, 2, 3, 4, 5, 6, 7, 8, 9, 10, 6, 8, 9, 1, 2, 3, 4, 5, 6, 7, 8, 9, 10, 1, 2, 3, 4, 5, 6, 7, 8, 9, 10, 1, 2, 3, 4, 5, 6, 7, 8, 9, 10, 1, 6, 1, 2, 3, 4, 5, 6, 7, 8, 9, 10, 1, 2, 3, 4, 5, 6, 7, 8, 9, 10, 4, 10, 9, 6, 1, 6, 7, 2, 3, 6, 7, 8, 9, 8, 6, 1, 2, 3, 4, 5, 6, 7, 8, 9, 10, 3, 4, 5, 10, 3, 10, 3, 3, 4, 5, 7, 10, 1, 2, 3, 4, 5, 8, 9, 1, 2, 5, 1, 2, 7, 10, 1, 2, 3, 4, 5, 6, 7, 8, 9, 10, 1, 6, 7, 1, 2, 3, 4, 5, 6, 7, 8, 9, 10, 4, 5, 7, 4, 1, 2, 3, 4, 5, 6, 7, 8, 9, 10, 1, 2, 3, 4, 5, 6, 7, 8, 9, 10, 1, 2, 3, 4, 5, 6, 7, 8, 9, 10, 10, 6, 1, 2, 3, 4, 5, 6, 7, 8, 9, 10, 5, 2, 1, 2, 3, 4, 5, 6, 7, 8, 9, 10, 1, 2, 3, 4, 5, 6, 7, 8, 9, 10, 2, 5, 6, 10, 9, 8, 8, 1, 2, 10, 1, 2, 3, 4, 5, 6, 7, 8, 9, 10], \"Freq\": [0.9227716326713562, 0.882235050201416, 0.9940663576126099, 0.9630597233772278, 0.8932080268859863, 0.05254164710640907, 0.9542370438575745, 0.9118541479110718, 0.968567430973053, 0.02166622318327427, 0.02166622318327427, 0.7366515398025513, 0.07583177834749222, 0.1083311140537262, 0.010833111591637135, 0.8806463479995728, 0.9634089469909668, 0.9639546871185303, 0.05183885619044304, 0.00575987296178937, 0.00575987296178937, 0.7142242193222046, 0.00575987296178937, 0.10367771238088608, 0.00575987296178937, 0.00575987296178937, 0.040319111198186874, 0.0633585974574089, 0.0523105189204216, 0.9154341220855713, 0.9777671098709106, 0.6182327270507812, 0.02169237658381462, 0.3362318277359009, 0.9416323900222778, 0.9402770400047302, 0.2510696351528168, 0.6193050742149353, 0.01673797518014908, 0.00836898759007454, 0.00836898759007454, 0.03347595036029816, 0.00836898759007454, 0.00836898759007454, 0.050213925540447235, 0.9623857736587524, 0.04217652231454849, 0.10544130951166153, 0.04217652231454849, 0.06326478719711304, 0.14761783182621002, 0.07380891591310501, 0.03163239359855652, 0.03163239359855652, 0.4217652380466461, 0.04217652231454849, 0.9667010307312012, 0.14887985587120056, 0.0027069062925875187, 0.7498130798339844, 0.0027069062925875187, 0.06496575474739075, 0.0027069062925875187, 0.0027069062925875187, 0.01353453192859888, 0.01353453192859888, 0.0027069062925875187, 0.9058734178543091, 0.9734751582145691, 0.020112372934818268, 0.9452815055847168, 0.5828706622123718, 0.008967241272330284, 0.06277068704366684, 0.08967240899801254, 0.026901721954345703, 0.12554137408733368, 0.017934482544660568, 0.053803443908691406, 0.008967241272330284, 0.026901721954345703, 0.917534589767456, 0.022137584164738655, 0.9519161581993103, 0.9838375449180603, 0.9973658323287964, 0.9700788855552673, 0.017976418137550354, 0.008988209068775177, 0.9527502059936523, 0.1241816058754921, 0.02217528596520424, 0.004435057286173105, 0.5632522702217102, 0.004435057286173105, 0.031045401468873024, 0.10644137859344482, 0.013305172324180603, 0.00887011457234621, 0.11974655091762543, 0.025512324646115303, 0.9439560174942017, 0.008504108525812626, 0.008504108525812626, 0.9920417666435242, 0.664763331413269, 0.3120317757129669, 0.8999013304710388, 0.9480252265930176, 0.03838114067912102, 0.020469941198825836, 0.18167072534561157, 0.012793713249266148, 0.015352455899119377, 0.058851081877946854, 0.23796306550502777, 0.007676227949559689, 0.08187976479530334, 0.3428715169429779, 0.9378646016120911, 0.018106089904904366, 0.018106089904904366, 0.018106089904904366, 0.018106089904904366, 0.9234105944633484, 0.9485249519348145, 0.9579295516014099, 0.021287323907017708, 0.9210930466651917, 0.04273933172225952, 0.9402652978897095, 0.9773093461990356, 0.9331129193305969, 0.11335489153862, 0.050379954278469086, 0.20151981711387634, 0.02239109016954899, 0.02379053272306919, 0.06857271492481232, 0.04758106544613838, 0.043382737785577774, 0.013994431123137474, 0.4142351746559143, 0.9777143001556396, 0.9213486909866333, 0.04849203675985336, 0.26444000005722046, 0.029856126755475998, 0.17487160861492157, 0.2772354781627655, 0.008530322462320328, 0.06824257969856262, 0.038386449217796326, 0.017060644924640656, 0.05544709414243698, 0.06824257969856262, 0.9763063192367554, 0.022562598809599876, 0.05640649423003197, 0.8912226557731628, 0.09426969289779663, 0.011783711612224579, 0.5420507192611694, 0.011783711612224579, 0.3299439251422882, 0.050416234880685806, 0.9074922204017639, 0.47676533460617065, 0.026243962347507477, 0.048113930970430374, 0.008747987449169159, 0.013121981173753738, 0.24056966602802277, 0.15746377408504486, 0.008747987449169159, 0.0043739937245845795, 0.017495974898338318, 0.15035594999790192, 0.006398125551640987, 0.0671803206205368, 0.09277281910181046, 0.04798594117164612, 0.3103090822696686, 0.2015409618616104, 0.006398125551640987, 0.10876813530921936, 0.006398125551640987, 0.9599946141242981, 0.22865313291549683, 0.7367711663246155, 0.9894159436225891, 0.9804651141166687, 0.14307841658592224, 0.08307778835296631, 0.05538519099354744, 0.16615557670593262, 0.01846173033118248, 0.189232736825943, 0.23077163100242615, 0.02769259549677372, 0.032308027148246765, 0.05538519099354744, 0.49797073006629944, 0.4121136963367462, 0.008585702627897263, 0.0686856210231781, 0.9658190608024597, 0.9807624220848083, 0.003989679738879204, 0.035907115787267685, 0.21145302057266235, 0.003989679738879204, 0.33513307571411133, 0.035907115787267685, 0.003989679738879204, 0.32316404581069946, 0.007979359477758408, 0.03989679366350174, 0.9506478905677795, 0.8850817680358887, 0.09316650032997131, 0.9129366278648376, 0.03445043787360191, 0.03445043787360191, 0.0076097892597317696, 0.030439157038927078, 0.8599061965942383, 0.030439157038927078, 0.0076097892597317696, 0.0076097892597317696, 0.05326852574944496, 0.9815301895141602, 0.9204558730125427, 0.2073039710521698, 0.7905659675598145, 0.9707487225532532, 0.006788452621549368, 0.013576905243098736, 0.9416474103927612, 0.994101345539093, 0.6633922457695007, 0.05528268590569496, 0.2653568983078003, 0.9736583828926086, 0.8979751467704773, 0.2809703052043915, 0.03405700623989105, 0.3916555643081665, 0.2724560499191284, 0.9730773568153381, 0.026334410533308983, 0.05925242602825165, 0.006583602633327246, 0.8953700065612793, 0.9761416912078857, 0.017079677432775497, 0.8539838194847107, 0.11955773830413818, 0.7940590381622314, 0.19606395065784454, 0.9594606161117554, 0.0686529278755188, 0.16305069625377655, 0.24457603693008423, 0.03647186607122421, 0.04934429004788399, 0.07937994599342346, 0.030035654082894325, 0.11799721419811249, 0.04505348205566406, 0.16519610583782196, 0.988146185874939, 0.9480241537094116, 0.9488195180892944, 0.9101812839508057, 0.9484701752662659, 0.9959462881088257, 0.5712770819664001, 0.034276627004146576, 0.034276627004146576, 0.011425541713833809, 0.011425541713833809, 0.11425542086362839, 0.057127710431814194, 0.011425541713833809, 0.17138312757015228, 0.0463377945125103, 0.02316889725625515, 0.11005225777626038, 0.09846781194210052, 0.017376672476530075, 0.040545571595430374, 0.08688336610794067, 0.02316889725625515, 0.3011956512928009, 0.24327342212200165, 0.04099726304411888, 0.04919671267271042, 0.03689753636717796, 0.032797809690237045, 0.5288646817207336, 0.02459835633635521, 0.06149589270353317, 0.012299178168177605, 0.06969534605741501, 0.13939069211483002, 0.10469328612089157, 0.0116325868293643, 0.48856866359710693, 0.3606101870536804, 0.1747986078262329, 0.021849825978279114, 0.7865937352180481, 0.8759326934814453, 0.966710090637207, 0.9498787522315979, 0.15429551899433136, 0.11353820562362671, 0.02911236137151718, 0.0320235975086689, 0.01746741682291031, 0.008733708411455154, 0.0640471950173378, 0.12518315017223358, 0.03493483364582062, 0.4192180037498474, 0.15054626762866974, 0.0062727611511945724, 0.6962764859199524, 0.0062727611511945724, 0.06900037080049515, 0.0062727611511945724, 0.0062727611511945724, 0.056454848498106, 0.0062727611511945724, 0.012545522302389145, 0.9519968032836914, 0.009216280654072762, 0.018432561308145523, 0.009216280654072762, 0.009216280654072762, 0.5529768466949463, 0.3963000774383545, 0.0775933563709259, 0.0070539419539272785, 0.7406638860702515, 0.0070539419539272785, 0.0070539419539272785, 0.14813277125358582, 0.9490081667900085, 0.9954791069030762, 0.8949459791183472, 0.09903085231781006, 0.08647764474153519, 0.1673760861158371, 0.07950364053249359, 0.13390086591243744, 0.08089844137430191, 0.04742322489619255, 0.11158405989408493, 0.04463362321257591, 0.15063847601413727, 0.3002963066101074, 0.6756666898727417, 0.010724867694079876, 0.010724867694079876, 0.9674444198608398, 0.10284866392612457, 0.874213695526123, 0.1738048493862152, 0.03391313925385475, 0.008478284813463688, 0.07206542044878006, 0.008478284813463688, 0.016956569626927376, 0.08054371178150177, 0.004239142406731844, 0.004239142406731844, 0.5934799909591675, 0.7454555034637451, 0.22162190079689026, 1.0016919374465942, 0.041323307901620865, 0.008264661766588688, 0.008264661766588688, 0.008264661766588688, 0.008264661766588688, 0.03305864706635475, 0.1239699199795723, 0.008264661766588688, 0.016529323533177376, 0.7603488564491272, 0.9686585068702698, 0.0754857286810875, 0.8806668519973755, 0.02516191080212593, 0.919962465763092, 0.9255146384239197, 0.9671929478645325, 0.9458146691322327, 0.9249914288520813, 0.004475221037864685, 0.004475221037864685, 0.00895044207572937, 0.004475221037864685, 0.9129450917243958, 0.004475221037864685, 0.004475221037864685, 0.040276989340782166, 0.004475221037864685, 0.01790088415145874, 0.002578487852588296, 0.03352034091949463, 0.005156975705176592, 0.002578487852588296, 0.500226616859436, 0.27847668528556824, 0.002578487852588296, 0.010313951410353184, 0.002578487852588296, 0.16244472563266754, 0.06924742460250854, 0.47843673825263977, 0.056656982749700546, 0.3777132034301758, 0.9350736737251282, 0.004587605129927397, 0.10092731565237045, 0.004587605129927397, 0.013762815855443478, 0.3211323618888855, 0.4449976980686188, 0.004587605129927397, 0.059638869017362595, 0.013762815855443478, 0.027525631710886955, 0.9342912435531616, 0.9187726974487305, 0.9440642595291138, 0.9827736616134644, 0.013698405586183071, 0.133559450507164, 0.13698405027389526, 0.06164282560348511, 0.2842419147491455, 0.09246423840522766, 0.013698405586183071, 0.04109521582722664, 0.17465466260910034, 0.0445198155939579, 0.06302203238010406, 0.9033157825469971, 0.963173508644104, 0.338991641998291, 0.0183238722383976, 0.06871452182531357, 0.0091619361191988, 0.0091619361191988, 0.09620033204555511, 0.1282671093940735, 0.022904841229319572, 0.0091619361191988, 0.3023439049720764, 0.9569635391235352, 0.0664171352982521, 0.012075843289494514, 0.6098300814628601, 0.006037921644747257, 0.006037921644747257, 0.012075843289494514, 0.12679634988307953, 0.012075843289494514, 0.006037921644747257, 0.14491011202335358, 0.9551439881324768, 0.9403276443481445, 0.2812284827232361, 0.011249138973653316, 0.011249138973653316, 0.596204400062561, 0.033747415989637375, 0.05624569579958916, 0.00554460845887661, 0.12087246030569077, 0.022548073902726173, 0.06357817351818085, 0.19701841473579407, 0.06394781917333603, 0.022548073902726173, 0.06025141105055809, 0.012937420047819614, 0.43063125014305115, 0.049445100128650665, 0.0939456894993782, 0.049445100128650665, 0.034611571580171585, 0.02966706082224846, 0.05438961088657379, 0.01483353041112423, 0.01483353041112423, 0.004944510292261839, 0.6526753306388855, 0.24489626288414001, 0.009419086389243603, 0.009419086389243603, 0.5274688601493835, 0.1318672150373459, 0.056514520198106766, 0.009419086389243603, 0.009419086389243603, 0.9577664732933044, 0.9132440090179443, 0.049364540725946426, 0.036474741995334625, 0.07294948399066925, 0.012158247642219067, 0.7781278491020203, 0.012158247642219067, 0.08510773628950119, 0.9234270453453064, 0.004495198838412762, 0.004495198838412762, 0.004495198838412762, 0.004495198838412762, 0.017980795353651047, 0.8540878295898438, 0.10338957607746124, 0.004495198838412762, 0.004495198838412762, 0.008990397676825523, 0.9414577484130859, 0.022962383925914764, 0.9280596971511841, 0.1563119888305664, 0.7815600037574768, 0.9597670435905457, 0.039990294724702835, 0.6658504605293274, 0.08631394803524017, 0.11097507923841476, 0.012330564670264721, 0.012330564670264721, 0.09864451736211777, 0.012330564670264721, 0.012330564670264721, 0.9706388115882874, 0.02733200043439865, 0.9566199779510498, 0.9593889117240906, 0.0051324027590453625, 0.010264805518090725, 0.010264805518090725, 0.09751565009355545, 0.7955224514007568, 0.0051324027590453625, 0.0051324027590453625, 0.0513240285217762, 0.0051324027590453625, 0.015397208742797375, 0.04059994965791702, 0.04059994965791702, 0.8931989073753357, 0.01326229702681303, 0.01326229702681303, 0.05304918810725212, 0.01326229702681303, 0.02652459405362606, 0.8620493412017822, 0.9927641749382019, 0.04101195186376572, 0.09374161064624786, 0.07225915789604187, 0.07225915789604187, 0.1620948612689972, 0.1406124085187912, 0.08983571082353592, 0.04101195186376572, 0.009764750488102436, 0.2753659784793854, 0.23996682465076447, 0.012629833072423935, 0.0063149165362119675, 0.7325302958488464, 0.0044372957199811935, 0.008874591439962387, 0.01331188715994358, 0.0044372957199811935, 0.25736314058303833, 0.0044372957199811935, 0.0044372957199811935, 0.0044372957199811935, 0.0044372957199811935, 0.709967315196991, 0.9064382910728455, 0.9710904359817505, 0.9644136428833008, 0.4085981845855713, 0.006190881598740816, 0.11762675642967224, 0.006190881598740816, 0.006190881598740816, 0.018572645261883736, 0.2166808694601059, 0.012381763197481632, 0.1919173300266266, 0.018572645261883736, 0.007942872121930122, 0.25020045042037964, 0.06751441210508347, 0.007942872121930122, 0.1707717478275299, 0.06751441210508347, 0.007942872121930122, 0.1151716411113739, 0.011914308182895184, 0.2938862442970276, 0.967578649520874, 0.995741069316864, 0.011152666993439198, 0.1449846625328064, 0.11524422466754913, 0.011152666993439198, 0.2936868965625763, 0.026022888720035553, 0.011152666993439198, 0.052045777440071106, 0.011152666993439198, 0.32714489102363586, 0.030961792916059494, 0.9288538098335266, 0.9539328813552856, 0.9754762649536133, 0.9443187117576599, 0.03914345055818558, 0.9394428133964539, 0.9239834547042847, 0.15793268382549286, 0.01493957731872797, 0.22409366071224213, 0.12591929733753204, 0.012805351987481117, 0.012805351987481117, 0.01493957731872797, 0.008536901324987411, 0.35641562938690186, 0.07256366312503815, 0.02661939337849617, 0.23957453668117523, 0.7187235951423645, 0.957831621170044, 0.0034395758993923664, 0.19261625409126282, 0.006879151798784733, 0.006879151798784733, 0.15822048485279083, 0.05503321439027786, 0.006879151798784733, 0.03439575806260109, 0.0034395758993923664, 0.529694676399231, 0.05810469388961792, 0.755361020565033, 0.1452617347240448, 0.9251955151557922, 0.9017308950424194, 0.023729760199785233, 0.023729760199785233, 0.952036440372467, 0.03173454850912094, 0.12500058114528656, 0.11718804389238358, 0.33984532952308655, 0.06640655547380447, 0.00781253632158041, 0.1054692417383194, 0.01562507264316082, 0.027343876659870148, 0.03515641391277313, 0.1562507301568985, 0.8799868226051331, 0.09777631610631943, 0.08359608799219131, 0.9028377532958984, 0.7160779237747192, 0.01278710551559925, 0.0767226293683052, 0.1662323772907257, 0.040324896574020386, 0.2580793499946594, 0.25001436471939087, 0.4355089068412781, 0.9763887524604797, 0.927148699760437, 0.0403108149766922, 0.26337772607803345, 0.7148823738098145, 0.026140311732888222, 0.008713437244296074, 0.004356718622148037, 0.07842093706130981, 0.004356718622148037, 0.03921046853065491, 0.004356718622148037, 0.004356718622148037, 0.440028578042984, 0.38774794340133667, 0.45062798261642456, 0.009388082660734653, 0.009388082660734653, 0.028164248913526535, 0.09388082474470139, 0.009388082660734653, 0.05632849782705307, 0.32858291268348694, 0.018776165321469307, 0.01695919968187809, 0.03546014800667763, 0.03391839936375618, 0.055502839386463165, 0.020042691379785538, 0.11100567877292633, 0.06937854737043381, 0.004625236615538597, 0.006166981998831034, 0.647533118724823, 0.09818556904792786, 0.014026510529220104, 0.855617105960846, 0.016921978443861008, 0.02538296952843666, 0.1099928691983223, 0.008460989221930504, 0.8291769623756409, 0.04110020771622658, 0.04110020771622658, 0.8905044794082642, 0.01223768014460802, 0.02447536028921604, 0.00611884007230401, 0.00611884007230401, 0.00611884007230401, 0.00611884007230401, 0.942301332950592, 0.04162522032856941, 0.020812610164284706, 0.8949422240257263, 0.01802726835012436, 0.9644588232040405, 0.962257981300354, 0.017183177173137665, 0.903928279876709, 0.06306476145982742, 0.010507541708648205, 0.010507541708648205, 0.2101508378982544, 0.02101508341729641, 0.18913574516773224, 0.010507541708648205, 0.5358846187591553, 0.13866360485553741, 0.08038470149040222, 0.255221426486969, 0.016076941043138504, 0.04823082312941551, 0.0823943167924881, 0.038182735443115234, 0.04823082312941551, 0.024115411564707756, 0.26727914810180664, 0.057931333780288696, 0.9269013404846191, 0.9391341209411621, 0.9416702389717102, 0.08367234468460083, 0.011953191831707954, 0.011953191831707954, 0.8725830316543579, 0.9756467342376709, 0.9399141073226929, 0.9185630679130554, 0.9421408772468567, 0.03954986110329628, 0.006591643672436476, 0.936013400554657, 0.006591643672436476, 0.9200647473335266, 0.9393294453620911, 0.17280294001102448, 0.8064137697219849, 0.2732350528240204, 0.5977016687393188, 0.017077190801501274, 0.08538595587015152, 0.9957117438316345, 0.971561849117279, 0.9271354675292969, 0.0386306457221508, 0.9698088765144348, 0.9730652570724487, 0.9862138628959656, 0.11432226002216339, 0.00816587544977665, 0.34296679496765137, 0.00816587544977665, 0.514450192451477, 0.978389322757721, 0.9585924744606018, 0.02457929402589798, 0.8417987823486328, 0.07652716338634491, 0.05101810768246651, 0.11844052374362946, 0.18721243739128113, 0.08023390173912048, 0.007641324307769537, 0.13754384219646454, 0.019103311002254486, 0.015282648615539074, 0.04584794491529465, 0.02674463391304016, 0.3667835593223572, 0.11963705718517303, 0.10615682601928711, 0.03370057791471481, 0.06066104397177696, 0.04718081280589104, 0.042125724256038666, 0.01516526099294424, 0.040440693497657776, 0.00674011604860425, 0.527414083480835, 0.02095681056380272, 0.7754019498825073, 0.12574085593223572, 0.04191362112760544, 0.10152420401573181, 0.03514299541711807, 0.06247643381357193, 0.16790542006492615, 0.015619108453392982, 0.02342866361141205, 0.011714331805706024, 0.04295254871249199, 0.007809554226696491, 0.5271449089050293, 0.12370206415653229, 0.006185103207826614, 0.049480825662612915, 0.48862317204475403, 0.006185103207826614, 0.024740412831306458, 0.006185103207826614, 0.006185103207826614, 0.07422123849391937, 0.21029351651668549, 0.08865075558423996, 0.12163708359003067, 0.0020616455003619194, 0.0020616455003619194, 0.0020616455003619194, 0.0371096208691597, 0.0020616455003619194, 0.016493164002895355, 0.004123291000723839, 0.723637580871582, 0.8427839279174805, 0.0732855573296547, 0.03664277866482735, 0.8505064249038696, 0.07087554037570953, 0.02732791379094124, 0.02732791379094124, 0.05465582758188248, 0.02732791379094124, 0.01366395689547062, 0.09564770013093948, 0.669533908367157, 0.02732791379094124, 0.01366395689547062, 0.05465582758188248, 0.874823272228241, 0.9748843908309937, 0.1170554980635643, 0.029263874515891075, 0.16908016800880432, 0.19834403693675995, 0.08454008400440216, 0.039018500596284866, 0.15932554006576538, 0.04877312481403351, 0.022760791704058647, 0.13006167113780975, 0.9436253905296326, 0.9531047344207764, 0.0032627955079078674, 0.03915354609489441, 0.009788386523723602, 0.022839568555355072, 0.21534450352191925, 0.28386321663856506, 0.13703741133213043, 0.02610236406326294, 0.006525591015815735, 0.2577608525753021, 0.4737570285797119, 0.01302424818277359, 0.05535305663943291, 0.18885160982608795, 0.008140155114233494, 0.01790834218263626, 0.04232880845665932, 0.006512124091386795, 0.09279777109622955, 0.1025659590959549, 0.08855446428060532, 0.07871507853269577, 0.19186800718307495, 0.024598462507128716, 0.11315292865037918, 0.13775138556957245, 0.019678769633173943, 0.26566338539123535, 0.024598462507128716, 0.054116617888212204, 0.6453757286071777, 0.002644982421770692, 0.002644982421770692, 0.002644982421770692, 0.002644982421770692, 0.002644982421770692, 0.3412027359008789, 0.9633079171180725, 0.9504395723342896, 0.8495521545410156, 0.1312316358089447, 0.01448917482048273, 0.9562855362892151, 0.9192076921463013, 0.9353655576705933, 0.031893692910671234, 0.010631230659782887, 0.021262461319565773, 0.010631230659782887, 0.010631230659782887, 0.010631230659782887, 0.021262461319565773, 0.010631230659782887, 0.5102990865707397, 0.3614618480205536, 0.9550373554229736, 0.8599474430084229, 0.035461749881505966, 0.079788938164711, 0.12884017825126648, 0.05153607204556465, 0.16866350173950195, 0.011712743900716305, 0.009370194748044014, 0.014055292122066021, 0.12415508180856705, 0.011712743900716305, 0.009370194748044014, 0.4708522856235504, 0.9651746153831482, 0.03572983667254448, 0.014291933737695217, 0.0071459668688476086, 0.042875804007053375, 0.0071459668688476086, 0.0071459668688476086, 0.0071459668688476086, 0.0071459668688476086, 0.8860999345779419, 0.9812982678413391, 0.20354001224040985, 0.007269286084920168, 0.007269286084920168, 0.007269286084920168, 0.043615713715553284, 0.5233885645866394, 0.007269286084920168, 0.007269286084920168, 0.007269286084920168, 0.1890014410018921, 0.7346571087837219, 0.23509028553962708, 0.00979542825371027, 0.9810522794723511, 0.03354646638035774, 0.9057546257972717, 0.03354646638035774, 0.06157815083861351, 0.008796879090368748, 0.9148753881454468, 0.018516503274440765, 0.018516503274440765, 0.055549509823322296, 0.8887921571731567, 0.9626737236976624, 0.9310656189918518, 0.24158307909965515, 0.7489075660705566, 0.9619664549827576, 0.9269595742225647, 0.026994405314326286, 0.9448041915893555, 0.983813464641571, 0.974797785282135, 0.9316587448120117, 0.036771342158317566, 0.9192835688591003, 0.9298399090766907, 0.9259292483329773, 0.010878116823732853, 0.010878116823732853, 0.007252078037708998, 0.007252078037708998, 0.15591968595981598, 0.08702493458986282, 0.15954571962356567, 0.010878116823732853, 0.003626039018854499, 0.5475319027900696, 0.9551810026168823, 0.9517534971237183, 0.9741111397743225, 0.9471010565757751, 0.005577153526246548, 0.005577153526246548, 0.6302183866500854, 0.03904007375240326, 0.1226973831653595, 0.005577153526246548, 0.005577153526246548, 0.16173745691776276, 0.02230861410498619, 0.005577153526246548, 0.7733500003814697, 0.1269679069519043, 0.01154253724962473, 0.03462761268019676, 0.03462761268019676, 0.01154253724962473, 0.9507550001144409, 0.9998982548713684, 0.9827158451080322, 0.8663499355316162, 0.08250951766967773, 0.14539101719856262, 0.024231836199760437, 0.036347754299640656, 0.7511869072914124, 0.024231836199760437, 0.9754175543785095, 0.7545444965362549, 0.005894878879189491, 0.1296873390674591, 0.011789757758378983, 0.005894878879189491, 0.08252830803394318, 0.9781047105789185, 0.9664717316627502, 0.09082619100809097, 0.06244300678372383, 0.1986822932958603, 0.013245485723018646, 0.1684068888425827, 0.049197517335414886, 0.051089730113744736, 0.04352088272571564, 0.07947291433811188, 0.24220317602157593, 0.9634385704994202, 0.19849719107151031, 0.02089444175362587, 0.00696481391787529, 0.00696481391787529, 0.003482406958937645, 0.010447220876812935, 0.16019071638584137, 0.038306474685668945, 0.010447220876812935, 0.5432554483413696, 0.9633081555366516, 0.9740732908248901, 0.9145441651344299, 0.05122636258602142, 0.922074556350708, 0.18087418377399445, 0.029284391552209854, 0.3479674756526947, 0.02239394560456276, 0.03100700117647648, 0.051678337156772614, 0.012058278545737267, 0.105079285800457, 0.04478789120912552, 0.17570634186267853, 0.9782451391220093, 0.24047961831092834, 0.016935184597969055, 0.3759610950946808, 0.016935184597969055, 0.054192591458559036, 0.06435369700193405, 0.013548147864639759, 0.027096295729279518, 0.11854629218578339, 0.07112777233123779, 0.963282585144043, 0.9505239725112915, 0.9729154706001282, 0.97932368516922, 0.08034758269786835, 0.01095648854970932, 0.12052136659622192, 0.35791194438934326, 0.2666078805923462, 0.018260814249515533, 0.025565138086676598, 0.04747811704874039, 0.062086764723062515, 0.01095648854970932, 0.015630047768354416, 0.006252019666135311, 0.0437641367316246, 0.046890147030353546, 0.5751857757568359, 0.012504039332270622, 0.12504038214683533, 0.006252019666135311, 0.015630047768354416, 0.15004846453666687, 0.9574590921401978, 0.9720147252082825, 0.9004239439964294, 0.00415590638294816, 0.012467719614505768, 0.06649450212717056, 0.05402678623795509, 0.7439072728157043, 0.00415590638294816, 0.00415590638294816, 0.06233859807252884, 0.012467719614505768, 0.03324725106358528, 0.09795774519443512, 0.05877464637160301, 0.029387323185801506, 0.5289718508720398, 0.009795774705708027, 0.2253028154373169, 0.009795774705708027, 0.03918309882283211, 0.9689486026763916, 0.9119075536727905, 0.04342417046427727, 0.9086118936538696, 0.07680618762969971, 0.08064649254083633, 0.14209143817424774, 0.14209143817424774, 0.08448680490255356, 0.03456278517842293, 0.04224340245127678, 0.06912557035684586, 0.2265782505273819, 0.10368835180997849, 0.9237725138664246, 0.38637977838516235, 0.004479765426367521, 0.3949659764766693, 0.0257586520165205, 0.010826099663972855, 0.010826099663972855, 0.11983372271060944, 0.00858621671795845, 0.026878593489527702, 0.011572727002203465, 0.3610067069530487, 0.0020867439452558756, 0.6135027408599854, 0.0020867439452558756, 0.0020867439452558756, 0.0020867439452558756, 0.01252046413719654, 0.004173487890511751, 0.0020867439452558756, 0.0020867439452558756, 0.2901615500450134, 0.004267081618309021, 0.5248510241508484, 0.004267081618309021, 0.1450807750225067, 0.008534163236618042, 0.008534163236618042, 0.004267081618309021, 0.004267081618309021, 0.008534163236618042, 0.24684558808803558, 0.6806954145431519, 0.007480169180780649, 0.007480169180780649, 0.04488101601600647, 0.9964391589164734, 0.09377843141555786, 0.011253411881625652, 0.022506823763251305, 0.3451046347618103, 0.32259780168533325, 0.007502274587750435, 0.06001819670200348, 0.022506823763251305, 0.04876478388905525, 0.06752046942710876, 0.7086418867111206, 0.2657407224178314, 0.945283830165863, 0.9803228378295898, 0.012387030757963657, 0.024774061515927315, 0.09909624606370926, 0.012387030757963657, 0.594577431678772, 0.24774061143398285, 0.029873361811041832, 0.10455676168203354, 0.059746723622083664, 0.007468340452760458, 0.022405020892620087, 0.022405020892620087, 0.38088536262512207, 0.022405020892620087, 0.029873361811041832, 0.3211386203765869, 0.968198835849762, 0.901260495185852, 0.0634690448641777, 0.01269380934536457, 0.9321804046630859, 0.013450571335852146, 0.6187263131141663, 0.013450571335852146, 0.013450571335852146, 0.16140685975551605, 0.013450571335852146, 0.0941540002822876, 0.013450571335852146, 0.08070342987775803, 0.08622097223997116, 0.17244194447994232, 0.5316959619522095, 0.17244194447994232, 0.0023765689693391323, 0.023765690624713898, 0.0023765689693391323, 0.0023765689693391323, 0.4158995747566223, 0.021389121189713478, 0.047531381249427795, 0.0023765689693391323, 0.0023765689693391323, 0.4800669252872467, 0.9439177513122559, 0.008348217234015465, 0.008348217234015465, 0.46750015020370483, 0.03339286893606186, 0.08348216861486435, 0.008348217234015465, 0.008348217234015465, 0.01669643446803093, 0.36732155084609985, 0.008348217234015465, 0.05005073547363281, 0.9384512901306152, 0.9519649744033813, 0.9854928851127625, 0.0883234441280365, 0.1387939751148224, 0.706587553024292, 0.012617634609341621, 0.012617634609341621, 0.012617634609341621, 0.5978917479515076, 0.008079618215560913, 0.008079618215560913, 0.016159236431121826, 0.3070254921913147, 0.04847771301865578, 0.008079618215560913, 0.008079618215560913, 0.008079618215560913, 0.9678024053573608, 0.5674259662628174, 0.004728550091385841, 0.047285500913858414, 0.004728550091385841, 0.004728550091385841, 0.06147114932537079, 0.12294229865074158, 0.004728550091385841, 0.004728550091385841, 0.17968489229679108, 0.9307194948196411, 0.9299488663673401, 0.005237273871898651, 0.005237273871898651, 0.010474547743797302, 0.2356773316860199, 0.005237273871898651, 0.6651337742805481, 0.010474547743797302, 0.04713546484708786, 0.005237273871898651, 0.015711821615695953, 0.9790877103805542, 0.9367741346359253, 0.9286823868751526, 0.04037749394774437, 0.9436102509498596, 0.042891375720500946, 0.9667145609855652, 0.9835360050201416, 0.14281795918941498, 0.11685105413198471, 0.11685105413198471, 0.012983450666069984, 0.11035933345556259, 0.35704490542411804, 0.012983450666069984, 0.02596690133213997, 0.032458625733852386, 0.07140897959470749, 0.7689558863639832, 0.01636076346039772, 0.19632916152477264, 0.9584956169128418, 0.1789042055606842, 0.03766404464840889, 0.09651411324739456, 0.018832022324204445, 0.03766404464840889, 0.08003608882427216, 0.06355807185173035, 0.042372047901153564, 0.03766404464840889, 0.40724247694015503, 0.895481288433075, 0.9824377298355103, 0.9440948963165283, 0.9285526871681213, 0.9254857301712036, 0.0755733773112297, 0.03942959010601044, 0.14457516372203827, 0.0755733773112297, 0.09857397526502609, 0.1511467546224594, 0.03614379093050957, 0.06900177896022797, 0.14786095917224884, 0.15771836042404175, 0.9761189222335815, 0.9757962226867676, 0.9937472939491272, 0.06640762835741043, 0.1688329577445984, 0.16433073580265045, 0.04727322608232498, 0.09229534864425659, 0.060779862105846405, 0.02363661304116249, 0.0911697968840599, 0.0686587318778038, 0.21610617637634277, 0.12587451934814453, 0.13445688784122467, 0.00858235452324152, 0.022886278107762337, 0.00858235452324152, 0.47489026188850403, 0.011443139053881168, 0.09726668149232864, 0.03719020262360573, 0.08010197430849075, 0.0409926138818264, 0.8881733417510986, 0.013664204627275467, 0.027328409254550934, 0.12784263491630554, 0.029055144637823105, 0.005811029113829136, 0.011622058227658272, 0.005811029113829136, 0.05811028927564621, 0.029055144637823105, 0.005811029113829136, 0.005811029113829136, 0.7147565484046936, 0.5330151915550232, 0.006345418747514486, 0.24747133255004883, 0.022208966314792633, 0.01586354710161686, 0.009518127888441086, 0.06979960948228836, 0.006345418747514486, 0.01586354710161686, 0.0666268989443779, 0.9145990610122681, 0.9656009674072266, 0.4965863823890686, 0.012111863121390343, 0.4723626375198364, 0.12828047573566437, 0.06841625273227692, 0.7525787949562073, 0.008552031591534615, 0.01710406318306923, 0.008552031591534615, 0.777093768119812, 0.1554187536239624, 0.25175824761390686, 0.013608554378151894, 0.1224769875407219, 0.5987764000892639, 0.9903659224510193, 0.9825911521911621, 0.24118763208389282, 0.7503615021705627, 0.23878125846385956, 0.05685267969965935, 0.6936026811599731, 0.9875506162643433, 0.10980121791362762, 0.03450895473361015, 0.05960637703537941, 0.16313323378562927, 0.22273962199687958, 0.156858891248703, 0.04392048716545105, 0.021960243582725525, 0.15999606251716614, 0.025097422301769257, 0.9368346333503723, 0.01762349344789982, 0.1879839301109314, 0.005874497815966606, 0.005874497815966606, 0.7695592641830444, 0.9629341959953308, 0.07267079502344131, 0.0799378752708435, 0.04360247775912285, 0.4360247850418091, 0.1744099110364914, 0.014534159563481808, 0.007267079781740904, 0.04360247775912285, 0.03633539751172066, 0.09447203576564789, 0.9326740503311157, 0.6633294224739075, 0.3073965609073639, 0.9812746047973633, 0.17789192497730255, 0.03803206607699394, 0.12636461853981018, 0.15703563392162323, 0.07238361239433289, 0.07851781696081161, 0.06256888806819916, 0.0503004752099514, 0.09814727306365967, 0.1361793428659439, 0.2788010835647583, 0.07683493942022324, 0.06366323679685593, 0.07024908810853958, 0.041710399091243744, 0.06146795302629471, 0.06805380433797836, 0.10098306834697723, 0.03731982782483101, 0.19977085292339325, 0.005767994560301304, 0.034607965499162674, 0.16727183759212494, 0.005767994560301304, 0.011535989120602608, 0.27109575271606445, 0.06921593099832535, 0.005767994560301304, 0.403759628534317, 0.023071978241205215, 0.04528592899441719, 0.015095309354364872, 0.04528592899441719, 0.030190618708729744, 0.015095309354364872, 0.7698608040809631, 0.07547654956579208, 0.9544703364372253, 0.9503871202468872, 0.9512627720832825, 0.024943606927990913, 0.3907831609249115, 0.12471803277730942, 0.08314535766839981, 0.016629070043563843, 0.008314535021781921, 0.232806995511055, 0.09977442771196365, 0.008314535021781921, 0.008314535021781921, 0.9603635668754578, 0.9255930185317993, 0.9427536725997925, 0.9710951447486877, 0.020661599934101105, 0.1197056844830513, 0.0389043465256691, 0.23043343424797058, 0.06583812832832336, 0.17058059573173523, 0.05985284224152565, 0.03591170534491539, 0.05985284224152565, 0.1616026759147644, 0.05985284224152565, 0.03430958092212677, 0.14329296350479126, 0.14732937514781952, 0.06861916184425354, 0.072655588388443, 0.04036421328783035, 0.014127475209534168, 0.08476485311985016, 0.10292874276638031, 0.2926405668258667, 0.9424222111701965, 0.9610771536827087, 0.9577237963676453, 0.9372692108154297, 0.12013024836778641, 0.18640901148319244, 0.3272513747215271, 0.07042118161916733, 0.05385148897767067, 0.03728180006146431, 0.09113328903913498, 0.02899695560336113, 0.02485453337430954, 0.06213633343577385, 0.9689101576805115, 0.9794471263885498, 0.9796329736709595, 0.14120379090309143, 0.8189820051193237, 0.9081490635871887, 0.034928809851408005, 0.906012773513794, 0.9764320254325867, 0.9649407863616943, 0.9274661540985107, 0.9208188056945801, 0.022374438121914864, 0.9397264122962952, 0.21075551211833954, 0.7225903272628784, 0.9813332557678223, 0.012182953767478466, 0.012182953767478466, 0.24365907907485962, 0.048731815069913864, 0.018274430185556412, 0.18883578479290009, 0.006091476883739233, 0.249750554561615, 0.21320168673992157, 0.006091476883739233, 0.896579921245575, 0.9979175329208374, 0.9668445587158203, 0.9808440208435059, 0.9680118560791016, 0.9878900051116943, 0.9756141901016235, 0.9270800948143005, 0.18460239470005035, 0.03257689252495766, 0.13030757009983063, 0.010858964174985886, 0.005429482087492943, 0.01628844626247883, 0.048865340650081635, 0.01628844626247883, 0.4669354557991028, 0.08687171339988708, 0.9410269856452942, 0.00518419872969389, 0.4717620611190796, 0.00518419872969389, 0.00518419872969389, 0.01036839745938778, 0.00518419872969389, 0.00518419872969389, 0.25402572751045227, 0.00518419872969389, 0.23847313225269318, 0.9646899700164795, 0.002026954898610711, 0.03648518770933151, 0.01216172892600298, 0.07905124127864838, 0.14594075083732605, 0.02432345785200596, 0.09121297299861908, 0.00608086446300149, 0.004053909797221422, 0.5959247350692749, 0.11106862127780914, 0.8700375556945801, 0.9879107475280762, 0.9685723185539246, 0.06729113310575485, 0.013458226807415485, 0.8882429599761963, 0.6525813937187195, 0.003931213170289993, 0.027518494054675102, 0.003931213170289993, 0.003931213170289993, 0.13759246468544006, 0.12579882144927979, 0.003931213170289993, 0.003931213170289993, 0.03931213542819023, 0.9702789187431335, 0.01917308382689953, 0.009586541913449764, 0.5464329123497009, 0.009586541913449764, 0.01917308382689953, 0.057519253343343735, 0.3355289697647095, 0.009586541913449764, 0.9632797837257385, 0.06444982439279556, 0.05155985802412033, 0.05155985802412033, 0.012889964506030083, 0.012889964506030083, 0.16756953299045563, 0.6058282852172852, 0.012889964506030083, 0.012889964506030083, 0.012889964506030083, 0.7173788547515869, 0.14347577095031738, 0.12297923117876053, 1.0002212524414062, 0.050200626254081726, 0.9036112427711487, 0.9782301783561707, 0.9312995076179504, 0.05478232353925705, 0.9703577756881714, 0.12293491512537003, 0.2521741986274719, 0.28684815764427185, 0.03152177482843399, 0.028369596228003502, 0.006304354872554541, 0.012608709745109081, 0.22380459308624268, 0.015760887414216995, 0.018913064152002335, 0.14327497780323029, 0.023879162967205048, 0.8118915557861328, 0.023879162967205048, 0.19187843799591064, 0.011286966502666473, 0.011286966502666473, 0.011286966502666473, 0.011286966502666473, 0.5304874181747437, 0.011286966502666473, 0.22573933005332947, 0.13057008385658264, 0.024031303822994232, 0.513468861579895, 0.022429216653108597, 0.03604695573449135, 0.005607304163277149, 0.01041356474161148, 0.18263791501522064, 0.018424000591039658, 0.055271998047828674, 0.03841620683670044, 0.03073296695947647, 0.007683241739869118, 0.007683241739869118, 0.007683241739869118, 0.15366482734680176, 0.007683241739869118, 0.7452744245529175, 0.8690482378005981, 0.972256600856781, 0.9330732822418213, 0.9361099600791931, 0.937221348285675, 0.20702779293060303, 0.7689603567123413, 0.3885621726512909, 0.07520557940006256, 0.10027410835027695, 0.012534263543784618, 0.03133565932512283, 0.03760278970003128, 0.0940069779753685, 0.07520557940006256, 0.043869923800230026, 0.15041115880012512, 0.3232765197753906, 0.0048981294967234135, 0.24000833928585052, 0.0048981294967234135, 0.009796258993446827, 0.009796258993446827, 0.09306445717811584, 0.029388776049017906, 0.009796258993446827, 0.27429524064064026, 0.18761706352233887, 0.004363187588751316, 0.37523412704467773, 0.008726375177502632, 0.03926868736743927, 0.030542312189936638, 0.0741741880774498, 0.017452750355005264, 0.030542312189936638, 0.22688575088977814, 0.9539674520492554, 0.9208446145057678, 0.9836335778236389, 0.009909712709486485, 0.08918741345405579, 0.12882626056671143, 0.01981942541897297, 0.009909712709486485, 0.009909712709486485, 0.4261176288127899, 0.02972913719713688, 0.009909712709486485, 0.26756224036216736, 0.9769678115844727, 0.9347735643386841, 0.055143799632787704, 0.9098727107048035, 0.3446102738380432, 0.054153043776750565, 0.07876806706190109, 0.03446102887392044, 0.06892205774784088, 0.009846008382737637, 0.20676617324352264, 0.014769012108445168, 0.009846008382737637, 0.1772281527519226, 0.417276531457901, 0.008345530368387699, 0.5174229145050049, 0.033382121473550797, 0.008345530368387699, 0.9644238352775574, 0.9657849669456482, 0.004882685374468565, 0.3246985971927643, 0.041502825915813446, 0.03173745423555374, 0.17089399695396423, 0.004882685374468565, 0.021972084417939186, 0.23681025207042694, 0.004882685374468565, 0.15624593198299408, 0.07146228104829788, 0.008932785131037235, 0.8039506077766418, 0.008932785131037235, 0.008932785131037235, 0.0893278494477272, 0.04822926968336105, 0.8681268692016602, 0.0182681605219841, 0.004567040130496025, 0.6165503859519958, 0.004567040130496025, 0.00913408026099205, 0.004567040130496025, 0.0137011194601655, 0.00913408026099205, 0.004567040130496025, 0.31969279050827026, 0.9569637179374695, 0.03470369055867195, 0.009915339760482311, 0.2825872004032135, 0.024788349866867065, 0.039661359041929245, 0.014873010106384754, 0.2726718485355377, 0.024788349866867065, 0.004957669880241156, 0.2925025224685669, 0.9590458273887634, 0.6932529807090759, 0.019807226955890656, 0.2574939429759979, 0.005256435833871365, 0.4257712960243225, 0.1997445523738861, 0.005256435833871365, 0.14192377030849457, 0.005256435833871365, 0.005256435833871365, 0.08935941010713577, 0.01576930657029152, 0.105128712952137, 0.9414241313934326, 0.9847138524055481, 0.06904440373182297, 0.07860440015792847, 0.09028883278369904, 0.27192872762680054, 0.11684437096118927, 0.0318666473031044, 0.0764799565076828, 0.10091105103492737, 0.1370265781879425, 0.026555540040135384, 0.9621174931526184, 0.6020649671554565, 0.004955267067998648, 0.009910534135997295, 0.012388167902827263, 0.004955267067998648, 0.002477633533999324, 0.29979366064071655, 0.007432900834828615, 0.004955267067998648, 0.052030306309461594, 0.3506372570991516, 0.003387799486517906, 0.02540849708020687, 0.05251089483499527, 0.005081699229776859, 0.003387799486517906, 0.42008715867996216, 0.013551197946071625, 0.005081699229776859, 0.12196078151464462, 0.96395343542099, 0.9702311754226685, 0.22036781907081604, 0.036727968603372574, 0.005246852990239859, 0.020987411960959435, 0.010493705980479717, 0.010493705980479717, 0.2990706264972687, 0.020987411960959435, 0.005246852990239859, 0.3725265562534332, 0.12032122910022736, 0.8422486186027527, 0.8782853484153748, 0.09758726507425308, 0.09494718909263611, 0.02234051376581192, 0.17313899099826813, 0.1507984697818756, 0.12008026242256165, 0.030718207359313965, 0.00837769266217947, 0.0558512881398201, 0.3323151469230652, 0.00837769266217947, 0.9876144528388977, 0.0704076737165451, 0.0234692245721817, 0.821422815322876, 0.0234692245721817, 0.0234692245721817, 0.2971922755241394, 0.010614010505378246, 0.15921016037464142, 0.4988584816455841, 0.010614010505378246, 0.8088640570640564, 0.1594943255186081, 0.011392451822757721, 0.011392451822757721, 0.010953287594020367, 0.9310294389724731, 0.010953287594020367, 0.010953287594020367, 0.010953287594020367, 0.021906575188040733, 0.03267400711774826, 0.09257635474205017, 0.0544566810131073, 0.07623935490846634, 0.09529919177293777, 0.13069602847099304, 0.01633700355887413, 0.008168501779437065, 0.2886204123497009, 0.20693537592887878, 0.15610356628894806, 0.06572781503200531, 0.08215976506471634, 0.008215976879000664, 0.06572781503200531, 0.44366273283958435, 0.008215976879000664, 0.008215976879000664, 0.02464793063700199, 0.13967160880565643, 0.9313816428184509, 0.9285780191421509, 0.9648024439811707, 0.0067027960903942585, 0.12735313177108765, 0.00893706176429987, 0.0067027960903942585, 0.17427270114421844, 0.10054194182157516, 0.0067027960903942585, 0.07373075932264328, 0.0067027960903942585, 0.48706984519958496, 0.15322788059711456, 0.05283719673752785, 0.40024176239967346, 0.025097668170928955, 0.017172088846564293, 0.08850230276584625, 0.07265114784240723, 0.05019533634185791, 0.027739528566598892, 0.11095811426639557, 0.9240540862083435, 0.9312009811401367, 0.013080799020826817, 0.026161598041653633, 0.006540399510413408, 0.006540399510413408, 0.006540399510413408, 0.9352771043777466, 0.9926382303237915, 0.9981954097747803, 0.9494589567184448, 0.982590913772583, 0.9834253191947937, 0.9811568260192871, 0.9801888465881348, 0.9406079053878784, 0.9606590867042542, 0.17473410069942474, 0.03717746585607529, 0.31972622871398926, 0.044612959027290344, 0.13755662739276886, 0.05576619878411293, 0.014870986342430115, 0.07435493171215057, 0.0260242260992527, 0.11525014787912369, 0.24387390911579132, 0.7112988829612732, 0.057422805577516556, 0.04921954870223999, 0.09023583680391312, 0.15586189925670624, 0.09843909740447998, 0.1517602652311325, 0.06972768902778625, 0.21738633513450623, 0.028711402788758278, 0.09023583680391312, 0.962291419506073, 0.36197784543037415, 0.03744598478078842, 0.02080332487821579, 0.06657063961029053, 0.07489196956157684, 0.03744598478078842, 0.2371579110622406, 0.016642659902572632, 0.024963989853858948, 0.1289806216955185, 0.8871253132820129, 0.9988223314285278, 0.9861470460891724, 0.9590590000152588, 0.9252540469169617, 0.9551810026168823, 0.9109762907028198, 0.12597015500068665, 0.008997867815196514, 0.6208528876304626, 0.07198294252157211, 0.008997867815196514, 0.017995735630393028, 0.08997868001461029, 0.008997867815196514, 0.026993604376912117, 0.017995735630393028, 0.9724201560020447, 0.9459066987037659, 0.010228616185486317, 0.0886480063199997, 0.05796216055750847, 0.11592432111501694, 0.3716397285461426, 0.034095387905836105, 0.010228616185486317, 0.09205754846334457, 0.027276311069726944, 0.1943437159061432, 0.004475718829780817, 0.058184344321489334, 0.040281470865011215, 0.03133003041148186, 0.5639405846595764, 0.008951437659561634, 0.008951437659561634, 0.07161150127649307, 0.026854313910007477, 0.19245591759681702, 0.9926937222480774, 0.047793611884117126, 0.9558722376823425, 0.9143620133399963, 0.9523090124130249, 0.09898786246776581, 0.8908907771110535, 0.6104480028152466, 0.024417920038104057, 0.10988064110279083, 0.06104480102658272, 0.012208960019052029, 0.012208960019052029, 0.09767168015241623, 0.012208960019052029, 0.06104480102658272, 0.9357067346572876, 0.00543559854850173, 0.00543559854850173, 0.19568154215812683, 0.00543559854850173, 0.7392414212226868, 0.00543559854850173, 0.02174239419400692, 0.016306795179843903, 0.00543559854850173, 0.00543559854850173, 0.01004797127097845, 0.7736937999725342, 0.1909114569425583, 0.010040068067610264, 0.010040068067610264, 0.010040068067610264, 0.010040068067610264, 0.010040068067610264, 0.7028048038482666, 0.010040068067610264, 0.010040068067610264, 0.22088150680065155, 0.010040068067610264, 0.08754834532737732, 0.012506905943155289, 0.08754834532737732, 0.025013811886310577, 0.037520717829465866, 0.050027623772621155, 0.13340699672698975, 0.012506905943155289, 0.012506905943155289, 0.541965901851654, 0.03436142951250076, 0.8933971524238586, 0.9928654432296753, 0.9680275917053223, 0.9797362089157104, 0.9494805932044983, 0.03810526803135872, 0.819263219833374, 0.11431580036878586, 0.931265652179718, 0.047757212072610855, 0.9401819705963135, 0.9349840879440308, 0.9579577445983887, 0.9375638365745544, 0.9729458093643188, 0.07615505903959274, 0.07269346714019775, 0.12807896733283997, 0.15577171742916107, 0.13154056668281555, 0.031154343858361244, 0.02076956257224083, 0.07615505903959274, 0.20077243447303772, 0.10730940848588943, 0.9758774042129517, 0.010107452981173992, 0.010107452981173992, 0.11118198931217194, 0.010107452981173992, 0.010107452981173992, 0.5862323045730591, 0.010107452981173992, 0.010107452981173992, 0.2425788789987564, 0.11219131201505661, 0.0373971052467823, 0.7666406631469727, 0.056095656007528305, 0.9759390950202942, 0.9219737648963928, 0.9539674520492554, 0.0208029355853796, 0.08841247111558914, 0.04420623555779457, 0.06890971958637238, 0.09751375764608383, 0.3952557444572449, 0.018202567473053932, 0.05200733616948128, 0.18202568590641022, 0.033804770559072495, 0.3903564512729645, 0.02491636946797371, 0.13288730382919312, 0.09966547787189484, 0.00830545648932457, 0.03737455606460571, 0.02491636946797371, 0.00830545648932457, 0.1785673201084137, 0.09966547787189484, 0.0732022225856781, 0.841825544834137, 0.03660111129283905, 0.5099108815193176, 0.16258028149604797, 0.036950062960386276, 0.06651011109352112, 0.014780024997889996, 0.007390012498944998, 0.07390012592077255, 0.007390012498944998, 0.007390012498944998, 0.11824019998311996, 0.19164763391017914, 0.005323545541614294, 0.005323545541614294, 0.02661772631108761, 0.005323545541614294, 0.4897661805152893, 0.03194127231836319, 0.005323545541614294, 0.22358889877796173, 0.015970636159181595, 0.1279321163892746, 0.020199807360768318, 0.020199807360768318, 0.013466538861393929, 0.12119884788990021, 0.46627888083457947, 0.03871629759669304, 0.01851649023592472, 0.05218283459544182, 0.12119884788990021, 0.09501878172159195, 0.878923773765564, 0.3994923532009125, 0.002147808438166976, 0.002147808438166976, 0.006443425081670284, 0.002147808438166976, 0.3393537104129791, 0.019330276176333427, 0.002147808438166976, 0.017182467505335808, 0.20404179394245148, 0.29020318388938904, 0.03711901232600212, 0.12485486268997192, 0.026995645835995674, 0.1653483361005783, 0.13160377740859985, 0.03711901232600212, 0.03711901232600212, 0.05399129167199135, 0.09111030399799347, 0.986004114151001, 0.9506734013557434, 0.970777690410614, 0.9255892634391785, 0.08412618190050125, 0.8336139917373657, 0.06883051246404648, 0.01862894557416439, 0.01862894557416439, 0.8010447025299072, 0.07451578229665756, 0.01862894557416439, 0.05588683858513832, 0.9803225994110107, 0.9277878403663635, 0.301328182220459, 0.034768637269735336, 0.22889351844787598, 0.043460797518491745, 0.005794772878289223, 0.017384318634867668, 0.16225363314151764, 0.005794772878289223, 0.08692159503698349, 0.11589545756578445, 0.9415664076805115, 0.7183181643486023, 0.04353443160653114, 0.2176721692085266, 0.9472841620445251, 0.025602275505661964, 0.9260201454162598, 0.9465433955192566, 0.04079928249120712, 0.004079928621649742, 0.8327375054359436, 0.12246139347553253, 0.006102483253926039, 0.006102483253926039, 0.5431209802627563, 0.006102483253926039, 0.4149688482284546, 0.012204966507852077, 0.006102483253926039, 0.9491188526153564, 0.027117682620882988, 0.920230507850647, 0.923941969871521, 0.03845478221774101, 0.03076382540166378, 0.9152237772941589, 0.025792423635721207, 0.4642636179924011, 0.025792423635721207, 0.012896211817860603, 0.15475453436374664, 0.1676507443189621, 0.025792423635721207, 0.03868863359093666, 0.09027347713708878, 0.012896211817860603, 0.08214884251356125, 0.8762543201446533, 0.027382947504520416, 0.06737767159938812, 0.048126909881830215, 0.048126909881830215, 0.17325687408447266, 0.009625381790101528, 0.03850152716040611, 0.019250763580203056, 0.02887614443898201, 0.5486467480659485, 0.019250763580203056, 0.7896104454994202, 0.1504019945859909, 0.018800249323248863, 0.8962191939353943, 0.14748717844486237, 0.009217948652803898, 0.018435897305607796, 0.4516794979572296, 0.0829615443944931, 0.03687179461121559, 0.18435898423194885, 0.009217948652803898, 0.018435897305607796, 0.04608974605798721, 0.14257360994815826, 0.041933413594961166, 0.03354673087596893, 0.08386682718992233, 0.09225350618362427, 0.016773365437984467, 0.46965423226356506, 0.08386682718992233, 0.008386682718992233, 0.03354673087596893, 0.005707051604986191, 0.039949361234903336, 0.34242308139801025, 0.045656412839889526, 0.1312621831893921, 0.005707051604986191, 0.005707051604986191, 0.2967666685581207, 0.11984807997941971, 0.005707051604986191, 0.9409485459327698, 0.972281277179718, 0.005762789864093065, 0.2650883197784424, 0.005762789864093065, 0.005762789864093065, 0.63966965675354, 0.02305115945637226, 0.005762789864093065, 0.005762789864093065, 0.005762789864093065, 0.040339525789022446, 0.9170641303062439, 0.9372879862785339, 0.00570765370503068, 0.00570765370503068, 0.14269134402275085, 0.25113677978515625, 0.513688862323761, 0.00570765370503068, 0.00570765370503068, 0.02283061482012272, 0.039953578263521194, 0.00570765370503068, 0.5621058940887451, 0.0133834732696414, 0.1070677861571312, 0.0133834732696414, 0.09368431568145752, 0.14721821248531342, 0.0133834732696414, 0.0133834732696414, 0.0133834732696414, 0.0267669465392828, 0.6832692623138428, 0.04408188909292221, 0.022040944546461105, 0.17632755637168884, 0.9661534428596497, 0.9803234934806824, 0.980710506439209, 0.010321829468011856, 0.08257463574409485, 0.8876773118972778, 0.10154637694358826, 0.12330631166696548, 0.0072533125057816505, 0.03626656159758568, 0.23210600018501282, 0.04351987689733505, 0.0072533125057816505, 0.28287920355796814, 0.13055962324142456, 0.03626656159758568], \"Term\": [\"accionarios\", \"acelerando\", \"aceleraron\", \"acelerarse\", \"aceler\\u00e1ndose\", \"aceler\\u00e1ndose\", \"acentuado\", \"acero\", \"activas\", \"acumulada\", \"acumulada\", \"acumulada\", \"acumulada\", \"acumulada\", \"acumulada\", \"adecuada\", \"administrativo\", \"afecte\", \"agentes\", \"agentes\", \"agentes\", \"agentes\", \"agentes\", \"agentes\", \"agentes\", \"agentes\", \"agentes\", \"agentes\", \"agentes_esperan\", \"agentes_esperan\", \"agropecuarios\", \"ahorro\", \"ahorro\", \"ahorro\", \"ajusta\", \"ajustan\", \"ajustes\", \"ajustes\", \"ajustes\", \"ajustes\", \"ajustes\", \"ajustes\", \"ajustes\", \"ajustes\", \"ajustes\", \"ajustes_precios\", \"alcanz\\u00f3\", \"alcanz\\u00f3\", \"alcanz\\u00f3\", \"alcanz\\u00f3\", \"alcanz\\u00f3\", \"alcanz\\u00f3\", \"alcanz\\u00f3\", \"alcanz\\u00f3\", \"alcanz\\u00f3\", \"alcanz\\u00f3\", \"alcistas\", \"alimentos\", \"alimentos\", \"alimentos\", \"alimentos\", \"alimentos\", \"alimentos\", \"alimentos\", \"alimentos\", \"alimentos\", \"alimentos\", \"alquileres\", \"alterar\", \"altos_precios_petr\\u00f3leo\", \"altos_precios_petr\\u00f3leo\", \"alza\", \"alza\", \"alza\", \"alza\", \"alza\", \"alza\", \"alza\", \"alza\", \"alza\", \"alza\", \"amortizaciones\", \"amplia_liquidez\", \"amplia_liquidez\", \"ampliada\", \"amplias\", \"amplios\", \"am\\u00e9rica_latina\", \"am\\u00e9rica_latina\", \"am\\u00e9rica_latina\", \"analistas\", \"analistas\", \"analistas\", \"analistas\", \"analistas\", \"analistas\", \"analistas\", \"analistas\", \"analistas\", \"analistas\", \"analistas_locales\", \"analistas_locales\", \"analistas_locales\", \"analistas_locales\", \"analistas_locales_extranjeros\", \"andi\", \"andi\", \"apertura\", \"aporte\", \"apreciaci\\u00f3n\", \"apreciaci\\u00f3n\", \"apreciaci\\u00f3n\", \"apreciaci\\u00f3n\", \"apreciaci\\u00f3n\", \"apreciaci\\u00f3n\", \"apreciaci\\u00f3n\", \"apreciaci\\u00f3n\", \"apreciaci\\u00f3n\", \"apreciaci\\u00f3n\", \"aprobaci\\u00f3n\", \"argentina\", \"argentina\", \"argentina\", \"argentina\", \"argentina\", \"arriendo\", \"arriendos\", \"arriendos\", \"asim\\u00e9trica\", \"asi\\u00e1ticas\", \"asi\\u00e1ticas\", \"atractivo\", \"aumentan\", \"aumento\", \"aumento\", \"aumento\", \"aumento\", \"aumento\", \"aumento\", \"aumento\", \"aumento\", \"aumento\", \"aumento\", \"ausencia\", \"autoridad_monetaria\", \"autoridad_monetaria\", \"baja\", \"baja\", \"baja\", \"baja\", \"baja\", \"baja\", \"baja\", \"baja\", \"baja\", \"baja\", \"bajas_tasas\", \"bajas_tasas_inter\\u00e9s\", \"bajas_tasas_inter\\u00e9s\", \"bajas_tasas_inter\\u00e9s\", \"balanza_pagos\", \"balanza_pagos\", \"balanza_pagos\", \"balanza_pagos\", \"balanza_pagos\", \"banca_hipotecaria\", \"banca_hipotecaria\", \"banco\", \"banco\", \"banco\", \"banco\", \"banco\", \"banco\", \"banco\", \"banco\", \"banco\", \"banco\", \"banco_rep\\u00fablica\", \"banco_rep\\u00fablica\", \"banco_rep\\u00fablica\", \"banco_rep\\u00fablica\", \"banco_rep\\u00fablica\", \"banco_rep\\u00fablica\", \"banco_rep\\u00fablica\", \"banco_rep\\u00fablica\", \"banco_rep\\u00fablica\", \"banco_rep\\u00fablica\", \"bancos_centrales\", \"banda\", \"banda\", \"bank\", \"barril\", \"base\", \"base\", \"base\", \"base\", \"base\", \"base\", \"base\", \"base\", \"base\", \"base\", \"base_monetaria\", \"base_monetaria\", \"base_monetaria\", \"base_monetaria\", \"beneficiados\", \"beneficios\", \"bienes\", \"bienes\", \"bienes\", \"bienes\", \"bienes\", \"bienes\", \"bienes\", \"bienes\", \"bienes\", \"bienes\", \"bienes_capital\", \"bienes_durables\", \"bienes_durables\", \"bienes_servicios\", \"bienes_servicios\", \"bienes_servicios\", \"bienes_transables\", \"bienes_transables\", \"bienes_transables\", \"bienes_transables\", \"bienes_transables\", \"bienes_transables\", \"bienes_transables\", \"billones\", \"borradores\", \"brecha_producto\", \"brecha_producto\", \"caf\\u00e9\", \"caf\\u00e9\", \"caf\\u00e9\", \"cambia\", \"canales\", \"canasta\", \"canasta\", \"canasta\", \"canastas\", \"canteras\", \"capital\", \"capital\", \"capital\", \"capital\", \"capital_fijo\", \"capitales\", \"capitales\", \"capitales\", \"capitales\", \"caracter\\u00edsticas\", \"carb\\u00f3n\", \"carb\\u00f3n\", \"carb\\u00f3n\", \"cartera\", \"cartera\", \"cartera_hipotecaria\", \"ca\\u00edda\", \"ca\\u00edda\", \"ca\\u00edda\", \"ca\\u00edda\", \"ca\\u00edda\", \"ca\\u00edda\", \"ca\\u00edda\", \"ca\\u00edda\", \"ca\\u00edda\", \"ca\\u00edda\", \"ceder\", \"centavos_libra\", \"cerrada\", \"cerrado\", \"chart\", \"china\", \"choques\", \"choques\", \"choques\", \"choques\", \"choques\", \"choques\", \"choques\", \"choques\", \"choques\", \"cierre\", \"cierre\", \"cierre\", \"cierre\", \"cierre\", \"cierre\", \"cierre\", \"cierre\", \"cierre\", \"cierre\", \"cifras\", \"cifras\", \"cifras\", \"cifras\", \"cifras\", \"cifras\", \"cifras\", \"cifras\", \"cifras\", \"cifras\", \"ciudades\", \"ciudades\", \"ciudades\", \"ciudades\", \"clasificaci\\u00f3n\", \"clasificaci\\u00f3n\", \"clasificaci\\u00f3n\", \"clim\\u00e1ticas\", \"coeficiente\", \"coeficientes\", \"colombia\", \"colombia\", \"colombia\", \"colombia\", \"colombia\", \"colombia\", \"colombia\", \"colombia\", \"colombia\", \"colombia\", \"combustibles\", \"combustibles\", \"combustibles\", \"combustibles\", \"combustibles\", \"combustibles\", \"combustibles\", \"combustibles\", \"combustibles\", \"combustibles\", \"combustibles_servicios_p\\u00fablicos\", \"comercial\", \"comercial\", \"comercial\", \"comercial\", \"comercial\", \"comercial\", \"comercio\", \"comercio\", \"comercio\", \"comercio\", \"comercio\", \"comercio\", \"compensados\", \"competitividad\", \"completa\", \"comportamiento\", \"comportamiento\", \"comportamiento\", \"comportamiento\", \"comportamiento\", \"comportamiento\", \"comportamiento\", \"comportamiento\", \"comportamiento\", \"comportamiento\", \"compras\", \"compras\", \"compras\", \"compras\", \"comprendido\", \"concentr\\u00f3\", \"concentr\\u00f3\", \"condiciones\", \"condiciones\", \"condiciones\", \"condiciones\", \"condiciones\", \"condiciones\", \"condiciones\", \"condiciones\", \"condiciones\", \"condiciones\", \"condiciones_externas\", \"condiciones_externas\", \"condici\\u00f3n\", \"confianza\", \"confianza\", \"confianza\", \"confianza\", \"confianza\", \"confianza\", \"confianza\", \"confianza\", \"confianza\", \"confianza\", \"confiar\", \"consideraciones\", \"consideraciones\", \"consideraciones\", \"considerando\", \"considerarse\", \"consistentes\", \"constantes\", \"constituyen\", \"construcci\\u00f3n\", \"construcci\\u00f3n\", \"construcci\\u00f3n\", \"construcci\\u00f3n\", \"construcci\\u00f3n\", \"construcci\\u00f3n\", \"construcci\\u00f3n\", \"construcci\\u00f3n\", \"construcci\\u00f3n\", \"construcci\\u00f3n\", \"consumo\", \"consumo\", \"consumo\", \"consumo\", \"consumo\", \"consumo\", \"consumo\", \"consumo\", \"consumo\", \"consumo\", \"consumo_hogares\", \"consumo_hogares\", \"consumo_hogares\", \"consumo_hogares\", \"contaban\", \"contracci\\u00f3n\", \"contracci\\u00f3n\", \"contracci\\u00f3n\", \"contracci\\u00f3n\", \"contracci\\u00f3n\", \"contracci\\u00f3n\", \"contracci\\u00f3n\", \"contracci\\u00f3n\", \"contracci\\u00f3n\", \"contracci\\u00f3n\", \"convenciones_colectivas\", \"conveniente\", \"convergencia\", \"correlaci\\u00f3n\", \"corrido\", \"corrido\", \"corrido\", \"corrido\", \"corrido\", \"corrido\", \"corrido\", \"corrido\", \"corrido\", \"corrido\", \"corriente\", \"corriente\", \"corrigieron\", \"corto_plazo\", \"corto_plazo\", \"corto_plazo\", \"corto_plazo\", \"corto_plazo\", \"corto_plazo\", \"corto_plazo\", \"corto_plazo\", \"corto_plazo\", \"corto_plazo\", \"costo_laboral_unitario\", \"costos\", \"costos\", \"costos\", \"costos\", \"costos\", \"costos\", \"costos\", \"costos\", \"costos\", \"costos\", \"crecer\\u00eda\", \"crecer\\u00edan\", \"crecieron\", \"crecieron\", \"crecieron\", \"crecieron\", \"crecieron\", \"crecieron\", \"crecimiento\", \"crecimiento\", \"crecimiento\", \"crecimiento\", \"crecimiento\", \"crecimiento\", \"crecimiento\", \"crecimiento\", \"crecimiento\", \"crecimiento\", \"crecimiento_econ\\u00f3mico\", \"crecimiento_econ\\u00f3mico\", \"crecimiento_econ\\u00f3mico\", \"crecimiento_econ\\u00f3mico\", \"crecimiento_econ\\u00f3mico\", \"crecimiento_econ\\u00f3mico\", \"crecimiento_econ\\u00f3mico\", \"crecimiento_econ\\u00f3mico\", \"crecimiento_econ\\u00f3mico\", \"crecimiento_econ\\u00f3mico\", \"creci\\u00f3\", \"creci\\u00f3\", \"creci\\u00f3\", \"creci\\u00f3\", \"creci\\u00f3\", \"creci\\u00f3\", \"creci\\u00f3\", \"creci\\u00f3\", \"crec\\u00edan\", \"credibilidad\", \"credibilidad\", \"crudo\", \"crudo\", \"crudo\", \"crudo\", \"crudo\", \"crudo\", \"crudos\", \"cr\\u00e9dito\", \"cr\\u00e9dito\", \"cr\\u00e9dito\", \"cr\\u00e9dito\", \"cr\\u00e9dito\", \"cr\\u00e9dito\", \"cr\\u00e9dito\", \"cr\\u00e9dito\", \"cr\\u00e9dito\", \"cr\\u00e9dito\", \"cr\\u00e9ditos\", \"cr\\u00e9ditos\", \"cuentas_ahorro\", \"cuentas_corrientes\", \"cuentas_corrientes\", \"cuero\", \"cuero\", \"cumplimiento_meta\", \"cumplimiento_meta\", \"cumplimiento_meta\", \"cumplimiento_meta\", \"cumplimiento_meta\", \"cumplimiento_meta\", \"cumplimiento_meta\", \"cumplimiento_meta\", \"cumplir_meta\", \"curva_rendimientos\", \"curva_rendimientos\", \"c\\u00edclicos\", \"dane\", \"dane\", \"dane\", \"dane\", \"dane\", \"dane\", \"dane\", \"dane\", \"dane\", \"dane\", \"deber\\u00e1\", \"deber\\u00e1\", \"deber\\u00e1\", \"debilitamiento\", \"debilitamiento\", \"debilitamiento\", \"debilitamiento\", \"debilitamiento\", \"debilitamiento\", \"decrecientes\", \"demanda\", \"demanda\", \"demanda\", \"demanda\", \"demanda\", \"demanda\", \"demanda\", \"demanda\", \"demanda\", \"demanda\", \"demanda_externa\", \"demanda_externa\", \"demanda_externa\", \"demanda_externa\", \"demanda_interna\", \"demanda_interna\", \"demanda_interna\", \"demanda_interna\", \"demanda_interna\", \"demanda_interna\", \"demanda_interna\", \"demanda_interna\", \"demanda_interna\", \"demanda_interna\", \"denominadas\", \"departamento\", \"dependen\", \"depreciaci\\u00f3n\", \"depreciaci\\u00f3n\", \"depreciaci\\u00f3n\", \"depreciaci\\u00f3n\", \"depreciaci\\u00f3n\", \"depreciaci\\u00f3n\", \"depreciaci\\u00f3n\", \"depreciaci\\u00f3n\", \"depreciaci\\u00f3n\", \"depreciaci\\u00f3n\", \"desaceleraci\\u00f3n\", \"desaceleraci\\u00f3n\", \"desaceleraci\\u00f3n\", \"desaceleraci\\u00f3n\", \"desaceleraci\\u00f3n\", \"desaceleraci\\u00f3n\", \"desaceleraci\\u00f3n\", \"desaceleraci\\u00f3n\", \"desaceleraci\\u00f3n\", \"desaceleraci\\u00f3n\", \"desacumulaci\\u00f3n\", \"desbalances\", \"desempe\\u00f1o\", \"desempe\\u00f1o\", \"desempe\\u00f1o\", \"desempe\\u00f1o\", \"desempe\\u00f1o\", \"desempe\\u00f1o\", \"desempe\\u00f1o\", \"desempe\\u00f1o\", \"desempe\\u00f1o\", \"desempe\\u00f1o\", \"desempe\\u00f1o_econ\\u00f3mico\", \"desempe\\u00f1o_econ\\u00f3mico\", \"desequilibrios\", \"desfavorable\", \"destinos\", \"determinantes\", \"determinantes\", \"devaluaciones\", \"devaluaci\\u00f3n\", \"devaluaci\\u00f3n\", \"devaluaci\\u00f3n\", \"devaluaci\\u00f3n\", \"devaluaci\\u00f3n\", \"devaluaci\\u00f3n\", \"devaluaci\\u00f3n\", \"devaluaci\\u00f3n\", \"devaluaci\\u00f3n\", \"devaluaci\\u00f3n\", \"diferencial\", \"diferencial\", \"diferencial\", \"diferencias\", \"dinamismo\", \"dinamismo\", \"dinamismo\", \"dinamismo\", \"dinamismo\", \"dinamismo\", \"dinamismo\", \"dinamismo\", \"dinamismo\", \"dinamismo\", \"directa\", \"directa\", \"directa\", \"dirigida\", \"dirigidas\", \"dirigidas\", \"dirigidas\", \"discrecional\", \"discrecional\", \"disminuci\\u00f3n\", \"disminuci\\u00f3n\", \"disminuci\\u00f3n\", \"disminuci\\u00f3n\", \"disminuci\\u00f3n\", \"disminuci\\u00f3n\", \"disminuci\\u00f3n\", \"disminuci\\u00f3n\", \"disminuci\\u00f3n\", \"disminuci\\u00f3n\", \"disponibilidad_cr\\u00e9dito\", \"disponibilidad_cr\\u00e9dito\", \"distribuci\\u00f3n\", \"distribuci\\u00f3n\", \"divisas\", \"divisas\", \"divisas\", \"divisas\", \"dtf\", \"dtf\", \"dtf\", \"dtf\", \"durable\", \"durables\", \"durables\", \"d\\u00e9ficit\", \"d\\u00e9ficit\", \"d\\u00f3lar\", \"d\\u00f3lar\", \"d\\u00f3lar\", \"d\\u00f3lar\", \"d\\u00f3lar\", \"d\\u00f3lar\", \"d\\u00f3lar\", \"d\\u00f3lar\", \"d\\u00f3lar\", \"d\\u00f3lar\", \"d\\u00f3lares\", \"d\\u00f3lares\", \"d\\u00f3lares\", \"d\\u00f3lares\", \"d\\u00f3lares\", \"d\\u00f3lares\", \"d\\u00f3lares\", \"d\\u00f3lares\", \"d\\u00f3lares\", \"econom\\u00eda\", \"econom\\u00eda\", \"econom\\u00eda\", \"econom\\u00eda\", \"econom\\u00eda\", \"econom\\u00eda\", \"econom\\u00eda\", \"econom\\u00eda\", \"econom\\u00eda\", \"econom\\u00eda\", \"econom\\u00eda_estados_unidos\", \"econom\\u00eda_estados_unidos\", \"econom\\u00eda_estados_unidos\", \"econom\\u00eda_mundial\", \"econom\\u00eda_mundial\", \"econom\\u00eda_mundial\", \"econom\\u00eda_mundial\", \"econom\\u00eda_mundial\", \"econom\\u00eda_norteamericana\", \"econom\\u00eda_norteamericana\", \"econom\\u00eda_norteamericana\", \"econom\\u00edas\", \"econom\\u00edas\", \"econom\\u00edas\", \"econom\\u00edas\", \"econom\\u00edas\", \"econom\\u00edas\", \"econom\\u00edas\", \"econom\\u00edas_desarrolladas\", \"econom\\u00edas_desarrolladas\", \"econom\\u00edas_desarrolladas\", \"econom\\u00edas_emergentes\", \"econom\\u00edas_emergentes\", \"edificaciones\", \"edificaciones\", \"educaci\\u00f3n\", \"educaci\\u00f3n\", \"efectivo\", \"efectivo\", \"efectivo\", \"efectivo\", \"efectivo\", \"efectivo\", \"efectivo\", \"efecto\", \"efecto\", \"efecto\", \"efecto\", \"efecto\", \"efecto\", \"efecto\", \"efecto\", \"efecto\", \"efecto\", \"efect\\u00faa\", \"efect\\u00faa\", \"ejercicios\", \"embi\", \"emergentes\", \"emergentes\", \"emergentes\", \"emergentes\", \"emisi\\u00f3n\", \"emisor\", \"empresariales\", \"empresas_exportadoras\", \"encuesta\", \"encuesta\", \"encuesta\", \"encuesta\", \"encuesta_expectativas_banco_rep\\u00fablica\", \"encuesta_realizada\", \"encuestados\", \"encuestados\", \"encuestas\", \"encuestas\", \"encuestas\", \"encuestas\", \"entorno\", \"entradas\", \"eoe\", \"eoe\", \"equipo_transporte\", \"equivalentes\", \"error\", \"escenario\", \"escenario\", \"escenario\", \"escenario\", \"escenario\", \"escenario_b\\u00e1sico\", \"escenario_central\", \"escenario_central\", \"escenarios\", \"escenarios\", \"escenarios\", \"especialmente\", \"especialmente\", \"especialmente\", \"especialmente\", \"especialmente\", \"especialmente\", \"especialmente\", \"especialmente\", \"especialmente\", \"especialmente\", \"espera\", \"espera\", \"espera\", \"espera\", \"espera\", \"espera\", \"espera\", \"espera\", \"espera\", \"espera\", \"esperaban\", \"esperaban\", \"esperaban\", \"esperaban\", \"esperado\", \"esperado\", \"esperado\", \"esperado\", \"esperado\", \"esperado\", \"esperado\", \"esperado\", \"esperado\", \"esperado\", \"esperan\", \"esperan\", \"esperan\", \"esperan\", \"esperan\", \"esperan\", \"esperan\", \"esperan\", \"esperan\", \"esperan\", \"estados_unidos\", \"estados_unidos\", \"estados_unidos\", \"estados_unidos\", \"estados_unidos\", \"estados_unidos\", \"estados_unidos\", \"estados_unidos\", \"estados_unidos\", \"estados_unidos\", \"estad\\u00edstica\", \"estad\\u00edstica\", \"estad\\u00edstica\", \"estancamiento\", \"estancamiento\", \"estimaci\\u00f3n\", \"estimaci\\u00f3n\", \"estimaci\\u00f3n\", \"estimaci\\u00f3n\", \"estimaci\\u00f3n\", \"estimaci\\u00f3n\", \"estimaci\\u00f3n\", \"estimaci\\u00f3n\", \"estimaci\\u00f3n\", \"estimaci\\u00f3n\", \"estrecho\", \"evalu\\u00f3\", \"evoluci\\u00f3n\", \"evoluci\\u00f3n\", \"evoluci\\u00f3n\", \"evoluci\\u00f3n\", \"evoluci\\u00f3n\", \"evoluci\\u00f3n\", \"evoluci\\u00f3n\", \"evoluci\\u00f3n\", \"evoluci\\u00f3n\", \"evoluci\\u00f3n\", \"excesiva\", \"excluidos\", \"expansi\\u00f3n\", \"expansi\\u00f3n\", \"expansi\\u00f3n\", \"expansi\\u00f3n\", \"expansi\\u00f3n\", \"expansi\\u00f3n\", \"expansi\\u00f3n\", \"expansi\\u00f3n\", \"expansi\\u00f3n\", \"expansi\\u00f3n\", \"expectativas\", \"expectativas\", \"expectativas\", \"expectativas\", \"expectativas\", \"expectativas\", \"expectativas\", \"expectativas\", \"expectativas\", \"expectativas\", \"explica\", \"explica\", \"explica\", \"explica\", \"explica\", \"explica\", \"explica\", \"explica\", \"explica\", \"explica\", \"exportaciones\", \"exportaciones\", \"exportaciones\", \"exportaciones\", \"exportaciones\", \"exportaciones\", \"exportaciones\", \"exportaciones_colombianas\", \"exportaciones_totales\", \"exportaciones_tradicionales\", \"exportaciones_tradicionales\", \"exportaci\\u00f3n\", \"exportaci\\u00f3n\", \"exportado\", \"exportadores_petr\\u00f3leo\", \"externa\", \"externa\", \"externa\", \"externa\", \"externa\", \"externa\", \"externa\", \"externa\", \"externa\", \"externa\", \"externa_referencia\", \"extranjeros\", \"extranjeros\", \"extranjeros\", \"factores\", \"factores\", \"factores\", \"factores\", \"factores\", \"factores\", \"factores\", \"factores\", \"factores\", \"factores\", \"fan\", \"favorables\", \"favorables\", \"favorables\", \"favorables\", \"favorables\", \"favorables\", \"favorables\", \"favorables\", \"favorables\", \"favoreciendo\", \"fed\", \"fed\", \"fed\", \"fed\", \"fed\", \"fed\", \"fed\", \"fed\", \"fed\", \"fed\", \"fedesarrollo\", \"fedesarrollo\", \"fedesarrollo\", \"fen\\u00f3menos\", \"fija\", \"fija\", \"fija\", \"fiscal\", \"fiscal\", \"fiscal\", \"fiscales\", \"fiscales\", \"fiscales\", \"fiscales\", \"flexibilizaci\\u00f3n\", \"flexibles\", \"flujos_capital\", \"flujos_capital\", \"flujos_capitales\", \"formaci\\u00f3n\", \"formaci\\u00f3n_bruta\", \"formaci\\u00f3n_bruta\", \"fortaleza\", \"frecuencia\", \"funcionamiento\", \"funci\\u00f3n\", \"funci\\u00f3n\", \"fundamental\", \"generales\", \"gobierno\", \"gobierno\", \"gobierno\", \"gobierno\", \"gobierno\", \"gobierno\", \"gobierno\", \"gobierno\", \"gobierno\", \"gobierno\", \"goldman\", \"graduales\", \"grano\", \"grueso\", \"grupo\", \"grupo\", \"grupo\", \"grupo\", \"grupo\", \"grupo\", \"grupo\", \"grupo\", \"grupo\", \"grupo\", \"grupos\", \"grupos\", \"grupos\", \"grupos\", \"grupos\", \"grupos\", \"har\\u00eda\", \"historia\", \"hora\", \"horizonte\", \"horizonte\", \"h\\u00e1biles\", \"h\\u00e1biles\", \"h\\u00e1biles\", \"h\\u00e1biles\", \"h\\u00e1biles\", \"icm\", \"importaciones\", \"importaciones\", \"importaciones\", \"importaciones\", \"importaciones\", \"importaciones\", \"importaciones_bienes\", \"importaciones_bienes_capital\", \"importante\", \"importante\", \"importante\", \"importante\", \"importante\", \"importante\", \"importante\", \"importante\", \"importante\", \"importante\", \"impulsando\", \"incertidumbre\", \"incertidumbre\", \"incertidumbre\", \"incertidumbre\", \"incertidumbre\", \"incertidumbre\", \"incertidumbre\", \"incertidumbre\", \"incertidumbre\", \"incertidumbre\", \"incierta\", \"incluir\", \"incrementa\", \"incrementarse\", \"incrementarse\", \"incremento\", \"incremento\", \"incremento\", \"incremento\", \"incremento\", \"incremento\", \"incremento\", \"incremento\", \"incremento\", \"incremento\", \"incremento_salarial\", \"incrementos\", \"incrementos\", \"incrementos\", \"incrementos\", \"incrementos\", \"incrementos\", \"incrementos\", \"incrementos\", \"incrementos\", \"incrementos\", \"incrementos_salariales\", \"indexados\", \"india\", \"indicaba\", \"indicador\", \"indicador\", \"indicador\", \"indicador\", \"indicador\", \"indicador\", \"indicador\", \"indicador\", \"indicador\", \"indicador\", \"indicadores\", \"indicadores\", \"indicadores\", \"indicadores\", \"indicadores\", \"indicadores\", \"indicadores\", \"indicadores\", \"indicadores\", \"indicadores\", \"indicar\\u00eda\", \"indicio\", \"indispensable\", \"industria\", \"industria\", \"industria\", \"industria\", \"industria\", \"industria\", \"industria\", \"industria\", \"industria\", \"industria\", \"industrial\", \"industrial\", \"industrial\", \"industrial\", \"industrial\", \"industrial\", \"industrial\", \"industrial\", \"industrializadas\", \"inercia\", \"inercia\", \"inesperado\", \"inferior\", \"inferior\", \"inferior\", \"inferior\", \"inferior\", \"inferior\", \"inferior\", \"inferior\", \"inferior\", \"inferior\", \"inflacionarios\", \"inflaci\\u00f3n\", \"inflaci\\u00f3n\", \"inflaci\\u00f3n\", \"inflaci\\u00f3n\", \"inflaci\\u00f3n\", \"inflaci\\u00f3n\", \"inflaci\\u00f3n\", \"inflaci\\u00f3n\", \"inflaci\\u00f3n\", \"inflaci\\u00f3n\", \"inflaci\\u00f3n_alimentos\", \"inflaci\\u00f3n_alimentos\", \"inflaci\\u00f3n_alimentos\", \"inflaci\\u00f3n_alimentos\", \"inflaci\\u00f3n_alimentos\", \"inflaci\\u00f3n_alimentos\", \"inflaci\\u00f3n_alimentos\", \"inflaci\\u00f3n_alimentos\", \"inflaci\\u00f3n_alimentos\", \"inflaci\\u00f3n_alimentos\", \"inflaci\\u00f3n_b\\u00e1sica\", \"inflaci\\u00f3n_b\\u00e1sica\", \"inflaci\\u00f3n_b\\u00e1sica\", \"inflaci\\u00f3n_b\\u00e1sica\", \"inflaci\\u00f3n_b\\u00e1sica\", \"inflaci\\u00f3n_b\\u00e1sica\", \"inflaci\\u00f3n_b\\u00e1sica\", \"inflaci\\u00f3n_b\\u00e1sica\", \"inflaci\\u00f3n_b\\u00e1sica\", \"inflaci\\u00f3n_b\\u00e1sica\", \"inflaci\\u00f3n_consumidor\", \"inflaci\\u00f3n_consumidor\", \"inflaci\\u00f3n_consumidor\", \"inflaci\\u00f3n_consumidor\", \"inflaci\\u00f3n_consumidor\", \"inflaci\\u00f3n_transables\", \"informaci\\u00f3n\", \"informaci\\u00f3n\", \"informaci\\u00f3n\", \"informaci\\u00f3n\", \"informaci\\u00f3n\", \"informaci\\u00f3n\", \"informaci\\u00f3n\", \"informaci\\u00f3n\", \"informaci\\u00f3n\", \"informaci\\u00f3n\", \"ingreso_disponible\", \"ingreso_disponible\", \"intereses\", \"intermediate\", \"interna\", \"interna\", \"interna\", \"interna\", \"interna\", \"interna\", \"interno\", \"interno\", \"interno\", \"interno\", \"interno\", \"interno\", \"interno\", \"interno\", \"interno\", \"interno\", \"intervalo\", \"intervenci\\u00f3n\", \"intervenci\\u00f3n\", \"intervenci\\u00f3n\", \"intervenir\", \"inventarios\", \"inventarios\", \"inventarios\", \"inventarios\", \"inventarios\", \"inventarios\", \"inventarios\", \"inventarios\", \"inventarios\", \"inversiones\", \"inversiones\", \"inversiones\", \"inversiones\", \"inversi\\u00f3n\", \"inversi\\u00f3n\", \"inversi\\u00f3n\", \"inversi\\u00f3n\", \"inversi\\u00f3n\", \"inversi\\u00f3n\", \"inversi\\u00f3n\", \"inversi\\u00f3n\", \"inversi\\u00f3n\", \"inversi\\u00f3n\", \"inversi\\u00f3n_extranjera\", \"ipc\", \"ipc\", \"ipc\", \"ipc\", \"ipc\", \"ipc\", \"ipc\", \"ipc\", \"ipc\", \"ipc\", \"ipc_alimentos\", \"ipc_alimentos\", \"irregular\", \"items\", \"iva\", \"iva\", \"iva\", \"iva\", \"iva\", \"iva\", \"jdbr\", \"jdbr\", \"jdbr\", \"jdbr\", \"jdbr\", \"jdbr\", \"jdbr\", \"jdbr\", \"jdbr\", \"jdbr_decidi\\u00f3_mantener\", \"largo_plazo\", \"largo_plazo\", \"largo_plazo\", \"largo_plazo\", \"largo_plazo\", \"largo_plazo\", \"largo_plazo\", \"largo_plazo\", \"largo_plazo\", \"largo_plazo\", \"latinoamericanas\", \"legumbres\", \"liquidez\", \"liquidez\", \"liquidez\", \"liquidez\", \"liquidez\", \"liquidez\", \"liquidez\", \"liquidez\", \"liquidez\", \"liquidez\", \"local\", \"locales_extranjeros\", \"lombarda_contracci\\u00f3n\", \"lombarda_contracci\\u00f3n\", \"lombarda_expansi\\u00f3n\", \"lombarda_expansi\\u00f3n\", \"magnitudes\", \"mantuviera\", \"mantuvo\", \"mantuvo\", \"mantuvo\", \"mantuvo\", \"mantuvo\", \"mantuvo\", \"mantuvo\", \"mantuvo\", \"mantuvo\", \"mantuvo\", \"maquinaria_equipo\", \"maquinaria_equipo\", \"maquinaria_equipo\", \"marginal\", \"mayores\", \"mayores\", \"mayores\", \"mayores\", \"mayores\", \"mayores\", \"mayores\", \"mayores\", \"mayores\", \"mayores\", \"mecanismos\", \"mediano\", \"mediano_largo\", \"medicinas\", \"mediciones\", \"medida\", \"medida\", \"medida\", \"medida\", \"medida\", \"medida\", \"medida\", \"medida\", \"medida\", \"medida\", \"mejoraron\", \"mejores_condiciones\", \"mencionadas\", \"menor\", \"menor\", \"menor\", \"menor\", \"menor\", \"menor\", \"menor\", \"menor\", \"menor\", \"menor\", \"mercado\", \"mercado\", \"mercado\", \"mercado\", \"mercado\", \"mercado\", \"mercado\", \"mercado\", \"mercado\", \"mercado\", \"mercado_cambiario\", \"mercado_cambiario\", \"mercado_cambiario\", \"mercado_cambiario\", \"mercados\", \"mercados\", \"mercados\", \"mercados\", \"mercados\", \"mercados\", \"mercados\", \"mercados\", \"mercados\", \"mercados\", \"meta\", \"meta\", \"meta\", \"meta\", \"meta\", \"meta\", \"meta\", \"meta\", \"meta\", \"meta\", \"minas\", \"mmm\", \"mmt\", \"mmt\", \"mmt\", \"modelo\", \"modelo\", \"modelo\", \"modelo\", \"modelo\", \"modelo\", \"modelo_mecanismos\", \"modelo_mecanismos\", \"modelos\", \"modelos\", \"modelos\", \"modelos\", \"moderadas\", \"moderados\", \"moneda_extranjera\", \"moneda_extranjera\", \"monedas\", \"monedas\", \"monedas\", \"morgan\", \"muestra\", \"muestra\", \"muestra\", \"muestra\", \"muestra\", \"muestra\", \"muestra\", \"muestra\", \"muestra\", \"muestra\", \"multiplicador\", \"mundial\", \"mundial\", \"mundial\", \"mundial\", \"mundial\", \"m\\u00ednima\", \"nacional\", \"nacional\", \"nacional\", \"nacional\", \"nacional\", \"nacional\", \"nacional\", \"nacional\", \"nacional\", \"nacional\", \"negociaciones\", \"neto\", \"neto\", \"neutral\", \"nivel\", \"nivel\", \"nivel\", \"nivel\", \"nivel\", \"nivel\", \"nivel\", \"nivel\", \"nivel\", \"nivel\", \"niveles\", \"niveles\", \"niveles\", \"niveles\", \"niveles\", \"niveles\", \"niveles\", \"niveles\", \"niveles\", \"niveles\", \"nominal\", \"nominal\", \"nominal\", \"nominal\", \"nominal\", \"nominal\", \"nominal\", \"nominal\", \"nominal\", \"nominal\", \"nominales\", \"nominales\", \"nominales\", \"nominales\", \"nominales\", \"nominales\", \"nominales\", \"n\\u00edquel\", \"n\\u00facleo\", \"n\\u00facleo_inflacionario\", \"n\\u00famero\", \"n\\u00famero\", \"n\\u00famero\", \"n\\u00famero\", \"n\\u00famero\", \"n\\u00famero\", \"n\\u00famero\", \"n\\u00famero\", \"n\\u00famero\", \"n\\u00famero\", \"obedecer\\u00eda\", \"objetivos\", \"obras\", \"obras_civiles\", \"obras_civiles\", \"observada\", \"observada\", \"observada\", \"observada\", \"observada\", \"observada\", \"observada\", \"observada\", \"observada\", \"observada\", \"observado\", \"observado\", \"observado\", \"observado\", \"observado\", \"observado\", \"observado\", \"observado\", \"observado\", \"observado\", \"obtenidos\", \"ocurre\", \"ocurri\\u00f3\", \"of\", \"oferta\", \"oferta\", \"oferta\", \"oferta\", \"oferta\", \"oferta\", \"oferta\", \"oferta\", \"oferta\", \"oferta\", \"opep\", \"optimista\", \"ordinaria\", \"organizaci\\u00f3n\", \"organizaci\\u00f3n\", \"oro\", \"oro\", \"pactado\", \"pactados\", \"pactos\", \"pagadas\", \"palabras\", \"papa\", \"papa\", \"pasaron\", \"pasaron\", \"pasivas\", \"pas\\u00f3\", \"pas\\u00f3\", \"pas\\u00f3\", \"pas\\u00f3\", \"pas\\u00f3\", \"pas\\u00f3\", \"pas\\u00f3\", \"pas\\u00f3\", \"pas\\u00f3\", \"pas\\u00f3\", \"pena\", \"pensaba\", \"percibe\", \"perecederos\", \"permanecer\", \"permitan\", \"perspectivas_crecimiento\", \"pesimista\", \"peso\", \"peso\", \"peso\", \"peso\", \"peso\", \"peso\", \"peso\", \"peso\", \"peso\", \"peso\", \"petroleros\", \"petr\\u00f3leo\", \"petr\\u00f3leo\", \"petr\\u00f3leo\", \"petr\\u00f3leo\", \"petr\\u00f3leo\", \"petr\\u00f3leo\", \"petr\\u00f3leo\", \"petr\\u00f3leo\", \"petr\\u00f3leo\", \"petr\\u00f3leo\", \"phillips\", \"pib\", \"pib\", \"pib\", \"pib\", \"pib\", \"pib\", \"pib\", \"pib\", \"pib\", \"pib\", \"pib_potencial\", \"pib_potencial\", \"piso\", \"planeaci\\u00f3n\", \"plazos\", \"plazos\", \"plazos\", \"pol\\u00edtica_monetaria\", \"pol\\u00edtica_monetaria\", \"pol\\u00edtica_monetaria\", \"pol\\u00edtica_monetaria\", \"pol\\u00edtica_monetaria\", \"pol\\u00edtica_monetaria\", \"pol\\u00edtica_monetaria\", \"pol\\u00edtica_monetaria\", \"pol\\u00edtica_monetaria\", \"pol\\u00edtica_monetaria\", \"pol\\u00edticos\", \"porcentaje\", \"porcentaje\", \"porcentaje\", \"porcentaje\", \"porcentaje\", \"porcentaje\", \"porcentaje\", \"porcentaje\", \"porcentaje_trabajadores_beneficiados\", \"posibles\", \"posibles\", \"posibles\", \"posibles\", \"posibles\", \"posibles\", \"posibles\", \"posibles\", \"posibles\", \"posibles\", \"posici\\u00f3n\", \"posici\\u00f3n\", \"posici\\u00f3n\", \"positivamente\", \"post\", \"post\", \"posteriormente\", \"postura\", \"postura\", \"postura_pol\\u00edtica_monetaria\", \"precio\", \"precio\", \"precio\", \"precio\", \"precio\", \"precio\", \"precio\", \"precio\", \"precio\", \"precio\", \"precio_crudo\", \"precio_crudo\", \"precio_crudo\", \"precio_crudo\", \"precio_petr\\u00f3leo\", \"precio_petr\\u00f3leo\", \"precio_petr\\u00f3leo\", \"precio_petr\\u00f3leo\", \"precio_petr\\u00f3leo\", \"precio_petr\\u00f3leo\", \"precio_petr\\u00f3leo\", \"precio_petr\\u00f3leo\", \"precios\", \"precios\", \"precios\", \"precios\", \"precios\", \"precios\", \"precios\", \"precios\", \"precios\", \"precios\", \"precios_petr\\u00f3leo\", \"precios_petr\\u00f3leo\", \"precios_petr\\u00f3leo\", \"precios_petr\\u00f3leo\", \"precios_petr\\u00f3leo\", \"precios_petr\\u00f3leo\", \"precios_petr\\u00f3leo\", \"precios_petr\\u00f3leo\", \"predicci\\u00f3n\", \"preferencia\", \"preferencial\", \"pregunta\", \"prendas\", \"presencia\", \"presencia\", \"presentado\", \"presentado\", \"presentado\", \"presentado\", \"presentado\", \"presentado\", \"presentado\", \"presentado\", \"presentado\", \"presentado\", \"presiones\", \"presiones\", \"presiones\", \"presiones\", \"presiones\", \"presiones\", \"presiones\", \"presiones\", \"presiones\", \"presiones\", \"presiones_inflacionarias\", \"presiones_inflacionarias\", \"presiones_inflacionarias\", \"presiones_inflacionarias\", \"presiones_inflacionarias\", \"presiones_inflacionarias\", \"presiones_inflacionarias\", \"presiones_inflacionarias\", \"presiones_inflacionarias\", \"presiones_inflacionarias\", \"prestaciones\", \"preve\\u00eda\", \"previos\", \"prevista\", \"prevista\", \"prevista\", \"prevista\", \"prevista\", \"prevista\", \"prevista\", \"prevista\", \"prevista\", \"prevista\", \"primaria\", \"primarios_combustibles\", \"primas_riesgo\", \"primas_riesgo\", \"principales\", \"principales\", \"principales\", \"principales\", \"principales\", \"principales\", \"principales\", \"principales\", \"principales\", \"principales\", \"probabilidad\", \"probabilidad\", \"probabilidad\", \"probabilidad\", \"probabilidad\", \"probabilidad_cumplir_meta\", \"probabilidades\", \"producci\\u00f3n\", \"producci\\u00f3n\", \"producci\\u00f3n\", \"producci\\u00f3n\", \"producci\\u00f3n\", \"producci\\u00f3n\", \"producci\\u00f3n\", \"producci\\u00f3n\", \"producci\\u00f3n\", \"producci\\u00f3n\", \"producci\\u00f3n_industrial\", \"producci\\u00f3n_industrial\", \"producci\\u00f3n_industrial\", \"producci\\u00f3n_industrial\", \"producci\\u00f3n_industrial\", \"producci\\u00f3n_industrial\", \"producidos\", \"producidos\", \"productividad\", \"productividad\", \"productividad\", \"productividad\", \"productividad\", \"productividad\", \"productividad\", \"productividad\", \"productividad\", \"productividad\", \"productivos\", \"producto\", \"producto\", \"producto\", \"producto\", \"producto\", \"producto\", \"producto\", \"producto\", \"producto\", \"producto\", \"productor\", \"productores\", \"productores\", \"productores\", \"productos\", \"productos\", \"productos\", \"productos\", \"productos\", \"productos\", \"productos\", \"productos\", \"productos\", \"productos\", \"programas\", \"prolongado\", \"promedio\", \"promedio\", \"promedio\", \"promedio\", \"promedio\", \"promedio\", \"promedio\", \"promedio\", \"promedio\", \"promedio\", \"pronosticado\", \"pron\\u00f3stico\", \"pron\\u00f3stico\", \"pron\\u00f3stico\", \"pron\\u00f3stico\", \"pron\\u00f3stico\", \"pron\\u00f3stico\", \"pron\\u00f3stico\", \"pron\\u00f3stico\", \"pron\\u00f3stico\", \"pron\\u00f3stico\", \"pron\\u00f3sticos\", \"pron\\u00f3sticos\", \"pron\\u00f3sticos\", \"pron\\u00f3sticos\", \"pron\\u00f3sticos\", \"pron\\u00f3sticos\", \"pron\\u00f3sticos\", \"pron\\u00f3sticos\", \"pron\\u00f3sticos\", \"pron\\u00f3sticos\", \"protecci\\u00f3n\", \"provino\", \"proyecciones\", \"proyecciones\", \"proyecciones\", \"proyecciones\", \"proyecciones\", \"proyecciones\", \"proyecciones\", \"proyecciones\", \"proyecciones\", \"proyecciones\", \"pse\", \"pse\", \"puesto\", \"puesto\", \"puntos_porcentuales\", \"puntos_porcentuales\", \"puntos_porcentuales\", \"puntos_porcentuales\", \"puntos_porcentuales\", \"puntos_porcentuales\", \"puntos_porcentuales\", \"puntos_porcentuales\", \"puntos_porcentuales\", \"puntos_porcentuales\", \"put\", \"ramas\", \"ramas\", \"ramas\", \"ramas\", \"ramas\", \"rango\", \"rango\", \"rango\", \"rango\", \"rango\", \"rango_meta\", \"rango_meta\", \"rango_meta\", \"rango_meta\", \"reajustes\", \"reajustes\", \"reajustes\", \"reajustes\", \"reajustes\", \"reajustes\", \"real\", \"real\", \"real\", \"real\", \"real\", \"real\", \"real\", \"real\", \"real\", \"real\", \"reales\", \"reales\", \"reales\", \"reales\", \"reales\", \"reales\", \"reales\", \"reales\", \"reales\", \"reales\", \"recomposici\\u00f3n\", \"recordar\", \"recuento\", \"recuperaci\\u00f3n\", \"recuperaci\\u00f3n\", \"recuperaci\\u00f3n\", \"recuperaci\\u00f3n\", \"recuperaci\\u00f3n\", \"recuperaci\\u00f3n\", \"recuperaci\\u00f3n\", \"recuperaci\\u00f3n\", \"recuperaci\\u00f3n\", \"recuperaci\\u00f3n\", \"reducci\\u00f3n\", \"reducci\\u00f3n\", \"reducci\\u00f3n\", \"reducci\\u00f3n\", \"reducci\\u00f3n\", \"reducci\\u00f3n\", \"reducci\\u00f3n\", \"reducci\\u00f3n\", \"reducci\\u00f3n\", \"reducci\\u00f3n\", \"refiere\", \"reflejada\", \"regi\\u00f3n\", \"regi\\u00f3n\", \"regi\\u00f3n\", \"regi\\u00f3n\", \"regi\\u00f3n\", \"regi\\u00f3n\", \"regla\", \"regulados\", \"regular\", \"remesas\", \"rendimiento\", \"rentabilidad\", \"rentabilidad_externa\", \"rentabilidad_externa_esperada\", \"repos\", \"repunte\", \"repunte\", \"repunte\", \"repunte\", \"repunte\", \"repunte\", \"repunte\", \"repunte\", \"repunte\", \"repunte\", \"reservas_internacionales\", \"reservas_internacionales\", \"respectivamente\", \"respectivamente\", \"respectivamente\", \"respectivamente\", \"respectivamente\", \"respectivamente\", \"respectivamente\", \"respectivamente\", \"respectivamente\", \"respectivamente\", \"respuestas\", \"resultados\", \"resultados\", \"resultados\", \"resultados\", \"resultados\", \"resultados\", \"resultados\", \"resultados\", \"resultados\", \"resultados\", \"revertirse\", \"revisado\", \"revista\", \"rezagos\", \"rotaci\\u00f3n\", \"sachs\", \"sacos\", \"salarios\", \"salarios\", \"salarios\", \"salarios\", \"salarios\", \"salarios\", \"salarios\", \"salarios\", \"salarios\", \"salarios\", \"salarios_nominales\", \"salarios_reales\", \"sector\", \"sector\", \"sector\", \"sector\", \"sector\", \"sector\", \"sector\", \"sector\", \"sector\", \"sector\", \"sectores\", \"sectores\", \"sectores\", \"sectores\", \"sectores\", \"sectores\", \"sectores\", \"sectores\", \"sectores\", \"sectores\", \"sectores_transables\", \"secundario\", \"secundario\", \"segmento\", \"segmentos\", \"semana_santa\", \"semana_santa\", \"senda\", \"senda\", \"senda\", \"senda\", \"senda\", \"senda\", \"senda\", \"senda\", \"senda\", \"sensibilidad\", \"servicios\", \"servicios\", \"servicios\", \"servicios\", \"servicios\", \"servicios\", \"servicios\", \"servicios\", \"servicios\", \"servicios\", \"servicios_p\\u00fablicos\", \"servicios_p\\u00fablicos\", \"servicios_p\\u00fablicos\", \"sistema_financiero\", \"sistema_financiero\", \"sistema_financiero\", \"sistema_financiero\", \"sistema_financiero\", \"sistema_financiero\", \"sistema_financiero\", \"sistema_financiero\", \"sistema_financiero\", \"sistema_financiero\", \"situaci\\u00f3n\", \"situaci\\u00f3n\", \"situaci\\u00f3n\", \"situaci\\u00f3n\", \"situaci\\u00f3n\", \"situaci\\u00f3n\", \"situaci\\u00f3n\", \"situaci\\u00f3n\", \"situaci\\u00f3n\", \"situaci\\u00f3n\", \"sit\\u00faan\", \"sit\\u00faan\", \"sostenibilidad\", \"spot\", \"subasta\", \"subasta_expansi\\u00f3n\", \"subastas\", \"subastas\", \"subastas\", \"subgrupo\", \"subgrupo\", \"subgrupos\", \"subi\\u00f3\", \"subregi\\u00f3n\", \"sub\\u00edndice\", \"superando\", \"superior\", \"superior\", \"superior\", \"superior\", \"superior\", \"superior\", \"superior\", \"superior\", \"superior\", \"superior\", \"super\\u00e1vit\", \"supone\", \"supone\", \"supone\", \"supone\", \"supone\", \"supone\", \"supone\", \"supone\", \"supone\", \"supuestos\", \"supuestos\", \"supuestos\", \"supuestos\", \"s\\u00edntesis\", \"s\\u00f3lido\", \"tarifas\", \"tasa\", \"tasa\", \"tasa\", \"tasa\", \"tasa\", \"tasa\", \"tasa\", \"tasa\", \"tasa\", \"tasa\", \"tasa_cambio\", \"tasa_cambio\", \"tasa_cambio\", \"tasa_cambio\", \"tasa_cambio\", \"tasa_cambio\", \"tasa_cambio\", \"tasa_cambio\", \"tasa_cambio\", \"tasa_cambio\", \"tasa_crecimiento_saldo\", \"tasa_crecimiento_saldo\", \"tasa_crecimiento_saldo\", \"tasa_desempleo\", \"tasa_desempleo\", \"tasa_desempleo\", \"tasa_desempleo\", \"tasa_desempleo\", \"tasa_desempleo\", \"tasa_desempleo\", \"tasa_desempleo\", \"tasa_desempleo\", \"tasa_desempleo\", \"tasa_inter\\u00e9s\", \"tasa_inter\\u00e9s\", \"tasa_inter\\u00e9s\", \"tasa_inter\\u00e9s\", \"tasa_inter\\u00e9s\", \"tasa_inter\\u00e9s\", \"tasa_inter\\u00e9s\", \"tasa_inter\\u00e9s\", \"tasa_inter\\u00e9s\", \"tasa_inter\\u00e9s\", \"tasas\", \"tasas\", \"tasas\", \"tasas\", \"tasas\", \"tasas\", \"tasas\", \"tasas\", \"tasas\", \"tasas\", \"tasas_intervenci\\u00f3n\", \"tasas_intervenci\\u00f3n\", \"tasas_inter\\u00e9s\", \"tasas_inter\\u00e9s\", \"tasas_inter\\u00e9s\", \"tasas_inter\\u00e9s\", \"tasas_inter\\u00e9s\", \"tasas_inter\\u00e9s\", \"tasas_inter\\u00e9s\", \"tasas_inter\\u00e9s\", \"tasas_inter\\u00e9s\", \"tasas_inter\\u00e9s\", \"tendencia\", \"tendencia\", \"tendencia\", \"tendencia\", \"tendencia\", \"tendencia\", \"tendencia\", \"tendencia\", \"tendencia\", \"tendencia\", \"tendencial\", \"tender\\u00eda\", \"tendieron\", \"termina\", \"tes\", \"tes\", \"tes\", \"tesorer\\u00eda\", \"tesorer\\u00eda\", \"tesorer\\u00eda\", \"tesorer\\u00eda\", \"tesorer\\u00eda\", \"tesorer\\u00eda\", \"texas\", \"the\", \"tipo_cambio\", \"tipo_cambio\", \"tipo_cambio\", \"tipo_cambio\", \"tipo_cambio\", \"tipo_cambio\", \"tipo_cambio\", \"tipo_cambio\", \"tipo_cambio\", \"tipo_cambio\", \"trabajada\", \"trabajadas\", \"trabajadas\", \"trabajadas\", \"trabajador\", \"trabajador\", \"traducir\\u00eda\", \"transables\", \"transables\", \"transables\", \"transferencias\", \"transferencias\", \"transporte\", \"transporte\", \"transporte\", \"transporte\", \"transporte\", \"transporte\", \"transporte\", \"trm\", \"trm\", \"truncada\", \"t\\u00e9cnico\", \"t\\u00e9rminos_intercambio\", \"t\\u00e9rminos_intercambio\", \"t\\u00e9rminos_intercambio\", \"t\\u00e9rminos_reales\", \"t\\u00e9rminos_reales\", \"t\\u00e9rminos_reales\", \"t\\u00e9rminos_reales\", \"t\\u00e9rminos_reales\", \"t\\u00e9rminos_reales\", \"t\\u00e9rminos_reales\", \"t\\u00e9rminos_reales\", \"t\\u00e9rminos_reales\", \"t\\u00e9rminos_reales\", \"t\\u00edtulos\", \"t\\u00edtulos\", \"t\\u00edtulos\", \"ubic\\u00f3\", \"ubic\\u00f3\", \"ubic\\u00f3\", \"ubic\\u00f3\", \"ubic\\u00f3\", \"ubic\\u00f3\", \"ubic\\u00f3\", \"ubic\\u00f3\", \"ubic\\u00f3\", \"ubic\\u00f3\", \"uci\", \"uci\", \"uci\", \"vale\", \"variable\", \"variable\", \"variable\", \"variable\", \"variable\", \"variable\", \"variable\", \"variable\", \"variable\", \"variable\", \"variables\", \"variables\", \"variables\", \"variables\", \"variables\", \"variables\", \"variables\", \"variables\", \"variables\", \"variables\", \"variaci\\u00f3n\", \"variaci\\u00f3n\", \"variaci\\u00f3n\", \"variaci\\u00f3n\", \"variaci\\u00f3n\", \"variaci\\u00f3n\", \"variaci\\u00f3n\", \"variaci\\u00f3n\", \"variaci\\u00f3n\", \"variaci\\u00f3n\", \"venezolana\", \"ventanilla\", \"ventas\", \"ventas\", \"ventas\", \"ventas\", \"ventas\", \"ventas\", \"ventas\", \"ventas\", \"ventas\", \"ventas\", \"ven\\u00edan\", \"vestir\", \"vivienda\", \"vivienda\", \"vivienda\", \"vivienda\", \"vivienda\", \"vivienda\", \"vivienda\", \"vivienda\", \"vivienda\", \"vivienda\", \"volatilidad\", \"volatilidad\", \"volatilidad\", \"volatilidad\", \"volatilidad\", \"volatilidad\", \"volatilidad\", \"volatilidad\", \"volatilidad\", \"volatilidad\", \"volumen\", \"volumen\", \"volumen\", \"volumen\", \"vulnerable\", \"west\", \"wti\", \"zona_euro\", \"zona_euro\", \"zona_euro\", \"\\u00edndice\", \"\\u00edndice\", \"\\u00edndice\", \"\\u00edndice\", \"\\u00edndice\", \"\\u00edndice\", \"\\u00edndice\", \"\\u00edndice\", \"\\u00edndice\", \"\\u00edndice\"]}, \"R\": 30, \"lambda.step\": 0.01, \"plot.opts\": {\"xlab\": \"PC1\", \"ylab\": \"PC2\"}, \"topic.order\": [1, 2, 3, 4, 5, 6, 7, 8, 9, 10]};\n",
       "\n",
       "function LDAvis_load_lib(url, callback){\n",
       "  var s = document.createElement('script');\n",
       "  s.src = url;\n",
       "  s.async = true;\n",
       "  s.onreadystatechange = s.onload = callback;\n",
       "  s.onerror = function(){console.warn(\"failed to load library \" + url);};\n",
       "  document.getElementsByTagName(\"head\")[0].appendChild(s);\n",
       "}\n",
       "\n",
       "if(typeof(LDAvis) !== \"undefined\"){\n",
       "   // already loaded: just create the visualization\n",
       "   !function(LDAvis){\n",
       "       new LDAvis(\"#\" + \"ldavis_el120331131628786723593397920\", ldavis_el120331131628786723593397920_data);\n",
       "   }(LDAvis);\n",
       "}else if(typeof define === \"function\" && define.amd){\n",
       "   // require.js is available: use it to load d3/LDAvis\n",
       "   require.config({paths: {d3: \"https://cdnjs.cloudflare.com/ajax/libs/d3/3.5.5/d3.min\"}});\n",
       "   require([\"d3\"], function(d3){\n",
       "      window.d3 = d3;\n",
       "      LDAvis_load_lib(\"https://cdn.rawgit.com/bmabey/pyLDAvis/files/ldavis.v1.0.0.js\", function(){\n",
       "        new LDAvis(\"#\" + \"ldavis_el120331131628786723593397920\", ldavis_el120331131628786723593397920_data);\n",
       "      });\n",
       "    });\n",
       "}else{\n",
       "    // require.js not available: dynamically load d3 & LDAvis\n",
       "    LDAvis_load_lib(\"https://cdnjs.cloudflare.com/ajax/libs/d3/3.5.5/d3.min.js\", function(){\n",
       "         LDAvis_load_lib(\"https://cdn.rawgit.com/bmabey/pyLDAvis/files/ldavis.v1.0.0.js\", function(){\n",
       "                 new LDAvis(\"#\" + \"ldavis_el120331131628786723593397920\", ldavis_el120331131628786723593397920_data);\n",
       "            })\n",
       "         });\n",
       "}\n",
       "</script>"
      ],
      "text/plain": [
       "<IPython.core.display.HTML object>"
      ]
     },
     "execution_count": 16,
     "metadata": {},
     "output_type": "execute_result"
    }
   ],
   "source": [
    "pyLDAvis.display(vis)"
   ]
  },
  {
   "cell_type": "markdown",
   "metadata": {},
   "source": [
    "### Alternativa a PyLDAvis (opcional)\n",
    "\n",
    "Para entender diferencia entre tópicos también se puede usar un *heatmap*, en el que cada celda representa la \"distancia\" entre dos tópicos. \n",
    "\n",
    "Este, unido a las *Estadísticas de Modelo de tópicos* mencionadas abajo, provee la misma información que PyLDAvis."
   ]
  },
  {
   "cell_type": "code",
   "execution_count": 17,
   "metadata": {},
   "outputs": [
    {
     "data": {
      "application/vnd.plotly.v1+json": {
       "config": {
        "linkText": "Export to plot.ly",
        "plotlyServerURL": "https://plot.ly",
        "showLink": false
       },
       "data": [
        {
         "colorscale": "RdBu",
         "reversescale": false,
         "showscale": true,
         "type": "heatmap",
         "uid": "d7588020-f2c3-4180-9356-7708ba256a24",
         "x": [
          0,
          1,
          2,
          3,
          4,
          5,
          6,
          7,
          8,
          9
         ],
         "xgap": 1,
         "y": [
          0,
          1,
          2,
          3,
          4,
          5,
          6,
          7,
          8,
          9
         ],
         "ygap": 1,
         "z": [
          [
           0,
           0.9557987832964714,
           0.822573696840146,
           0.917526726488354,
           1,
           0.9249639557846692,
           0.8321939569963525,
           0.9428836418829822,
           0.9171454828420088,
           0.9010727389632893
          ],
          [
           0.9557987832964714,
           0,
           0.9421519343083015,
           0.9442108816612731,
           0.8775081795928407,
           0.9277050202971786,
           0.9796923551849894,
           0.8527910977697484,
           0.9424530639134319,
           0.8181132289359719
          ],
          [
           0.822573696840146,
           0.9421519343083015,
           0,
           0.9538570971650819,
           0.9228169898910784,
           0.9923174558384364,
           0.9315270231906616,
           0.9032765852237069,
           0.9287864808402267,
           0.9522232932396948
          ],
          [
           0.917526726488354,
           0.9442108816612731,
           0.9538570971650819,
           0,
           0.9169034061024076,
           0.9554149701726212,
           0.9558217172221203,
           0.9368049645335337,
           0.8926354165618314,
           0.9545830994024751
          ],
          [
           1,
           0.8775081795928407,
           0.9228169898910784,
           0.9169034061024076,
           0,
           0.9420726516877643,
           0.9965119512586466,
           0.8939688445970759,
           0.9596911290822981,
           0.9088453235914226
          ],
          [
           0.9249639557846692,
           0.9277050202971786,
           0.9923174558384364,
           0.9554149701726212,
           0.9420726516877643,
           0,
           0.9661686267551229,
           0.9428582738759121,
           0.9065174863681005,
           0.9353217552322513
          ],
          [
           0.8321939569963525,
           0.9796923551849894,
           0.9315270231906616,
           0.9558217172221203,
           0.9965119512586466,
           0.9661686267551229,
           0,
           0.9987631197507514,
           0.9634610693348474,
           0.894119476625809
          ],
          [
           0.9428836418829822,
           0.8527910977697484,
           0.9032765852237069,
           0.9368049645335337,
           0.8939688445970759,
           0.9428582738759121,
           0.9987631197507514,
           0,
           0.9318226185494299,
           0.9302436575876988
          ],
          [
           0.9171454828420088,
           0.9424530639134319,
           0.9287864808402267,
           0.8926354165618314,
           0.9596911290822981,
           0.9065174863681005,
           0.9634610693348474,
           0.9318226185494299,
           0,
           0.9842024377687252
          ],
          [
           0.9010727389632893,
           0.8181132289359719,
           0.9522232932396948,
           0.9545830994024751,
           0.9088453235914226,
           0.9353217552322513,
           0.894119476625809,
           0.9302436575876988,
           0.9842024377687252,
           0
          ]
         ]
        }
       ],
       "layout": {
        "annotations": [
         {
          "font": {
           "color": "#FFFFFF"
          },
          "showarrow": false,
          "text": "0.0",
          "x": 0,
          "xref": "x",
          "y": 0,
          "yref": "y"
         },
         {
          "font": {
           "color": "#000000"
          },
          "showarrow": false,
          "text": "0.96",
          "x": 1,
          "xref": "x",
          "y": 0,
          "yref": "y"
         },
         {
          "font": {
           "color": "#000000"
          },
          "showarrow": false,
          "text": "0.82",
          "x": 2,
          "xref": "x",
          "y": 0,
          "yref": "y"
         },
         {
          "font": {
           "color": "#000000"
          },
          "showarrow": false,
          "text": "0.92",
          "x": 3,
          "xref": "x",
          "y": 0,
          "yref": "y"
         },
         {
          "font": {
           "color": "#000000"
          },
          "showarrow": false,
          "text": "1.0",
          "x": 4,
          "xref": "x",
          "y": 0,
          "yref": "y"
         },
         {
          "font": {
           "color": "#000000"
          },
          "showarrow": false,
          "text": "0.92",
          "x": 5,
          "xref": "x",
          "y": 0,
          "yref": "y"
         },
         {
          "font": {
           "color": "#000000"
          },
          "showarrow": false,
          "text": "0.83",
          "x": 6,
          "xref": "x",
          "y": 0,
          "yref": "y"
         },
         {
          "font": {
           "color": "#000000"
          },
          "showarrow": false,
          "text": "0.94",
          "x": 7,
          "xref": "x",
          "y": 0,
          "yref": "y"
         },
         {
          "font": {
           "color": "#000000"
          },
          "showarrow": false,
          "text": "0.92",
          "x": 8,
          "xref": "x",
          "y": 0,
          "yref": "y"
         },
         {
          "font": {
           "color": "#000000"
          },
          "showarrow": false,
          "text": "0.9",
          "x": 9,
          "xref": "x",
          "y": 0,
          "yref": "y"
         },
         {
          "font": {
           "color": "#000000"
          },
          "showarrow": false,
          "text": "0.96",
          "x": 0,
          "xref": "x",
          "y": 1,
          "yref": "y"
         },
         {
          "font": {
           "color": "#FFFFFF"
          },
          "showarrow": false,
          "text": "0.0",
          "x": 1,
          "xref": "x",
          "y": 1,
          "yref": "y"
         },
         {
          "font": {
           "color": "#000000"
          },
          "showarrow": false,
          "text": "0.94",
          "x": 2,
          "xref": "x",
          "y": 1,
          "yref": "y"
         },
         {
          "font": {
           "color": "#000000"
          },
          "showarrow": false,
          "text": "0.94",
          "x": 3,
          "xref": "x",
          "y": 1,
          "yref": "y"
         },
         {
          "font": {
           "color": "#000000"
          },
          "showarrow": false,
          "text": "0.88",
          "x": 4,
          "xref": "x",
          "y": 1,
          "yref": "y"
         },
         {
          "font": {
           "color": "#000000"
          },
          "showarrow": false,
          "text": "0.93",
          "x": 5,
          "xref": "x",
          "y": 1,
          "yref": "y"
         },
         {
          "font": {
           "color": "#000000"
          },
          "showarrow": false,
          "text": "0.98",
          "x": 6,
          "xref": "x",
          "y": 1,
          "yref": "y"
         },
         {
          "font": {
           "color": "#000000"
          },
          "showarrow": false,
          "text": "0.85",
          "x": 7,
          "xref": "x",
          "y": 1,
          "yref": "y"
         },
         {
          "font": {
           "color": "#000000"
          },
          "showarrow": false,
          "text": "0.94",
          "x": 8,
          "xref": "x",
          "y": 1,
          "yref": "y"
         },
         {
          "font": {
           "color": "#000000"
          },
          "showarrow": false,
          "text": "0.82",
          "x": 9,
          "xref": "x",
          "y": 1,
          "yref": "y"
         },
         {
          "font": {
           "color": "#000000"
          },
          "showarrow": false,
          "text": "0.82",
          "x": 0,
          "xref": "x",
          "y": 2,
          "yref": "y"
         },
         {
          "font": {
           "color": "#000000"
          },
          "showarrow": false,
          "text": "0.94",
          "x": 1,
          "xref": "x",
          "y": 2,
          "yref": "y"
         },
         {
          "font": {
           "color": "#FFFFFF"
          },
          "showarrow": false,
          "text": "0.0",
          "x": 2,
          "xref": "x",
          "y": 2,
          "yref": "y"
         },
         {
          "font": {
           "color": "#000000"
          },
          "showarrow": false,
          "text": "0.95",
          "x": 3,
          "xref": "x",
          "y": 2,
          "yref": "y"
         },
         {
          "font": {
           "color": "#000000"
          },
          "showarrow": false,
          "text": "0.92",
          "x": 4,
          "xref": "x",
          "y": 2,
          "yref": "y"
         },
         {
          "font": {
           "color": "#000000"
          },
          "showarrow": false,
          "text": "0.99",
          "x": 5,
          "xref": "x",
          "y": 2,
          "yref": "y"
         },
         {
          "font": {
           "color": "#000000"
          },
          "showarrow": false,
          "text": "0.93",
          "x": 6,
          "xref": "x",
          "y": 2,
          "yref": "y"
         },
         {
          "font": {
           "color": "#000000"
          },
          "showarrow": false,
          "text": "0.9",
          "x": 7,
          "xref": "x",
          "y": 2,
          "yref": "y"
         },
         {
          "font": {
           "color": "#000000"
          },
          "showarrow": false,
          "text": "0.93",
          "x": 8,
          "xref": "x",
          "y": 2,
          "yref": "y"
         },
         {
          "font": {
           "color": "#000000"
          },
          "showarrow": false,
          "text": "0.95",
          "x": 9,
          "xref": "x",
          "y": 2,
          "yref": "y"
         },
         {
          "font": {
           "color": "#000000"
          },
          "showarrow": false,
          "text": "0.92",
          "x": 0,
          "xref": "x",
          "y": 3,
          "yref": "y"
         },
         {
          "font": {
           "color": "#000000"
          },
          "showarrow": false,
          "text": "0.94",
          "x": 1,
          "xref": "x",
          "y": 3,
          "yref": "y"
         },
         {
          "font": {
           "color": "#000000"
          },
          "showarrow": false,
          "text": "0.95",
          "x": 2,
          "xref": "x",
          "y": 3,
          "yref": "y"
         },
         {
          "font": {
           "color": "#FFFFFF"
          },
          "showarrow": false,
          "text": "0.0",
          "x": 3,
          "xref": "x",
          "y": 3,
          "yref": "y"
         },
         {
          "font": {
           "color": "#000000"
          },
          "showarrow": false,
          "text": "0.92",
          "x": 4,
          "xref": "x",
          "y": 3,
          "yref": "y"
         },
         {
          "font": {
           "color": "#000000"
          },
          "showarrow": false,
          "text": "0.96",
          "x": 5,
          "xref": "x",
          "y": 3,
          "yref": "y"
         },
         {
          "font": {
           "color": "#000000"
          },
          "showarrow": false,
          "text": "0.96",
          "x": 6,
          "xref": "x",
          "y": 3,
          "yref": "y"
         },
         {
          "font": {
           "color": "#000000"
          },
          "showarrow": false,
          "text": "0.94",
          "x": 7,
          "xref": "x",
          "y": 3,
          "yref": "y"
         },
         {
          "font": {
           "color": "#000000"
          },
          "showarrow": false,
          "text": "0.89",
          "x": 8,
          "xref": "x",
          "y": 3,
          "yref": "y"
         },
         {
          "font": {
           "color": "#000000"
          },
          "showarrow": false,
          "text": "0.95",
          "x": 9,
          "xref": "x",
          "y": 3,
          "yref": "y"
         },
         {
          "font": {
           "color": "#000000"
          },
          "showarrow": false,
          "text": "1.0",
          "x": 0,
          "xref": "x",
          "y": 4,
          "yref": "y"
         },
         {
          "font": {
           "color": "#000000"
          },
          "showarrow": false,
          "text": "0.88",
          "x": 1,
          "xref": "x",
          "y": 4,
          "yref": "y"
         },
         {
          "font": {
           "color": "#000000"
          },
          "showarrow": false,
          "text": "0.92",
          "x": 2,
          "xref": "x",
          "y": 4,
          "yref": "y"
         },
         {
          "font": {
           "color": "#000000"
          },
          "showarrow": false,
          "text": "0.92",
          "x": 3,
          "xref": "x",
          "y": 4,
          "yref": "y"
         },
         {
          "font": {
           "color": "#FFFFFF"
          },
          "showarrow": false,
          "text": "0.0",
          "x": 4,
          "xref": "x",
          "y": 4,
          "yref": "y"
         },
         {
          "font": {
           "color": "#000000"
          },
          "showarrow": false,
          "text": "0.94",
          "x": 5,
          "xref": "x",
          "y": 4,
          "yref": "y"
         },
         {
          "font": {
           "color": "#000000"
          },
          "showarrow": false,
          "text": "1.0",
          "x": 6,
          "xref": "x",
          "y": 4,
          "yref": "y"
         },
         {
          "font": {
           "color": "#000000"
          },
          "showarrow": false,
          "text": "0.89",
          "x": 7,
          "xref": "x",
          "y": 4,
          "yref": "y"
         },
         {
          "font": {
           "color": "#000000"
          },
          "showarrow": false,
          "text": "0.96",
          "x": 8,
          "xref": "x",
          "y": 4,
          "yref": "y"
         },
         {
          "font": {
           "color": "#000000"
          },
          "showarrow": false,
          "text": "0.91",
          "x": 9,
          "xref": "x",
          "y": 4,
          "yref": "y"
         },
         {
          "font": {
           "color": "#000000"
          },
          "showarrow": false,
          "text": "0.92",
          "x": 0,
          "xref": "x",
          "y": 5,
          "yref": "y"
         },
         {
          "font": {
           "color": "#000000"
          },
          "showarrow": false,
          "text": "0.93",
          "x": 1,
          "xref": "x",
          "y": 5,
          "yref": "y"
         },
         {
          "font": {
           "color": "#000000"
          },
          "showarrow": false,
          "text": "0.99",
          "x": 2,
          "xref": "x",
          "y": 5,
          "yref": "y"
         },
         {
          "font": {
           "color": "#000000"
          },
          "showarrow": false,
          "text": "0.96",
          "x": 3,
          "xref": "x",
          "y": 5,
          "yref": "y"
         },
         {
          "font": {
           "color": "#000000"
          },
          "showarrow": false,
          "text": "0.94",
          "x": 4,
          "xref": "x",
          "y": 5,
          "yref": "y"
         },
         {
          "font": {
           "color": "#FFFFFF"
          },
          "showarrow": false,
          "text": "0.0",
          "x": 5,
          "xref": "x",
          "y": 5,
          "yref": "y"
         },
         {
          "font": {
           "color": "#000000"
          },
          "showarrow": false,
          "text": "0.97",
          "x": 6,
          "xref": "x",
          "y": 5,
          "yref": "y"
         },
         {
          "font": {
           "color": "#000000"
          },
          "showarrow": false,
          "text": "0.94",
          "x": 7,
          "xref": "x",
          "y": 5,
          "yref": "y"
         },
         {
          "font": {
           "color": "#000000"
          },
          "showarrow": false,
          "text": "0.91",
          "x": 8,
          "xref": "x",
          "y": 5,
          "yref": "y"
         },
         {
          "font": {
           "color": "#000000"
          },
          "showarrow": false,
          "text": "0.94",
          "x": 9,
          "xref": "x",
          "y": 5,
          "yref": "y"
         },
         {
          "font": {
           "color": "#000000"
          },
          "showarrow": false,
          "text": "0.83",
          "x": 0,
          "xref": "x",
          "y": 6,
          "yref": "y"
         },
         {
          "font": {
           "color": "#000000"
          },
          "showarrow": false,
          "text": "0.98",
          "x": 1,
          "xref": "x",
          "y": 6,
          "yref": "y"
         },
         {
          "font": {
           "color": "#000000"
          },
          "showarrow": false,
          "text": "0.93",
          "x": 2,
          "xref": "x",
          "y": 6,
          "yref": "y"
         },
         {
          "font": {
           "color": "#000000"
          },
          "showarrow": false,
          "text": "0.96",
          "x": 3,
          "xref": "x",
          "y": 6,
          "yref": "y"
         },
         {
          "font": {
           "color": "#000000"
          },
          "showarrow": false,
          "text": "1.0",
          "x": 4,
          "xref": "x",
          "y": 6,
          "yref": "y"
         },
         {
          "font": {
           "color": "#000000"
          },
          "showarrow": false,
          "text": "0.97",
          "x": 5,
          "xref": "x",
          "y": 6,
          "yref": "y"
         },
         {
          "font": {
           "color": "#FFFFFF"
          },
          "showarrow": false,
          "text": "0.0",
          "x": 6,
          "xref": "x",
          "y": 6,
          "yref": "y"
         },
         {
          "font": {
           "color": "#000000"
          },
          "showarrow": false,
          "text": "1.0",
          "x": 7,
          "xref": "x",
          "y": 6,
          "yref": "y"
         },
         {
          "font": {
           "color": "#000000"
          },
          "showarrow": false,
          "text": "0.96",
          "x": 8,
          "xref": "x",
          "y": 6,
          "yref": "y"
         },
         {
          "font": {
           "color": "#000000"
          },
          "showarrow": false,
          "text": "0.89",
          "x": 9,
          "xref": "x",
          "y": 6,
          "yref": "y"
         },
         {
          "font": {
           "color": "#000000"
          },
          "showarrow": false,
          "text": "0.94",
          "x": 0,
          "xref": "x",
          "y": 7,
          "yref": "y"
         },
         {
          "font": {
           "color": "#000000"
          },
          "showarrow": false,
          "text": "0.85",
          "x": 1,
          "xref": "x",
          "y": 7,
          "yref": "y"
         },
         {
          "font": {
           "color": "#000000"
          },
          "showarrow": false,
          "text": "0.9",
          "x": 2,
          "xref": "x",
          "y": 7,
          "yref": "y"
         },
         {
          "font": {
           "color": "#000000"
          },
          "showarrow": false,
          "text": "0.94",
          "x": 3,
          "xref": "x",
          "y": 7,
          "yref": "y"
         },
         {
          "font": {
           "color": "#000000"
          },
          "showarrow": false,
          "text": "0.89",
          "x": 4,
          "xref": "x",
          "y": 7,
          "yref": "y"
         },
         {
          "font": {
           "color": "#000000"
          },
          "showarrow": false,
          "text": "0.94",
          "x": 5,
          "xref": "x",
          "y": 7,
          "yref": "y"
         },
         {
          "font": {
           "color": "#000000"
          },
          "showarrow": false,
          "text": "1.0",
          "x": 6,
          "xref": "x",
          "y": 7,
          "yref": "y"
         },
         {
          "font": {
           "color": "#FFFFFF"
          },
          "showarrow": false,
          "text": "0.0",
          "x": 7,
          "xref": "x",
          "y": 7,
          "yref": "y"
         },
         {
          "font": {
           "color": "#000000"
          },
          "showarrow": false,
          "text": "0.93",
          "x": 8,
          "xref": "x",
          "y": 7,
          "yref": "y"
         },
         {
          "font": {
           "color": "#000000"
          },
          "showarrow": false,
          "text": "0.93",
          "x": 9,
          "xref": "x",
          "y": 7,
          "yref": "y"
         },
         {
          "font": {
           "color": "#000000"
          },
          "showarrow": false,
          "text": "0.92",
          "x": 0,
          "xref": "x",
          "y": 8,
          "yref": "y"
         },
         {
          "font": {
           "color": "#000000"
          },
          "showarrow": false,
          "text": "0.94",
          "x": 1,
          "xref": "x",
          "y": 8,
          "yref": "y"
         },
         {
          "font": {
           "color": "#000000"
          },
          "showarrow": false,
          "text": "0.93",
          "x": 2,
          "xref": "x",
          "y": 8,
          "yref": "y"
         },
         {
          "font": {
           "color": "#000000"
          },
          "showarrow": false,
          "text": "0.89",
          "x": 3,
          "xref": "x",
          "y": 8,
          "yref": "y"
         },
         {
          "font": {
           "color": "#000000"
          },
          "showarrow": false,
          "text": "0.96",
          "x": 4,
          "xref": "x",
          "y": 8,
          "yref": "y"
         },
         {
          "font": {
           "color": "#000000"
          },
          "showarrow": false,
          "text": "0.91",
          "x": 5,
          "xref": "x",
          "y": 8,
          "yref": "y"
         },
         {
          "font": {
           "color": "#000000"
          },
          "showarrow": false,
          "text": "0.96",
          "x": 6,
          "xref": "x",
          "y": 8,
          "yref": "y"
         },
         {
          "font": {
           "color": "#000000"
          },
          "showarrow": false,
          "text": "0.93",
          "x": 7,
          "xref": "x",
          "y": 8,
          "yref": "y"
         },
         {
          "font": {
           "color": "#FFFFFF"
          },
          "showarrow": false,
          "text": "0.0",
          "x": 8,
          "xref": "x",
          "y": 8,
          "yref": "y"
         },
         {
          "font": {
           "color": "#000000"
          },
          "showarrow": false,
          "text": "0.98",
          "x": 9,
          "xref": "x",
          "y": 8,
          "yref": "y"
         },
         {
          "font": {
           "color": "#000000"
          },
          "showarrow": false,
          "text": "0.9",
          "x": 0,
          "xref": "x",
          "y": 9,
          "yref": "y"
         },
         {
          "font": {
           "color": "#000000"
          },
          "showarrow": false,
          "text": "0.82",
          "x": 1,
          "xref": "x",
          "y": 9,
          "yref": "y"
         },
         {
          "font": {
           "color": "#000000"
          },
          "showarrow": false,
          "text": "0.95",
          "x": 2,
          "xref": "x",
          "y": 9,
          "yref": "y"
         },
         {
          "font": {
           "color": "#000000"
          },
          "showarrow": false,
          "text": "0.95",
          "x": 3,
          "xref": "x",
          "y": 9,
          "yref": "y"
         },
         {
          "font": {
           "color": "#000000"
          },
          "showarrow": false,
          "text": "0.91",
          "x": 4,
          "xref": "x",
          "y": 9,
          "yref": "y"
         },
         {
          "font": {
           "color": "#000000"
          },
          "showarrow": false,
          "text": "0.94",
          "x": 5,
          "xref": "x",
          "y": 9,
          "yref": "y"
         },
         {
          "font": {
           "color": "#000000"
          },
          "showarrow": false,
          "text": "0.89",
          "x": 6,
          "xref": "x",
          "y": 9,
          "yref": "y"
         },
         {
          "font": {
           "color": "#000000"
          },
          "showarrow": false,
          "text": "0.93",
          "x": 7,
          "xref": "x",
          "y": 9,
          "yref": "y"
         },
         {
          "font": {
           "color": "#000000"
          },
          "showarrow": false,
          "text": "0.98",
          "x": 8,
          "xref": "x",
          "y": 9,
          "yref": "y"
         },
         {
          "font": {
           "color": "#FFFFFF"
          },
          "showarrow": false,
          "text": "0.0",
          "x": 9,
          "xref": "x",
          "y": 9,
          "yref": "y"
         }
        ],
        "autosize": true,
        "xaxis": {
         "autorange": true,
         "dtick": 1,
         "gridcolor": "rgb(0, 0, 0)",
         "range": [
          -0.5,
          9.5
         ],
         "side": "top",
         "ticks": "",
         "type": "linear"
        },
        "yaxis": {
         "autorange": true,
         "dtick": 1,
         "range": [
          -0.5,
          9.5
         ],
         "ticks": "",
         "ticksuffix": "  ",
         "type": "linear"
        }
       }
      },
      "image/png": "[encoded data removed]"
     },
     "metadata": {},
     "output_type": "display_data"
    }
   ],
   "source": [
    "k = modelo.num_topics\n",
    "diferencia, notas = modelo.diff(modelo, distance=\"hellinger\", annotation=False)\n",
    "anno_text = np.around(diferencia, decimals=2)\n",
    "\n",
    "fig = ff.create_annotated_heatmap(z=diferencia, annotation_text=anno_text, \n",
    "                                  x=list(range(k)), y=list(range(k)), xgap=1, ygap=1,\n",
    "                                  showscale=True, \n",
    "                                  )\n",
    "\n",
    "pyo.iplot(fig)"
   ]
  },
  {
   "cell_type": "markdown",
   "metadata": {},
   "source": [
    "## Estadísticas de Modelo de tópicos"
   ]
  },
  {
   "cell_type": "markdown",
   "metadata": {},
   "source": [
    "### Distribución de probabilidad de tópicos en documentos\n",
    "\n",
    "Usualmente se quiere ver la probabilidad de cada tópico asociada a cada documento. Se puede  pensar un documento como generado de una distribución de probabilidad de tópicos. \n",
    "\n",
    "El método `stats_topicos` devuelve dicha distribución. Para cada documento (fila) muestra la  probabilidad de que hable de cada tópico (columna).\n",
    "\n",
    "Basado en esta distribución, el método también devuelve la \"prevalencia\" de cada tópico: en cuantos documentos del corpus es dominante."
   ]
  },
  {
   "cell_type": "markdown",
   "metadata": {},
   "source": [
    "#### Uso de método: `stats_topicos`\n",
    "\n",
    "Parámetro `modelo` es un modelo LDA."
   ]
  },
  {
   "cell_type": "code",
   "execution_count": 18,
   "metadata": {},
   "outputs": [],
   "source": [
    "doctopics, dominante = topicos.stats_topicos(modelo)"
   ]
  },
  {
   "cell_type": "code",
   "execution_count": 19,
   "metadata": {},
   "outputs": [
    {
     "data": {
      "text/html": [
       "<div>\n",
       "<style scoped>\n",
       "    .dataframe tbody tr th:only-of-type {\n",
       "        vertical-align: middle;\n",
       "    }\n",
       "\n",
       "    .dataframe tbody tr th {\n",
       "        vertical-align: top;\n",
       "    }\n",
       "\n",
       "    .dataframe thead th {\n",
       "        text-align: right;\n",
       "    }\n",
       "</style>\n",
       "<table border=\"1\" class=\"dataframe\">\n",
       "  <thead>\n",
       "    <tr style=\"text-align: right;\">\n",
       "      <th></th>\n",
       "      <th>0</th>\n",
       "      <th>1</th>\n",
       "      <th>2</th>\n",
       "      <th>3</th>\n",
       "      <th>4</th>\n",
       "      <th>5</th>\n",
       "      <th>6</th>\n",
       "      <th>7</th>\n",
       "      <th>8</th>\n",
       "      <th>9</th>\n",
       "    </tr>\n",
       "  </thead>\n",
       "  <tbody>\n",
       "    <tr>\n",
       "      <th>005624</th>\n",
       "      <td>0.262847</td>\n",
       "      <td>0.010089</td>\n",
       "      <td>0.014023</td>\n",
       "      <td>NaN</td>\n",
       "      <td>0.010598</td>\n",
       "      <td>0.011491</td>\n",
       "      <td>0.013072</td>\n",
       "      <td>0.465592</td>\n",
       "      <td>NaN</td>\n",
       "      <td>0.193156</td>\n",
       "    </tr>\n",
       "    <tr>\n",
       "      <th>005625</th>\n",
       "      <td>0.952283</td>\n",
       "      <td>NaN</td>\n",
       "      <td>NaN</td>\n",
       "      <td>NaN</td>\n",
       "      <td>NaN</td>\n",
       "      <td>NaN</td>\n",
       "      <td>NaN</td>\n",
       "      <td>NaN</td>\n",
       "      <td>NaN</td>\n",
       "      <td>NaN</td>\n",
       "    </tr>\n",
       "    <tr>\n",
       "      <th>005626</th>\n",
       "      <td>0.580739</td>\n",
       "      <td>NaN</td>\n",
       "      <td>0.107427</td>\n",
       "      <td>NaN</td>\n",
       "      <td>NaN</td>\n",
       "      <td>0.132913</td>\n",
       "      <td>NaN</td>\n",
       "      <td>NaN</td>\n",
       "      <td>NaN</td>\n",
       "      <td>0.165784</td>\n",
       "    </tr>\n",
       "    <tr>\n",
       "      <th>005627</th>\n",
       "      <td>0.498586</td>\n",
       "      <td>0.029520</td>\n",
       "      <td>0.044318</td>\n",
       "      <td>NaN</td>\n",
       "      <td>NaN</td>\n",
       "      <td>NaN</td>\n",
       "      <td>0.293340</td>\n",
       "      <td>NaN</td>\n",
       "      <td>0.026698</td>\n",
       "      <td>0.102251</td>\n",
       "    </tr>\n",
       "    <tr>\n",
       "      <th>005628</th>\n",
       "      <td>NaN</td>\n",
       "      <td>NaN</td>\n",
       "      <td>NaN</td>\n",
       "      <td>NaN</td>\n",
       "      <td>NaN</td>\n",
       "      <td>0.726834</td>\n",
       "      <td>0.238132</td>\n",
       "      <td>NaN</td>\n",
       "      <td>NaN</td>\n",
       "      <td>NaN</td>\n",
       "    </tr>\n",
       "  </tbody>\n",
       "</table>\n",
       "</div>"
      ],
      "text/plain": [
       "               0         1         2   3         4         5         6  \\\n",
       "005624  0.262847  0.010089  0.014023 NaN  0.010598  0.011491  0.013072   \n",
       "005625  0.952283       NaN       NaN NaN       NaN       NaN       NaN   \n",
       "005626  0.580739       NaN  0.107427 NaN       NaN  0.132913       NaN   \n",
       "005627  0.498586  0.029520  0.044318 NaN       NaN       NaN  0.293340   \n",
       "005628       NaN       NaN       NaN NaN       NaN  0.726834  0.238132   \n",
       "\n",
       "               7         8         9  \n",
       "005624  0.465592       NaN  0.193156  \n",
       "005625       NaN       NaN       NaN  \n",
       "005626       NaN       NaN  0.165784  \n",
       "005627       NaN  0.026698  0.102251  \n",
       "005628       NaN       NaN       NaN  "
      ]
     },
     "execution_count": 19,
     "metadata": {},
     "output_type": "execute_result"
    }
   ],
   "source": [
    "doctopics.tail()"
   ]
  },
  {
   "cell_type": "code",
   "execution_count": 20,
   "metadata": {},
   "outputs": [
    {
     "data": {
      "text/plain": [
       "topico\n",
       "9    0.230\n",
       "2    0.151\n",
       "0    0.111\n",
       "4    0.101\n",
       "5    0.088\n",
       "dtype: float64"
      ]
     },
     "execution_count": 20,
     "metadata": {},
     "output_type": "execute_result"
    }
   ],
   "source": [
    "dominante.head()"
   ]
  },
  {
   "cell_type": "markdown",
   "metadata": {},
   "source": [
    "### Distribución de probabilidad de palabras en cada tópico"
   ]
  },
  {
   "cell_type": "markdown",
   "metadata": {},
   "source": [
    "#### Uso de método: `palabras_probables`\n",
    "\n",
    "Genera un DataFrame con las palabras más probables de cada tópico en un modelo.\n",
    "\n",
    "Parámetro `modelo` es un modelo LDA y `n` indica cuantas palabras se quiere incuir en el resultado."
   ]
  },
  {
   "cell_type": "code",
   "execution_count": 21,
   "metadata": {},
   "outputs": [],
   "source": [
    "palabras = topicos.palabras_probables(modelo, n=20)"
   ]
  },
  {
   "cell_type": "code",
   "execution_count": 22,
   "metadata": {},
   "outputs": [
    {
     "data": {
      "text/html": [
       "<div>\n",
       "<style scoped>\n",
       "    .dataframe tbody tr th:only-of-type {\n",
       "        vertical-align: middle;\n",
       "    }\n",
       "\n",
       "    .dataframe tbody tr th {\n",
       "        vertical-align: top;\n",
       "    }\n",
       "\n",
       "    .dataframe thead th {\n",
       "        text-align: right;\n",
       "    }\n",
       "</style>\n",
       "<table border=\"1\" class=\"dataframe\">\n",
       "  <thead>\n",
       "    <tr style=\"text-align: right;\">\n",
       "      <th></th>\n",
       "      <th>palabra</th>\n",
       "      <th>probabilidad</th>\n",
       "      <th>topico</th>\n",
       "    </tr>\n",
       "  </thead>\n",
       "  <tbody>\n",
       "    <tr>\n",
       "      <th>0</th>\n",
       "      <td>inflación</td>\n",
       "      <td>0.063274</td>\n",
       "      <td>0</td>\n",
       "    </tr>\n",
       "    <tr>\n",
       "      <th>1</th>\n",
       "      <td>expectativas</td>\n",
       "      <td>0.017786</td>\n",
       "      <td>0</td>\n",
       "    </tr>\n",
       "    <tr>\n",
       "      <th>2</th>\n",
       "      <td>pronóstico</td>\n",
       "      <td>0.014863</td>\n",
       "      <td>0</td>\n",
       "    </tr>\n",
       "    <tr>\n",
       "      <th>3</th>\n",
       "      <td>pronósticos</td>\n",
       "      <td>0.012625</td>\n",
       "      <td>0</td>\n",
       "    </tr>\n",
       "    <tr>\n",
       "      <th>4</th>\n",
       "      <td>tasas_interés</td>\n",
       "      <td>0.011372</td>\n",
       "      <td>0</td>\n",
       "    </tr>\n",
       "    <tr>\n",
       "      <th>5</th>\n",
       "      <td>inflación_alimentos</td>\n",
       "      <td>0.010558</td>\n",
       "      <td>0</td>\n",
       "    </tr>\n",
       "    <tr>\n",
       "      <th>6</th>\n",
       "      <td>meta</td>\n",
       "      <td>0.010297</td>\n",
       "      <td>0</td>\n",
       "    </tr>\n",
       "    <tr>\n",
       "      <th>7</th>\n",
       "      <td>política_monetaria</td>\n",
       "      <td>0.010153</td>\n",
       "      <td>0</td>\n",
       "    </tr>\n",
       "    <tr>\n",
       "      <th>8</th>\n",
       "      <td>precios</td>\n",
       "      <td>0.009975</td>\n",
       "      <td>0</td>\n",
       "    </tr>\n",
       "    <tr>\n",
       "      <th>9</th>\n",
       "      <td>nivel</td>\n",
       "      <td>0.008861</td>\n",
       "      <td>0</td>\n",
       "    </tr>\n",
       "  </tbody>\n",
       "</table>\n",
       "</div>"
      ],
      "text/plain": [
       "               palabra  probabilidad  topico\n",
       "0            inflación      0.063274       0\n",
       "1         expectativas      0.017786       0\n",
       "2           pronóstico      0.014863       0\n",
       "3          pronósticos      0.012625       0\n",
       "4        tasas_interés      0.011372       0\n",
       "5  inflación_alimentos      0.010558       0\n",
       "6                 meta      0.010297       0\n",
       "7   política_monetaria      0.010153       0\n",
       "8              precios      0.009975       0\n",
       "9                nivel      0.008861       0"
      ]
     },
     "execution_count": 22,
     "metadata": {},
     "output_type": "execute_result"
    }
   ],
   "source": [
    "palabras.head(10)"
   ]
  },
  {
   "cell_type": "markdown",
   "metadata": {},
   "source": [
    "## Almacenamiento de objetos generados"
   ]
  },
  {
   "cell_type": "markdown",
   "metadata": {},
   "source": [
    "### Criterios\n",
    "\n",
    "El corpus y los modelos de tópicos generan estructuras que pueden ser útiles más adelante, y por lo tanto se quiere guardar a disco.\n",
    "\n",
    "Se quiere usualmente almacenar modelos de \"ngramas\", el \"diccionario\" que contiene todas las palabras únicas existentes en el corpus, y el mejor modelo de tópicos opcionalmente con  su visualización."
   ]
  },
  {
   "cell_type": "markdown",
   "metadata": {},
   "source": [
    "#### Uso de función: `crear_directorio`\n",
    "\n",
    "`crear_directorio` simplemente crea un directorio en disco, en el que se quiere guardar las estructuras generadas. En este caso se quiere crear directorio de salida para estructuras generales, y opcionalmente uno diferente para el mejor modelo."
   ]
  },
  {
   "cell_type": "code",
   "execution_count": 23,
   "metadata": {},
   "outputs": [],
   "source": [
    "# Crear directorio de salida\n",
    "dirsalida = crear_directorio('topicos')\n",
    "\n",
    "# Crear directorio para mejor modelo.\n",
    "dirmodelo = crear_directorio(dirsalida.joinpath(f'{topicos.top_k:0>2}'))"
   ]
  },
  {
   "cell_type": "markdown",
   "metadata": {},
   "source": [
    "### Guardar n-gramas y diccionario generados en corpus"
   ]
  },
  {
   "cell_type": "code",
   "execution_count": 24,
   "metadata": {},
   "outputs": [],
   "source": [
    "#Guardar modelos de bigramas y trigramas\n",
    "corpus.ngrams.get('bigrams').save(str(dirsalida.joinpath('bigrams')))\n",
    "corpus.ngrams.get('trigrams').save(str(dirsalida.joinpath('trigrams')))\n",
    "\n",
    "# Guardar diccionario\n",
    "corpus.id2word.save(str(dirsalida.joinpath('id2word')))"
   ]
  },
  {
   "cell_type": "markdown",
   "metadata": {},
   "source": [
    "### Guardar mejor modelo LDA y su visualización"
   ]
  },
  {
   "cell_type": "code",
   "execution_count": 25,
   "metadata": {},
   "outputs": [],
   "source": [
    "modelo.save(str(dirmodelo.joinpath('topicos.lda')))\n",
    "pyLDAvis.save_html(vis, str(dirmodelo.joinpath('topicos.html')))"
   ]
  }
 ],
 "metadata": {
  "kernelspec": {
   "display_name": "Python 3",
   "language": "python",
   "name": "python3"
  },
  "language_info": {
   "codemirror_mode": {
    "name": "ipython",
    "version": 3
   },
   "file_extension": ".py",
   "mimetype": "text/x-python",
   "name": "python",
   "nbconvert_exporter": "python",
   "pygments_lexer": "ipython3",
   "version": "3.7.3"
  }
 },
 "nbformat": 4,
 "nbformat_minor": 2
}
