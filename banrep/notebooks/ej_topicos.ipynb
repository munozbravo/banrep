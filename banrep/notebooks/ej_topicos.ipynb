{
 "cells": [
  {
   "cell_type": "markdown",
   "metadata": {},
   "source": [
    "# Ejemplo de funcionalidad principal"
   ]
  },
  {
   "cell_type": "markdown",
   "metadata": {},
   "source": [
    "## Requerimientos"
   ]
  },
  {
   "cell_type": "markdown",
   "metadata": {},
   "source": [
    "### Importamos las otras librerías utilizadas en este ejemplo"
   ]
  },
  {
   "cell_type": "code",
   "execution_count": 1,
   "metadata": {},
   "outputs": [],
   "source": [
    "from pathlib import Path\n",
    "\n",
    "import pandas as pd\n",
    "import spacy"
   ]
  },
  {
   "cell_type": "markdown",
   "metadata": {},
   "source": [
    "### Y lo que usaremos de la librería [banrep][pypi_banrep]\n",
    "[pypi_banrep]: https://pypi.org/project/banrep/"
   ]
  },
  {
   "cell_type": "code",
   "execution_count": 2,
   "metadata": {},
   "outputs": [],
   "source": [
    "from banrep.corpus import MiCorpus\n",
    "from banrep.diagnosticos import docs_topicos, topico_dominante, palabras_probables\n",
    "from banrep.io import Textos, leer_palabras\n",
    "from banrep.topicos import crear_ldas, calcular_coherencias\n",
    "from banrep.utils import crear_directorio"
   ]
  },
  {
   "cell_type": "markdown",
   "metadata": {},
   "source": [
    "### Necesitamos un modelo NLP para español de [spaCy][spacy_models]\n",
    "[spacy_models]: https://spacy.io/models"
   ]
  },
  {
   "cell_type": "code",
   "execution_count": 3,
   "metadata": {},
   "outputs": [],
   "source": [
    "nlp = spacy.load('es_core_news_md')"
   ]
  },
  {
   "cell_type": "markdown",
   "metadata": {},
   "source": [
    "## Preprocesamiento de texto y filtros"
   ]
  },
  {
   "cell_type": "markdown",
   "metadata": {},
   "source": [
    "### Textos a usar\n",
    "\n",
    "Asume una carpeta en disco en la que hay archivos de texto. Si los textos que quiere utilizar están en archivos binarios como *.pdf*, *.docx*, etc., debe primero [extraer el texto][extraccion].\n",
    "\n",
    "[extraccion]: https://munozbravo.github.io/banrep/uso_extraccion/"
   ]
  },
  {
   "cell_type": "markdown",
   "metadata": {},
   "source": [
    "#### Uso de clase: `Textos`\n",
    "\n",
    "Se usa para iterar los archivos de texto en disco.\n",
    "\n",
    "Parámetro `chars` filtra aquellas líneas de texto de cada archivo cuya longitud sea inferior al valor especificado. *69* es valor arbitrario que permite filtrar la mayoría de títulos y subtítulos.\n",
    "\n",
    "Parámetro `parrafos` permite definir si se considera cada párrafo como un documento separado.\n",
    "\n",
    "Parámetro `aleatorio` sirve cuando se quiere iterar los archivos aleatoriamente."
   ]
  },
  {
   "cell_type": "code",
   "execution_count": 4,
   "metadata": {},
   "outputs": [
    {
     "name": "stdout",
     "output_type": "stream",
     "text": [
      "29 archivos en directorio datasets.\n"
     ]
    }
   ],
   "source": [
    "dir_datos = Path('../datasets/')\n",
    "\n",
    "datos = Textos(dir_datos, aleatorio=False, chars=69, parrafos=True)\n",
    "print(datos)"
   ]
  },
  {
   "cell_type": "markdown",
   "metadata": {},
   "source": [
    "### Filtros: palabras y tokens a ignorar\n",
    "\n",
    "Generalmente se quiere ignorar palabras comunes a todos los textos, llamadas *stopwords*, por no aportar al entendimiento de los diferentes textos.\n",
    "\n",
    "Se obtendrá información detallada de cada palabra gracias a [spaCy][web_spacy], lo que permite filtrar adicionalmente por criterios como [categoría gramatical][universal] (verbos, sustantivos, etc), si es algún tipo de [nombre propio][spacy_ents] (Juan, Colombia, Banco de la República), o si contiene caracteres que no hacen parte del alfabeto (números, monedas, etc). \n",
    "\n",
    "[web_spacy]: https://spacy.io/\n",
    "[universal]: https://universaldependencies.org/es/index.html\n",
    "[spacy_ents]: https://spacy.io/api/annotation#named-entities"
   ]
  },
  {
   "cell_type": "markdown",
   "metadata": {},
   "source": [
    "#### Uso de función: `leer_palabras`\n",
    "\n",
    "Permite leer categorías de palabras de un archivo excel. \n",
    "En este caso, una sola categoría (stopwords).\n",
    "\n",
    "Parámetros `archivo` y `hoja` determinan el archivo excel en disco, y la hoja a usar.\n",
    "\n",
    "Parámetro `col_grupo` es el nombre de una columna en la hoja excel que determina el grupo al que pertenecen las palabras.\n",
    "\n",
    "Parámetro `col_palabras` es el nombre de una columna en la hoja excel que contiene las palabras."
   ]
  },
  {
   "cell_type": "code",
   "execution_count": 5,
   "metadata": {},
   "outputs": [],
   "source": [
    "pathstops = '~/Dropbox/datasets/wordlists/stopwords.xlsx'\n",
    "palabras = leer_palabras(archivo=pathstops, \n",
    "                         hoja='banrep_es', \n",
    "                         col_grupo=\"type\", \n",
    "                         col_palabras=\"word\")\n",
    "\n",
    "stops = palabras.get(\"stopword\")"
   ]
  },
  {
   "cell_type": "markdown",
   "metadata": {},
   "source": [
    "#### Ilustración para mayor claridad\n",
    "\n",
    "La hoja de stopwords en mi archivo excel...\n",
    "\n",
    "![](img/stopwords.png)\n"
   ]
  },
  {
   "cell_type": "markdown",
   "metadata": {},
   "source": [
    "En este caso elimino de cualquier análisis posterior todas las *stopwords* del archivo excel, las categorías gramaticales que identifican números, puntuación y símbolos, y aquellas \"palabras\" o tokens que contengan caracteres que no hacen parte del alfabeto."
   ]
  },
  {
   "cell_type": "code",
   "execution_count": 6,
   "metadata": {},
   "outputs": [],
   "source": [
    "tags = ['NUM', 'PUNCT', 'SYM']\n",
    "\n",
    "filtros = dict(stopwords=stops, postags=tags, entities=None, is_alpha=True)"
   ]
  },
  {
   "cell_type": "markdown",
   "metadata": {},
   "source": [
    "## Dimensiones adicionales que se quieren medir"
   ]
  },
  {
   "cell_type": "markdown",
   "metadata": {},
   "source": [
    "### Pertenencia a listas de palabras predefinidas\n",
    "\n",
    "Muchas veces se quiere contabilizar cuantas palabras de cada documento hacen parte de listas de palabras predefinidas. Por ejemplo, puedo tener listas de palabras \"positivas\" y \"negativas\", y querer contar cuantas palabras de los textos que voy a analizar hacen parte de estas listas. Esto sirve, por ejemplo, para crear indicadores de sentimiento basados en el conteo de palabras que pertenecen a emociones \"contrarias\"."
   ]
  },
  {
   "cell_type": "markdown",
   "metadata": {},
   "source": [
    "#### Uso de función: `leer_palabras`\n",
    "\n",
    "La misma función usada para cargar *stopwords* nos sirve para leer un archivo excel que contiene otras categorías de palabras, en este caso palabras que denotan *mejora* y otras que denotan *deterioro*."
   ]
  },
  {
   "cell_type": "code",
   "execution_count": 7,
   "metadata": {},
   "outputs": [],
   "source": [
    "pathwl = '~/Dropbox/datasets/wordlists/sentimiento.xlsx'\n",
    "wordlists = leer_palabras(pathwl, 'BANREP', col_grupo=\"type\", col_palabras=\"word\")"
   ]
  },
  {
   "cell_type": "code",
   "execution_count": 8,
   "metadata": {},
   "outputs": [
    {
     "name": "stdout",
     "output_type": "stream",
     "text": [
      "1899 palabras en grupo deterioro\n",
      "359 palabras en grupo mejora\n"
     ]
    }
   ],
   "source": [
    "# Cuantas palabras en cada grupo...\n",
    "\n",
    "for tipo in wordlists:\n",
    "    print(f'{len(wordlists.get(tipo))} palabras en grupo {tipo}')"
   ]
  },
  {
   "cell_type": "code",
   "execution_count": null,
   "metadata": {},
   "outputs": [],
   "source": []
  },
  {
   "cell_type": "markdown",
   "metadata": {},
   "source": [
    "## Corpus y Modelos"
   ]
  },
  {
   "cell_type": "markdown",
   "metadata": {},
   "source": [
    "### Crear el corpus\n",
    "\n",
    "Un *corpus* es un conjunto de documentos, para el cual queremos obtener toda clase de estadísticas.\n",
    "\n",
    "`MiCorpus` es la implementación de un corpus, el cual se inicializa con un modelo [spaCy][spacy_models] y un objeto `Textos`, y opcionalmente con los filtros especificados anteriormente, las listas de palabras que se quiere contar, y expresiones que se quiere encontrar. \n",
    "\n",
    "[spacy_models]: https://spacy.io/models"
   ]
  },
  {
   "cell_type": "markdown",
   "metadata": {},
   "source": [
    "#### Uso de clase: `MiCorpus`\n",
    "\n",
    "Se usa para inicializar el corpus. Es la estructura más importante de [banrep][pypi_banrep].\n",
    "\n",
    "Parámetros `lang` y `datos` son el modelo spaCy y el objeto Textos respectivamente.\n",
    "\n",
    "Parámetros `filtros` y `wordlists` ya explicados anteriormente.\n",
    "\n",
    "Parámetro `corta` sirve como filtro adicional, ignorando frases de pocas palabras (en este ejemplo, frases con menos de 10 palabras).\n",
    "\n",
    "[pypi_banrep]: https://pypi.org/project/banrep/"
   ]
  },
  {
   "cell_type": "code",
   "execution_count": 9,
   "metadata": {},
   "outputs": [
    {
     "name": "stdout",
     "output_type": "stream",
     "text": [
      "Corpus con 5628 docs y 3619 palabras únicas.\n"
     ]
    }
   ],
   "source": [
    "corpus = MiCorpus(nlp, datos=datos, filtros=filtros, corta=9, wordlists=wordlists)\n",
    "print(corpus)"
   ]
  },
  {
   "cell_type": "markdown",
   "metadata": {},
   "source": [
    "### Crear modelos LDA\n",
    "\n",
    "Los modelos de tópicos se usan para encontrar \"temáticas\" subyacentes en los textos.\n",
    "\n",
    "El parámetro básico a especificar en un modelo es el número de tópicos que se quiere considerar en el resultado.\n",
    "\n",
    "Esta librería usa [Gensim][web_gensim] para la implementación del cálculo de los modelos. En su [documentación][gensim_tuts] encontrará todo lo necesario para correr este tipo de modelos y muchas técnicas adicionales no usadas en esta librería. [banrep][pypi_banrep] simplemente ofrece funciones para correr varios modelos LDA y seleccionar el mejor, todo basado en Gensim.\n",
    "\n",
    "[web_gensim]: https://radimrehurek.com/gensim/models/ldamodel.html\n",
    "[gensim_tuts]: https://radimrehurek.com/gensim/tutorial.html\n",
    "[pypi_banrep]: https://pypi.org/project/banrep/"
   ]
  },
  {
   "cell_type": "markdown",
   "metadata": {},
   "source": [
    "#### Uso de función: `crear_ldas`\n",
    "\n",
    "Se usa para crear modelos lda para diferentes números de tópicos.\n",
    "\n",
    "Parámetro `corpus` es una instancia de `MiCorpus`, y parámetro `numeros` es una lista de números para los cuales se quiere generar un modelo.\n",
    "\n",
    "Parámetro `params` es un diccionario con parámetros que se usan en la [implementación LDA de Gensim][lda_gensim] (gensim.models.ldamodel.LdaModel).\n",
    "\n",
    "[lda_gensim]: https://radimrehurek.com/gensim/models/ldamodel.html"
   ]
  },
  {
   "cell_type": "code",
   "execution_count": 10,
   "metadata": {},
   "outputs": [],
   "source": [
    "n_topicos = (5, 10, 15)\n",
    "params = dict(passes=5, alpha='auto', eta='auto', random_state=100)\n",
    "\n",
    "modelos = [lda for lda in crear_ldas(corpus, n_topicos, params)]"
   ]
  },
  {
   "cell_type": "markdown",
   "metadata": {},
   "source": [
    "#### Uso de función: `calcular_coherencias`\n",
    "\n",
    "Los modelos de tópicos suelen ser evaluados usando una medida llamada *Coherence Score*. Esta medida sugiere qué tan \"interpretables\" son los modelos. Un mayor score es un modelo más \"interpretable\", y por lo tanto mejor.\n",
    "\n",
    "Parámetros `modelos` y `corpus` son, respectivamente, lista de modelos LDA previamente generados y una instancia de corpus `MiCorpus`."
   ]
  },
  {
   "cell_type": "code",
   "execution_count": 11,
   "metadata": {},
   "outputs": [
    {
     "name": "stdout",
     "output_type": "stream",
     "text": [
      "Modelo de 10 tópicos mejor Coherence Score: 0.45963354326637934\n"
     ]
    }
   ],
   "source": [
    "scores = [score for score in calcular_coherencias(modelos, corpus)]\n",
    "\n",
    "mejor_score = max(scores)\n",
    "cual = scores.index(mejor_score)\n",
    "mejor_n = n_topicos[cual]\n",
    "\n",
    "print(f\"Modelo de {mejor_n} tópicos mejor Coherence Score: {mejor_score}\")"
   ]
  },
  {
   "cell_type": "markdown",
   "metadata": {},
   "source": [
    "### Almacenamiento de objetos generados"
   ]
  },
  {
   "cell_type": "markdown",
   "metadata": {},
   "source": [
    "#### Uso de función: `crear_directorio`\n",
    "\n",
    "El corpus y los modelos de tópicos generan estructuras que pueden ser útiles más adelante, y por lo tanto se quiere guardar a disco.\n",
    "\n",
    "`crear_directorio` simplemente crea un directorio en disco, en el que se quiere guardar las estructuras generadas.\n",
    "\n",
    "Se quiere usualmente almacenar modelos de \"ngramas\", el \"diccionario\" que contiene todas las palabras únicas existentes en el corpus, y el mejor modelo de tópicos opcionalmente con  su visualización."
   ]
  },
  {
   "cell_type": "code",
   "execution_count": 12,
   "metadata": {},
   "outputs": [],
   "source": [
    "# Crear directorio de salida\n",
    "dir_salida = crear_directorio('topicos')\n",
    "\n",
    "#Guardar modelos de bigramas y trigramas\n",
    "corpus.ngrams.get('bigrams').save(str(dir_salida.joinpath('bigrams')))\n",
    "corpus.ngrams.get('trigrams').save(str(dir_salida.joinpath('trigrams')))\n",
    "\n",
    "# Guardar diccionario\n",
    "corpus.id2word.save(str(dir_salida.joinpath('id2word')))"
   ]
  },
  {
   "cell_type": "code",
   "execution_count": 13,
   "metadata": {},
   "outputs": [],
   "source": [
    "# Guardar mejor modelo de tópicos y su visualización\n",
    "\n",
    "dirtopic = dir_salida.joinpath(f'{mejor_n:0>2}')\n",
    "crear_directorio(dirtopic)\n",
    "\n",
    "modelo = modelos[cual]\n",
    "modelo.save(str(dirtopic.joinpath('topicos.lda')))\n",
    "\n",
    "# En análisis de tópicos se suele usar PyLDAvis para visualizar resultados...\n",
    "# Hay que importar la librería para eso.\n",
    "\n",
    "import warnings\n",
    "\n",
    "import pyLDAvis\n",
    "import pyLDAvis.gensim\n",
    "\n",
    "# Gráfica LDAvis de tópicos y sus palabras\n",
    "\n",
    "bow = list(corpus)\n",
    "with warnings.catch_warnings():\n",
    "    warnings.simplefilter('ignore')\n",
    "    vis = pyLDAvis.gensim.prepare(modelo, bow, corpus.id2word, sort_topics=False)\n",
    "\n",
    "pyLDAvis.save_html(vis, str(dirtopic.joinpath('topicos.html')))"
   ]
  },
  {
   "cell_type": "code",
   "execution_count": null,
   "metadata": {},
   "outputs": [],
   "source": []
  },
  {
   "cell_type": "markdown",
   "metadata": {},
   "source": [
    "## Estadísticas de Modelo de tópicos"
   ]
  },
  {
   "cell_type": "markdown",
   "metadata": {},
   "source": [
    "### Distribución de probabilidad de tópicos en documentos\n",
    "\n",
    "Usualmente se quiere ver la probabilidad de cada tópico asociada a cada documento. Se puede  pensar un documento como algo generado de una distribución de probabilidad de tópicos. \n",
    "\n",
    "La función `docs_topicos` muestra dicha distribución. Para cada documento (fila) muestra la  probabilidad de que hable de cada tópico (columna).\n",
    "\n",
    "Basado en esta distribución, `topico_dominante` muestra qué topico es dominante en cuantos documentos del corpus."
   ]
  },
  {
   "cell_type": "markdown",
   "metadata": {},
   "source": [
    "#### Uso de función: `docs_topicos`\n",
    "\n",
    "Parámetros `modelo` y `corpus` son, respectivamente, un modelo LDA y una instancia de corpus `MiCorpus`."
   ]
  },
  {
   "cell_type": "code",
   "execution_count": 14,
   "metadata": {},
   "outputs": [
    {
     "data": {
      "text/html": [
       "<div>\n",
       "<style scoped>\n",
       "    .dataframe tbody tr th:only-of-type {\n",
       "        vertical-align: middle;\n",
       "    }\n",
       "\n",
       "    .dataframe tbody tr th {\n",
       "        vertical-align: top;\n",
       "    }\n",
       "\n",
       "    .dataframe thead th {\n",
       "        text-align: right;\n",
       "    }\n",
       "</style>\n",
       "<table border=\"1\" class=\"dataframe\">\n",
       "  <thead>\n",
       "    <tr style=\"text-align: right;\">\n",
       "      <th></th>\n",
       "      <th>0</th>\n",
       "      <th>1</th>\n",
       "      <th>2</th>\n",
       "      <th>3</th>\n",
       "      <th>4</th>\n",
       "      <th>5</th>\n",
       "      <th>6</th>\n",
       "      <th>7</th>\n",
       "      <th>8</th>\n",
       "      <th>9</th>\n",
       "    </tr>\n",
       "  </thead>\n",
       "  <tbody>\n",
       "    <tr>\n",
       "      <th>005624</th>\n",
       "      <td>0.262847</td>\n",
       "      <td>0.010089</td>\n",
       "      <td>0.014023</td>\n",
       "      <td>NaN</td>\n",
       "      <td>0.010598</td>\n",
       "      <td>0.011491</td>\n",
       "      <td>0.013072</td>\n",
       "      <td>0.465592</td>\n",
       "      <td>NaN</td>\n",
       "      <td>0.193156</td>\n",
       "    </tr>\n",
       "    <tr>\n",
       "      <th>005625</th>\n",
       "      <td>0.952283</td>\n",
       "      <td>NaN</td>\n",
       "      <td>NaN</td>\n",
       "      <td>NaN</td>\n",
       "      <td>NaN</td>\n",
       "      <td>NaN</td>\n",
       "      <td>NaN</td>\n",
       "      <td>NaN</td>\n",
       "      <td>NaN</td>\n",
       "      <td>NaN</td>\n",
       "    </tr>\n",
       "    <tr>\n",
       "      <th>005626</th>\n",
       "      <td>0.580739</td>\n",
       "      <td>NaN</td>\n",
       "      <td>0.107427</td>\n",
       "      <td>NaN</td>\n",
       "      <td>NaN</td>\n",
       "      <td>0.132913</td>\n",
       "      <td>NaN</td>\n",
       "      <td>NaN</td>\n",
       "      <td>NaN</td>\n",
       "      <td>0.165784</td>\n",
       "    </tr>\n",
       "    <tr>\n",
       "      <th>005627</th>\n",
       "      <td>0.498586</td>\n",
       "      <td>0.029520</td>\n",
       "      <td>0.044318</td>\n",
       "      <td>NaN</td>\n",
       "      <td>NaN</td>\n",
       "      <td>NaN</td>\n",
       "      <td>0.293340</td>\n",
       "      <td>NaN</td>\n",
       "      <td>0.026698</td>\n",
       "      <td>0.102251</td>\n",
       "    </tr>\n",
       "    <tr>\n",
       "      <th>005628</th>\n",
       "      <td>NaN</td>\n",
       "      <td>NaN</td>\n",
       "      <td>NaN</td>\n",
       "      <td>NaN</td>\n",
       "      <td>NaN</td>\n",
       "      <td>0.726834</td>\n",
       "      <td>0.238132</td>\n",
       "      <td>NaN</td>\n",
       "      <td>NaN</td>\n",
       "      <td>NaN</td>\n",
       "    </tr>\n",
       "  </tbody>\n",
       "</table>\n",
       "</div>"
      ],
      "text/plain": [
       "               0         1         2   3         4         5         6  \\\n",
       "005624  0.262847  0.010089  0.014023 NaN  0.010598  0.011491  0.013072   \n",
       "005625  0.952283       NaN       NaN NaN       NaN       NaN       NaN   \n",
       "005626  0.580739       NaN  0.107427 NaN       NaN  0.132913       NaN   \n",
       "005627  0.498586  0.029520  0.044318 NaN       NaN       NaN  0.293340   \n",
       "005628       NaN       NaN       NaN NaN       NaN  0.726834  0.238132   \n",
       "\n",
       "               7         8         9  \n",
       "005624  0.465592       NaN  0.193156  \n",
       "005625       NaN       NaN       NaN  \n",
       "005626       NaN       NaN  0.165784  \n",
       "005627       NaN  0.026698  0.102251  \n",
       "005628       NaN       NaN       NaN  "
      ]
     },
     "execution_count": 14,
     "metadata": {},
     "output_type": "execute_result"
    }
   ],
   "source": [
    "doctopics = docs_topicos(modelo, corpus)\n",
    "doctopics.tail()"
   ]
  },
  {
   "cell_type": "markdown",
   "metadata": {},
   "source": [
    "#### Uso de función: `topico_dominante`\n",
    "\n",
    "Parámetro `df` es un DataFrame que contiene la distribución de probabilidad de tópicos en documentos. "
   ]
  },
  {
   "cell_type": "code",
   "execution_count": 15,
   "metadata": {},
   "outputs": [
    {
     "data": {
      "text/html": [
       "<div>\n",
       "<style scoped>\n",
       "    .dataframe tbody tr th:only-of-type {\n",
       "        vertical-align: middle;\n",
       "    }\n",
       "\n",
       "    .dataframe tbody tr th {\n",
       "        vertical-align: top;\n",
       "    }\n",
       "\n",
       "    .dataframe thead th {\n",
       "        text-align: right;\n",
       "    }\n",
       "</style>\n",
       "<table border=\"1\" class=\"dataframe\">\n",
       "  <thead>\n",
       "    <tr style=\"text-align: right;\">\n",
       "      <th></th>\n",
       "      <th>topico</th>\n",
       "      <th>docs</th>\n",
       "    </tr>\n",
       "  </thead>\n",
       "  <tbody>\n",
       "    <tr>\n",
       "      <th>0</th>\n",
       "      <td>9</td>\n",
       "      <td>0.2299</td>\n",
       "    </tr>\n",
       "    <tr>\n",
       "      <th>1</th>\n",
       "      <td>2</td>\n",
       "      <td>0.1512</td>\n",
       "    </tr>\n",
       "    <tr>\n",
       "      <th>2</th>\n",
       "      <td>0</td>\n",
       "      <td>0.1112</td>\n",
       "    </tr>\n",
       "    <tr>\n",
       "      <th>3</th>\n",
       "      <td>4</td>\n",
       "      <td>0.1011</td>\n",
       "    </tr>\n",
       "    <tr>\n",
       "      <th>4</th>\n",
       "      <td>5</td>\n",
       "      <td>0.0885</td>\n",
       "    </tr>\n",
       "  </tbody>\n",
       "</table>\n",
       "</div>"
      ],
      "text/plain": [
       "   topico    docs\n",
       "0       9  0.2299\n",
       "1       2  0.1512\n",
       "2       0  0.1112\n",
       "3       4  0.1011\n",
       "4       5  0.0885"
      ]
     },
     "execution_count": 15,
     "metadata": {},
     "output_type": "execute_result"
    }
   ],
   "source": [
    "# Cada tópico es dominante en cuantos documentos?\n",
    "\n",
    "dominante = topico_dominante(df=doctopics)\n",
    "dominante.head()"
   ]
  },
  {
   "cell_type": "markdown",
   "metadata": {},
   "source": [
    "### Distribución de probabilidad de palabras en cada tópico"
   ]
  },
  {
   "cell_type": "markdown",
   "metadata": {},
   "source": [
    "#### Uso de función: `palabras_probables`\n",
    "\n",
    "Genera un DataFrame con las palabras más probables en un tópico.\n",
    "\n",
    "Parámetro `modelo` es un modelo de tópicos, `topico` es el número de tópico, y `n` indica cuantas palabras se quiere incuir en el resultado."
   ]
  },
  {
   "cell_type": "code",
   "execution_count": 16,
   "metadata": {},
   "outputs": [
    {
     "data": {
      "text/html": [
       "<div>\n",
       "<style scoped>\n",
       "    .dataframe tbody tr th:only-of-type {\n",
       "        vertical-align: middle;\n",
       "    }\n",
       "\n",
       "    .dataframe tbody tr th {\n",
       "        vertical-align: top;\n",
       "    }\n",
       "\n",
       "    .dataframe thead th {\n",
       "        text-align: right;\n",
       "    }\n",
       "</style>\n",
       "<table border=\"1\" class=\"dataframe\">\n",
       "  <thead>\n",
       "    <tr style=\"text-align: right;\">\n",
       "      <th></th>\n",
       "      <th>palabra</th>\n",
       "      <th>probabilidad</th>\n",
       "      <th>topico</th>\n",
       "    </tr>\n",
       "  </thead>\n",
       "  <tbody>\n",
       "    <tr>\n",
       "      <th>0</th>\n",
       "      <td>crecimiento</td>\n",
       "      <td>0.037290</td>\n",
       "      <td>9</td>\n",
       "    </tr>\n",
       "    <tr>\n",
       "      <th>1</th>\n",
       "      <td>economía</td>\n",
       "      <td>0.013434</td>\n",
       "      <td>9</td>\n",
       "    </tr>\n",
       "    <tr>\n",
       "      <th>2</th>\n",
       "      <td>estados_unidos</td>\n",
       "      <td>0.011232</td>\n",
       "      <td>9</td>\n",
       "    </tr>\n",
       "    <tr>\n",
       "      <th>3</th>\n",
       "      <td>espera</td>\n",
       "      <td>0.010014</td>\n",
       "      <td>9</td>\n",
       "    </tr>\n",
       "    <tr>\n",
       "      <th>4</th>\n",
       "      <td>aumento</td>\n",
       "      <td>0.009473</td>\n",
       "      <td>9</td>\n",
       "    </tr>\n",
       "  </tbody>\n",
       "</table>\n",
       "</div>"
      ],
      "text/plain": [
       "          palabra  probabilidad  topico\n",
       "0     crecimiento      0.037290       9\n",
       "1        economía      0.013434       9\n",
       "2  estados_unidos      0.011232       9\n",
       "3          espera      0.010014       9\n",
       "4         aumento      0.009473       9"
      ]
     },
     "execution_count": 16,
     "metadata": {},
     "output_type": "execute_result"
    }
   ],
   "source": [
    "# Cuales son las palabras más probables en cada uno de los tópicos dominantes...\n",
    "\n",
    "dfs = []\n",
    "for topico in dominante['topico']:\n",
    "    df = palabras_probables(modelo, topico, n=20)\n",
    "    dfs.append(df)\n",
    "\n",
    "palabras = pd.concat(dfs, ignore_index=True)\n",
    "\n",
    "palabras.head()"
   ]
  },
  {
   "cell_type": "markdown",
   "metadata": {},
   "source": [
    "## Estadísticas de corpus"
   ]
  },
  {
   "cell_type": "markdown",
   "metadata": {},
   "source": [
    "### Estadísticas agregadas"
   ]
  },
  {
   "cell_type": "code",
   "execution_count": 17,
   "metadata": {},
   "outputs": [
    {
     "data": {
      "text/html": [
       "<div>\n",
       "<style scoped>\n",
       "    .dataframe tbody tr th:only-of-type {\n",
       "        vertical-align: middle;\n",
       "    }\n",
       "\n",
       "    .dataframe tbody tr th {\n",
       "        vertical-align: top;\n",
       "    }\n",
       "\n",
       "    .dataframe thead th {\n",
       "        text-align: right;\n",
       "    }\n",
       "</style>\n",
       "<table border=\"1\" class=\"dataframe\">\n",
       "  <thead>\n",
       "    <tr style=\"text-align: right;\">\n",
       "      <th></th>\n",
       "      <th>doc_id</th>\n",
       "      <th>archivo</th>\n",
       "      <th>fuente</th>\n",
       "      <th>frases</th>\n",
       "      <th>palabras</th>\n",
       "    </tr>\n",
       "  </thead>\n",
       "  <tbody>\n",
       "    <tr>\n",
       "      <th>5623</th>\n",
       "      <td>005624</td>\n",
       "      <td>2005-12.txt</td>\n",
       "      <td>inflacion</td>\n",
       "      <td>1</td>\n",
       "      <td>7</td>\n",
       "    </tr>\n",
       "    <tr>\n",
       "      <th>5624</th>\n",
       "      <td>005625</td>\n",
       "      <td>2005-12.txt</td>\n",
       "      <td>inflacion</td>\n",
       "      <td>2</td>\n",
       "      <td>16</td>\n",
       "    </tr>\n",
       "    <tr>\n",
       "      <th>5625</th>\n",
       "      <td>005626</td>\n",
       "      <td>2005-12.txt</td>\n",
       "      <td>inflacion</td>\n",
       "      <td>3</td>\n",
       "      <td>46</td>\n",
       "    </tr>\n",
       "    <tr>\n",
       "      <th>5626</th>\n",
       "      <td>005627</td>\n",
       "      <td>2005-12.txt</td>\n",
       "      <td>inflacion</td>\n",
       "      <td>3</td>\n",
       "      <td>60</td>\n",
       "    </tr>\n",
       "    <tr>\n",
       "      <th>5627</th>\n",
       "      <td>005628</td>\n",
       "      <td>2005-12.txt</td>\n",
       "      <td>inflacion</td>\n",
       "      <td>2</td>\n",
       "      <td>26</td>\n",
       "    </tr>\n",
       "  </tbody>\n",
       "</table>\n",
       "</div>"
      ],
      "text/plain": [
       "      doc_id      archivo     fuente  frases  palabras\n",
       "5623  005624  2005-12.txt  inflacion       1         7\n",
       "5624  005625  2005-12.txt  inflacion       2        16\n",
       "5625  005626  2005-12.txt  inflacion       3        46\n",
       "5626  005627  2005-12.txt  inflacion       3        60\n",
       "5627  005628  2005-12.txt  inflacion       2        26"
      ]
     },
     "execution_count": 17,
     "metadata": {},
     "output_type": "execute_result"
    }
   ],
   "source": [
    "# Estadísticas del corpus\n",
    "stats = corpus.corpus_stats()\n",
    "stats.tail()"
   ]
  },
  {
   "cell_type": "code",
   "execution_count": 18,
   "metadata": {},
   "outputs": [
    {
     "data": {
      "text/html": [
       "<div>\n",
       "<style scoped>\n",
       "    .dataframe tbody tr th:only-of-type {\n",
       "        vertical-align: middle;\n",
       "    }\n",
       "\n",
       "    .dataframe tbody tr th {\n",
       "        vertical-align: top;\n",
       "    }\n",
       "\n",
       "    .dataframe thead th {\n",
       "        text-align: right;\n",
       "    }\n",
       "</style>\n",
       "<table border=\"1\" class=\"dataframe\">\n",
       "  <thead>\n",
       "    <tr style=\"text-align: right;\">\n",
       "      <th></th>\n",
       "      <th>doc_id</th>\n",
       "      <th>sent_id</th>\n",
       "      <th>tok_id</th>\n",
       "      <th>word</th>\n",
       "      <th>pos</th>\n",
       "      <th>ok_token</th>\n",
       "      <th>deterioro</th>\n",
       "      <th>mejora</th>\n",
       "    </tr>\n",
       "  </thead>\n",
       "  <tbody>\n",
       "    <tr>\n",
       "      <th>173906</th>\n",
       "      <td>005628</td>\n",
       "      <td>2</td>\n",
       "      <td>12</td>\n",
       "      <td>esquema</td>\n",
       "      <td>NOUN</td>\n",
       "      <td>True</td>\n",
       "      <td>False</td>\n",
       "      <td>False</td>\n",
       "    </tr>\n",
       "    <tr>\n",
       "      <th>173907</th>\n",
       "      <td>005628</td>\n",
       "      <td>2</td>\n",
       "      <td>13</td>\n",
       "      <td>intervención</td>\n",
       "      <td>NOUN</td>\n",
       "      <td>True</td>\n",
       "      <td>False</td>\n",
       "      <td>False</td>\n",
       "    </tr>\n",
       "    <tr>\n",
       "      <th>173908</th>\n",
       "      <td>005628</td>\n",
       "      <td>2</td>\n",
       "      <td>14</td>\n",
       "      <td>discrecional</td>\n",
       "      <td>ADJ</td>\n",
       "      <td>True</td>\n",
       "      <td>False</td>\n",
       "      <td>False</td>\n",
       "    </tr>\n",
       "    <tr>\n",
       "      <th>173909</th>\n",
       "      <td>005628</td>\n",
       "      <td>2</td>\n",
       "      <td>15</td>\n",
       "      <td>mercado</td>\n",
       "      <td>NOUN</td>\n",
       "      <td>True</td>\n",
       "      <td>False</td>\n",
       "      <td>False</td>\n",
       "    </tr>\n",
       "    <tr>\n",
       "      <th>173910</th>\n",
       "      <td>005628</td>\n",
       "      <td>2</td>\n",
       "      <td>16</td>\n",
       "      <td>cambiario</td>\n",
       "      <td>ADJ</td>\n",
       "      <td>True</td>\n",
       "      <td>False</td>\n",
       "      <td>False</td>\n",
       "    </tr>\n",
       "  </tbody>\n",
       "</table>\n",
       "</div>"
      ],
      "text/plain": [
       "        doc_id  sent_id  tok_id          word   pos  ok_token  deterioro  \\\n",
       "173906  005628        2      12       esquema  NOUN      True      False   \n",
       "173907  005628        2      13  intervención  NOUN      True      False   \n",
       "173908  005628        2      14  discrecional   ADJ      True      False   \n",
       "173909  005628        2      15       mercado  NOUN      True      False   \n",
       "173910  005628        2      16     cambiario   ADJ      True      False   \n",
       "\n",
       "        mejora  \n",
       "173906   False  \n",
       "173907   False  \n",
       "173908   False  \n",
       "173909   False  \n",
       "173910   False  "
      ]
     },
     "execution_count": 18,
     "metadata": {},
     "output_type": "execute_result"
    }
   ],
   "source": [
    "# Estadísticas de tokens\n",
    "tokens = corpus.corpus_tokens()\n",
    "tokens.tail()"
   ]
  },
  {
   "cell_type": "code",
   "execution_count": 19,
   "metadata": {},
   "outputs": [
    {
     "data": {
      "text/html": [
       "<div>\n",
       "<style scoped>\n",
       "    .dataframe tbody tr th:only-of-type {\n",
       "        vertical-align: middle;\n",
       "    }\n",
       "\n",
       "    .dataframe tbody tr th {\n",
       "        vertical-align: top;\n",
       "    }\n",
       "\n",
       "    .dataframe thead th {\n",
       "        text-align: right;\n",
       "    }\n",
       "</style>\n",
       "<table border=\"1\" class=\"dataframe\">\n",
       "  <thead>\n",
       "    <tr style=\"text-align: right;\">\n",
       "      <th></th>\n",
       "      <th>doc_id</th>\n",
       "      <th>sent_id</th>\n",
       "      <th>tok_id</th>\n",
       "      <th>word</th>\n",
       "    </tr>\n",
       "  </thead>\n",
       "  <tbody>\n",
       "    <tr>\n",
       "      <th>0</th>\n",
       "      <td>000001</td>\n",
       "      <td>1</td>\n",
       "      <td>1</td>\n",
       "      <td>términos</td>\n",
       "    </tr>\n",
       "    <tr>\n",
       "      <th>1</th>\n",
       "      <td>000001</td>\n",
       "      <td>1</td>\n",
       "      <td>2</td>\n",
       "      <td>referencia</td>\n",
       "    </tr>\n",
       "    <tr>\n",
       "      <th>2</th>\n",
       "      <td>000001</td>\n",
       "      <td>1</td>\n",
       "      <td>3</td>\n",
       "      <td>decisiones</td>\n",
       "    </tr>\n",
       "    <tr>\n",
       "      <th>3</th>\n",
       "      <td>000001</td>\n",
       "      <td>1</td>\n",
       "      <td>4</td>\n",
       "      <td>política_monetaria</td>\n",
       "    </tr>\n",
       "    <tr>\n",
       "      <th>4</th>\n",
       "      <td>000001</td>\n",
       "      <td>1</td>\n",
       "      <td>5</td>\n",
       "      <td>junta_directiva_banco_república</td>\n",
       "    </tr>\n",
       "    <tr>\n",
       "      <th>5</th>\n",
       "      <td>000001</td>\n",
       "      <td>1</td>\n",
       "      <td>6</td>\n",
       "      <td>periódicamente</td>\n",
       "    </tr>\n",
       "    <tr>\n",
       "      <th>6</th>\n",
       "      <td>000001</td>\n",
       "      <td>1</td>\n",
       "      <td>7</td>\n",
       "      <td>análisis</td>\n",
       "    </tr>\n",
       "    <tr>\n",
       "      <th>7</th>\n",
       "      <td>000001</td>\n",
       "      <td>1</td>\n",
       "      <td>8</td>\n",
       "      <td>detallado</td>\n",
       "    </tr>\n",
       "    <tr>\n",
       "      <th>8</th>\n",
       "      <td>000001</td>\n",
       "      <td>1</td>\n",
       "      <td>9</td>\n",
       "      <td>resultados</td>\n",
       "    </tr>\n",
       "    <tr>\n",
       "      <th>9</th>\n",
       "      <td>000001</td>\n",
       "      <td>1</td>\n",
       "      <td>10</td>\n",
       "      <td>inflación</td>\n",
       "    </tr>\n",
       "  </tbody>\n",
       "</table>\n",
       "</div>"
      ],
      "text/plain": [
       "   doc_id  sent_id  tok_id                             word\n",
       "0  000001        1       1                         términos\n",
       "1  000001        1       2                       referencia\n",
       "2  000001        1       3                       decisiones\n",
       "3  000001        1       4               política_monetaria\n",
       "4  000001        1       5  junta_directiva_banco_república\n",
       "5  000001        1       6                   periódicamente\n",
       "6  000001        1       7                         análisis\n",
       "7  000001        1       8                        detallado\n",
       "8  000001        1       9                       resultados\n",
       "9  000001        1      10                        inflación"
      ]
     },
     "execution_count": 19,
     "metadata": {},
     "output_type": "execute_result"
    }
   ],
   "source": [
    "con_ngrams = corpus.corpus_ngramed()\n",
    "con_ngrams.head(10)"
   ]
  },
  {
   "cell_type": "code",
   "execution_count": 20,
   "metadata": {},
   "outputs": [
    {
     "data": {
      "text/html": [
       "<div>\n",
       "<style scoped>\n",
       "    .dataframe tbody tr th:only-of-type {\n",
       "        vertical-align: middle;\n",
       "    }\n",
       "\n",
       "    .dataframe tbody tr th {\n",
       "        vertical-align: top;\n",
       "    }\n",
       "\n",
       "    .dataframe thead th {\n",
       "        text-align: right;\n",
       "    }\n",
       "</style>\n",
       "<table border=\"1\" class=\"dataframe\">\n",
       "  <thead>\n",
       "    <tr style=\"text-align: right;\">\n",
       "      <th></th>\n",
       "      <th>doc_id</th>\n",
       "      <th>sent_id</th>\n",
       "      <th>ok_span</th>\n",
       "      <th>ok_token</th>\n",
       "      <th>deterioro</th>\n",
       "      <th>mejora</th>\n",
       "    </tr>\n",
       "  </thead>\n",
       "  <tbody>\n",
       "    <tr>\n",
       "      <th>0</th>\n",
       "      <td>000001</td>\n",
       "      <td>1</td>\n",
       "      <td>True</td>\n",
       "      <td>18</td>\n",
       "      <td>0</td>\n",
       "      <td>0</td>\n",
       "    </tr>\n",
       "    <tr>\n",
       "      <th>1</th>\n",
       "      <td>000002</td>\n",
       "      <td>1</td>\n",
       "      <td>True</td>\n",
       "      <td>17</td>\n",
       "      <td>0</td>\n",
       "      <td>0</td>\n",
       "    </tr>\n",
       "    <tr>\n",
       "      <th>2</th>\n",
       "      <td>000003</td>\n",
       "      <td>1</td>\n",
       "      <td>True</td>\n",
       "      <td>17</td>\n",
       "      <td>0</td>\n",
       "      <td>0</td>\n",
       "    </tr>\n",
       "    <tr>\n",
       "      <th>3</th>\n",
       "      <td>000003</td>\n",
       "      <td>2</td>\n",
       "      <td>True</td>\n",
       "      <td>9</td>\n",
       "      <td>0</td>\n",
       "      <td>0</td>\n",
       "    </tr>\n",
       "    <tr>\n",
       "      <th>4</th>\n",
       "      <td>000004</td>\n",
       "      <td>1</td>\n",
       "      <td>True</td>\n",
       "      <td>13</td>\n",
       "      <td>0</td>\n",
       "      <td>0</td>\n",
       "    </tr>\n",
       "    <tr>\n",
       "      <th>5</th>\n",
       "      <td>000005</td>\n",
       "      <td>1</td>\n",
       "      <td>True</td>\n",
       "      <td>8</td>\n",
       "      <td>0</td>\n",
       "      <td>0</td>\n",
       "    </tr>\n",
       "    <tr>\n",
       "      <th>6</th>\n",
       "      <td>000005</td>\n",
       "      <td>2</td>\n",
       "      <td>True</td>\n",
       "      <td>7</td>\n",
       "      <td>0</td>\n",
       "      <td>0</td>\n",
       "    </tr>\n",
       "    <tr>\n",
       "      <th>7</th>\n",
       "      <td>000005</td>\n",
       "      <td>3</td>\n",
       "      <td>True</td>\n",
       "      <td>15</td>\n",
       "      <td>0</td>\n",
       "      <td>0</td>\n",
       "    </tr>\n",
       "    <tr>\n",
       "      <th>8</th>\n",
       "      <td>000005</td>\n",
       "      <td>4</td>\n",
       "      <td>True</td>\n",
       "      <td>10</td>\n",
       "      <td>0</td>\n",
       "      <td>0</td>\n",
       "    </tr>\n",
       "    <tr>\n",
       "      <th>9</th>\n",
       "      <td>000005</td>\n",
       "      <td>5</td>\n",
       "      <td>True</td>\n",
       "      <td>18</td>\n",
       "      <td>0</td>\n",
       "      <td>1</td>\n",
       "    </tr>\n",
       "  </tbody>\n",
       "</table>\n",
       "</div>"
      ],
      "text/plain": [
       "   doc_id  sent_id  ok_span  ok_token  deterioro  mejora\n",
       "0  000001        1     True        18          0       0\n",
       "1  000002        1     True        17          0       0\n",
       "2  000003        1     True        17          0       0\n",
       "3  000003        2     True         9          0       0\n",
       "4  000004        1     True        13          0       0\n",
       "5  000005        1     True         8          0       0\n",
       "6  000005        2     True         7          0       0\n",
       "7  000005        3     True        15          0       0\n",
       "8  000005        4     True        10          0       0\n",
       "9  000005        5     True        18          0       1"
      ]
     },
     "execution_count": 20,
     "metadata": {},
     "output_type": "execute_result"
    }
   ],
   "source": [
    "stats_frases = corpus.frases_stats()\n",
    "stats_frases.head(10)"
   ]
  }
 ],
 "metadata": {
  "kernelspec": {
   "display_name": "Python 3",
   "language": "python",
   "name": "python3"
  },
  "language_info": {
   "codemirror_mode": {
    "name": "ipython",
    "version": 3
   },
   "file_extension": ".py",
   "mimetype": "text/x-python",
   "name": "python",
   "nbconvert_exporter": "python",
   "pygments_lexer": "ipython3",
   "version": "3.7.3"
  }
 },
 "nbformat": 4,
 "nbformat_minor": 2
}
